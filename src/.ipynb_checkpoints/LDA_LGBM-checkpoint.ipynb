{
 "cells": [
  {
   "cell_type": "code",
   "execution_count": 1,
   "metadata": {
    "collapsed": true
   },
   "outputs": [],
   "source": [
    "from sklearn.metrics import roc_auc_score,accuracy_score,classification_report\n",
    "from scipy.stats import ks_2samp\n",
    "from lightgbm import LGBMClassifier\n",
    "from sklearn.model_selection import train_test_split,cross_val_score\n",
    "from datetime import datetime\n",
    "from sklearn_pandas import DataFrameMapper\n",
    "from sklearn.preprocessing import LabelBinarizer\n",
    "from sklearn2pmml.decoration import CategoricalDomain, ContinuousDomain\n",
    "from sklearn2pmml import PMMLPipeline\n",
    "import time\n",
    "import pandas as pd\n",
    "import numpy as np\n",
    "from sklearn.externals import joblib\n",
    "import pickle\n",
    "# from project_demo.tools.optimize import *\n",
    "from project_demo.tools.evaluate import *\n",
    "%matplotlib inline\n",
    "from sklearn import metrics"
   ]
  },
  {
   "cell_type": "code",
   "execution_count": 247,
   "metadata": {
    "collapsed": true
   },
   "outputs": [],
   "source": [
    "def auc_ks(model, dataframemapper, trainset, testset, varlist,train_only=False):\n",
    "    if train_only == False:\n",
    "        df_test=dataframemapper.transform(testset)\n",
    "        predprob = pd.DataFrame(model.predict_proba(df_test[varlist])[:,1], columns = ['predprob'])\n",
    "        predprob['ytrue'] = testset['b'].values\n",
    "        auc = roc_auc_score(y_score=predprob['predprob'], y_true=predprob['ytrue'])\n",
    "        print('AUC On Test is: {}'.format(auc))\n",
    "        print('KS On Test is: {}'.format(cal_ks_scipy(predprob['predprob'], predprob['ytrue'])))\n",
    "        predprob_test = predprob\n",
    "    \n",
    "    df_train=dataframemapper.transform(trainset)\n",
    "    predprob = pd.DataFrame(model.predict_proba(df_train[varlist])[:,1], columns = ['predprob'])\n",
    "    predprob['ytrue'] = trainset['b'].values\n",
    "    auc = roc_auc_score(y_score=predprob['predprob'], y_true=predprob['ytrue'])\n",
    "    print('AUC On Train is: {}'.format(auc))\n",
    "    print('KS On Train is: {}'.format(cal_ks_scipy(predprob['predprob'], predprob['ytrue'])))\n",
    "    return predprob['predprob'], predprob['ytrue'],predprob_test['predprob'],predprob_test['ytrue']"
   ]
  },
  {
   "cell_type": "code",
   "execution_count": 248,
   "metadata": {
    "collapsed": true
   },
   "outputs": [],
   "source": [
    "def ks(df_score, df_good,fig_dir):\n",
    "    import pandas as pd\n",
    "    import numpy as np\n",
    "    import matplotlib.pyplot as plt\n",
    "    \n",
    "    df_score = pd.DataFrame(df_score)\n",
    "    df_good = pd.DataFrame(df_good) \n",
    "    df_score.columns = ['score']\n",
    "    df_good.columns = ['good']\n",
    "    df = pd.concat([df_score,df_good],axis=1)\n",
    "    \n",
    "    df['bad'] = 1 - df.good\n",
    "    bin = np.arange(0, 1.001, 0.05)\n",
    "    df['bucket'] = pd.cut(df.score, bin)  # 根据bin来划分区间\n",
    "   \n",
    "    grouped = df.groupby('bucket', as_index=False) # 统计在每个区间的样本量\n",
    "    agg1 = pd.DataFrame()\n",
    "    agg1['min_scr'] = grouped.min().score # 取得每个区间的最小值\n",
    "    agg1['max_scr'] = grouped.max().score\n",
    "    agg1['bads'] = grouped.sum().bad # 计算每个区间bad的总数量\n",
    "    agg1['goods'] = grouped.sum().good\n",
    "    \n",
    "    agg2 = (agg1.sort_values(['min_scr'])).reset_index(drop=True) # 根据区间最小值排序\n",
    "    agg2['bad_cum_rate'] = np.round((agg2.bads / df.bad.sum()).cumsum(), 4) # 计算bad样本累计概率\n",
    "    agg2['good_cum_rate'] = np.round((agg2.goods / df.good.sum()).cumsum(), 4) \n",
    "    agg2['ks'] = abs(np.round(((agg2.bads / df.bad.sum()).cumsum() - (agg2.goods / df.good.sum()).cumsum()), 4)) # 计算bad和good累计概率之差的绝对值\n",
    "    ks = agg2.ks.max()  # 求出ks\n",
    "    \n",
    "    plt.figure(figsize=(8, 4))  # 创建绘图对象\n",
    "    plt.plot(agg2.min_scr, agg2.bad_cum_rate, \"g-\", linewidth=1)  # 在当前绘图对象绘图（X轴，Y轴，蓝色虚线，线宽度）\n",
    "    plt.plot(agg2.min_scr, agg2.good_cum_rate, \"b-\", linewidth=1)\n",
    "    \n",
    "    x_abline = agg2['min_scr'][agg2['ks'] == agg2['ks'].max()] # ks最大的min_scr\n",
    "    y_abline1 = agg2['bad_cum_rate'][agg2['ks'] == agg2['ks'].max()] # ks最大时bad_cum_rate\n",
    "    y_abline2 = agg2['good_cum_rate'][agg2['ks'] == agg2['ks'].max()]\n",
    "    plt.fill_between(x_abline, y_abline1, y_abline2, color = \"red\",linewidth=2)    \n",
    "    \n",
    "    sub = \"%s%s\"%('ks = ',ks)\n",
    "    plt.legend(title=sub,loc='lower right')\n",
    "    plt.xlabel(\"Minimum score\")  # X轴标签\n",
    "    plt.ylabel(\"Cumulative percentage(%)\")  # Y轴标签\n",
    "    plt.title('KS chart')  # 图标题\n",
    "    plt.savefig(fig_dir)\n",
    "    plt.show()  # 显示图"
   ]
  },
  {
   "cell_type": "code",
   "execution_count": 249,
   "metadata": {
    "collapsed": true
   },
   "outputs": [],
   "source": [
    "def auc_ks_v(model, dataframemapper, trainset, testset, varlist,train_only=False):\n",
    "    if train_only == False:\n",
    "        df_test=dataframemapper.transform(testset)\n",
    "        predprob = pd.DataFrame(model.predict_proba(df_test[varlist])[:,1], columns = ['predprob'])\n",
    "        predprob['ytrue'] = testset['b'].values\n",
    "        auc = roc_auc_score(y_score=predprob['predprob'], y_true=predprob['ytrue'])\n",
    "        print('AUC On valid is: {}'.format(auc))\n",
    "        print('KS On valid is: {}'.format(cal_ks_scipy(predprob['predprob'], predprob['ytrue'])))\n",
    "    \n",
    "    df_train=dataframemapper.transform(trainset)\n",
    "    predprob = pd.DataFrame(model.predict_proba(df_train[varlist])[:,1], columns = ['predprob'])\n",
    "    predprob['ytrue'] = trainset['b'].values\n",
    "    auc = roc_auc_score(y_score=predprob['predprob'], y_true=predprob['ytrue'])\n",
    "    print('AUC On Train is: {}'.format(auc))\n",
    "    print('KS On Train is: {}'.format(cal_ks_scipy(predprob['predprob'], predprob['ytrue'])))"
   ]
  },
  {
   "cell_type": "code",
   "execution_count": 250,
   "metadata": {
    "collapsed": true
   },
   "outputs": [],
   "source": [
    "def continuous_categorical(dataset):\n",
    "    '''diff continuous and categorical\n",
    "        \n",
    "    '''\n",
    "    continuousDomain = [] # float int\n",
    "    categoricalDomain = [] # object bool category\n",
    "\n",
    "    for item in dataset.columns:\n",
    "        if (dataset[item].dtypes == object)| (dataset[item].dtypes == bool):\n",
    "            categoricalDomain.append(item)\n",
    "            dataset[item] = dataset[item].astype(str)\n",
    "        elif item!='b':\n",
    "            continuousDomain.append(item)\n",
    "            dataset[item] = dataset[item]\n",
    "    print (categoricalDomain)\n",
    "    return continuousDomain,categoricalDomain"
   ]
  },
  {
   "cell_type": "code",
   "execution_count": 251,
   "metadata": {
    "collapsed": true
   },
   "outputs": [],
   "source": [
    "def eval_model_stability(proba_train, proba_validation, segment_cnt = 10,out_path=False):\n",
    "    \"\"\"\n",
    "    :param proba_train: 训练集预测概率\n",
    "    :param proba_validation: 验证集预测概率\n",
    "    :param segment_cnt:\n",
    "    :param out_path:\n",
    "    :return: 模型稳定性\n",
    "    \"\"\"\n",
    "    step = 1.0/segment_cnt\n",
    "    flag = 0.0\n",
    "    model_stability = []\n",
    "    len_train = len(proba_train)\n",
    "    len_validation = len(proba_validation)\n",
    "\n",
    "    columns = ['score_range','segment_train_percentage','segment_validation_percentage','difference',\n",
    "               'variance','ln_variance','stability_index']\n",
    "\n",
    "    while flag < 1.0:\n",
    "        temp = {}\n",
    "\n",
    "        score_range = '['+str(flag)+','+str(flag + step)+')'\n",
    "        segment_train_cnt = proba_train[(proba_train >= flag) & (proba_train < flag + step)].count()\n",
    "        segment_train_percentage = segment_train_cnt*1.0/len_train\n",
    "        segment_validation_cnt = proba_validation[(proba_validation >= flag) & (proba_validation < flag + step)].count()\n",
    "        segment_validation_percentage = segment_validation_cnt * 1.0 / len_validation\n",
    "        difference = segment_validation_percentage - segment_train_percentage\n",
    "        variance = float(segment_validation_percentage)/segment_train_percentage\n",
    "        ln_variance = variance\n",
    "        stability_index = difference * ln_variance\n",
    "\n",
    "        temp['score_range'] = score_range\n",
    "        temp['segment_train_percentage'] = segment_train_percentage[0]\n",
    "        temp['segment_validation_percentage'] = segment_validation_percentage[0]\n",
    "        temp['difference'] = difference[0]\n",
    "        temp['variance'] = variance[0]\n",
    "        temp['ln_variance'] = ln_variance[0]\n",
    "        temp['stability_index'] = stability_index[0]\n",
    "\n",
    "        model_stability.append(temp)\n",
    "        flag += step\n",
    "\n",
    "    model_stability = pd.DataFrame(model_stability,columns=columns)\n",
    "    if out_path:\n",
    "        file_name = out_path if isinstance(out_path, str) else None\n",
    "        model_stability.to_csv(file_name, index=False)\n",
    "\n",
    "    return model_stability"
   ]
  },
  {
   "cell_type": "code",
   "execution_count": 252,
   "metadata": {
    "collapsed": true
   },
   "outputs": [],
   "source": [
    "data = pd.read_csv(\"data/all_lda.csv\")"
   ]
  },
  {
   "cell_type": "code",
   "execution_count": 253,
   "metadata": {},
   "outputs": [
    {
     "data": {
      "text/plain": [
       "114218"
      ]
     },
     "execution_count": 253,
     "metadata": {},
     "output_type": "execute_result"
    }
   ],
   "source": [
    "len(data)"
   ]
  },
  {
   "cell_type": "code",
   "execution_count": 254,
   "metadata": {},
   "outputs": [
    {
     "data": {
      "text/html": [
       "<div>\n",
       "<style>\n",
       "    .dataframe thead tr:only-child th {\n",
       "        text-align: right;\n",
       "    }\n",
       "\n",
       "    .dataframe thead th {\n",
       "        text-align: left;\n",
       "    }\n",
       "\n",
       "    .dataframe tbody tr th {\n",
       "        vertical-align: top;\n",
       "    }\n",
       "</style>\n",
       "<table border=\"1\" class=\"dataframe\">\n",
       "  <thead>\n",
       "    <tr style=\"text-align: right;\">\n",
       "      <th></th>\n",
       "      <th>ugid</th>\n",
       "      <th>token_id_x</th>\n",
       "      <th>TO9</th>\n",
       "      <th>TO10</th>\n",
       "      <th>TO52</th>\n",
       "      <th>TO51</th>\n",
       "      <th>TO17</th>\n",
       "      <th>TO54</th>\n",
       "      <th>TO27</th>\n",
       "      <th>TO28</th>\n",
       "      <th>...</th>\n",
       "      <th>t_46</th>\n",
       "      <th>t_47</th>\n",
       "      <th>t_48</th>\n",
       "      <th>t_49</th>\n",
       "      <th>t_50</th>\n",
       "      <th>t_51</th>\n",
       "      <th>t_52</th>\n",
       "      <th>t_53</th>\n",
       "      <th>t_54</th>\n",
       "      <th>t_55</th>\n",
       "    </tr>\n",
       "  </thead>\n",
       "  <tbody>\n",
       "    <tr>\n",
       "      <th>0</th>\n",
       "      <td>00023820-A8FB-4D41-B32F-730DDF50A0D6</td>\n",
       "      <td>9d9d6e9fa578461baf4af42a89c0f18b1490688626618_21</td>\n",
       "      <td>2665</td>\n",
       "      <td>1196</td>\n",
       "      <td>81809</td>\n",
       "      <td>190207</td>\n",
       "      <td>1469</td>\n",
       "      <td>108398</td>\n",
       "      <td>227</td>\n",
       "      <td>62</td>\n",
       "      <td>...</td>\n",
       "      <td>0.105423</td>\n",
       "      <td>0.000000</td>\n",
       "      <td>0.011697</td>\n",
       "      <td>0.000000</td>\n",
       "      <td>0.022512</td>\n",
       "      <td>0.0</td>\n",
       "      <td>0.0</td>\n",
       "      <td>0.000000</td>\n",
       "      <td>0.000000</td>\n",
       "      <td>0.0</td>\n",
       "    </tr>\n",
       "    <tr>\n",
       "      <th>1</th>\n",
       "      <td>00024CEF-E433-4679-B85E-2237CF46A2B2</td>\n",
       "      <td>7d4e87d01f44479296e43124b4a979461488774175767_21</td>\n",
       "      <td>3672</td>\n",
       "      <td>2149</td>\n",
       "      <td>131490</td>\n",
       "      <td>234504</td>\n",
       "      <td>1523</td>\n",
       "      <td>103014</td>\n",
       "      <td>899</td>\n",
       "      <td>161</td>\n",
       "      <td>...</td>\n",
       "      <td>0.012968</td>\n",
       "      <td>0.000000</td>\n",
       "      <td>0.000000</td>\n",
       "      <td>0.102615</td>\n",
       "      <td>0.014539</td>\n",
       "      <td>0.0</td>\n",
       "      <td>0.0</td>\n",
       "      <td>0.016099</td>\n",
       "      <td>0.000000</td>\n",
       "      <td>0.0</td>\n",
       "    </tr>\n",
       "    <tr>\n",
       "      <th>2</th>\n",
       "      <td>00029D99-AF35-4F00-B807-26BC79D67644</td>\n",
       "      <td>0e12589f3754414789ffd45ee5281d351484010021705_21</td>\n",
       "      <td>1016</td>\n",
       "      <td>573</td>\n",
       "      <td>30339</td>\n",
       "      <td>55707</td>\n",
       "      <td>443</td>\n",
       "      <td>25368</td>\n",
       "      <td>133</td>\n",
       "      <td>0</td>\n",
       "      <td>...</td>\n",
       "      <td>0.000000</td>\n",
       "      <td>0.000000</td>\n",
       "      <td>0.000000</td>\n",
       "      <td>0.477374</td>\n",
       "      <td>0.000000</td>\n",
       "      <td>0.0</td>\n",
       "      <td>0.0</td>\n",
       "      <td>0.000000</td>\n",
       "      <td>0.000000</td>\n",
       "      <td>0.0</td>\n",
       "    </tr>\n",
       "    <tr>\n",
       "      <th>3</th>\n",
       "      <td>0002BE1A-3E99-48F4-9C9C-B075B9D85BA7</td>\n",
       "      <td>4e31ee0c90e34879b798d4fd69714eca1486560721411_21</td>\n",
       "      <td>2960</td>\n",
       "      <td>1381</td>\n",
       "      <td>105290</td>\n",
       "      <td>212868</td>\n",
       "      <td>1579</td>\n",
       "      <td>107578</td>\n",
       "      <td>603</td>\n",
       "      <td>171</td>\n",
       "      <td>...</td>\n",
       "      <td>0.000000</td>\n",
       "      <td>0.000000</td>\n",
       "      <td>0.000000</td>\n",
       "      <td>0.000000</td>\n",
       "      <td>0.201109</td>\n",
       "      <td>0.0</td>\n",
       "      <td>0.0</td>\n",
       "      <td>0.000000</td>\n",
       "      <td>0.000000</td>\n",
       "      <td>0.0</td>\n",
       "    </tr>\n",
       "    <tr>\n",
       "      <th>4</th>\n",
       "      <td>00044410-EB5A-4F23-B629-64570EE71897</td>\n",
       "      <td>5cd370d2a346471593434f67ac9a00011493171833156_21</td>\n",
       "      <td>3558</td>\n",
       "      <td>1410</td>\n",
       "      <td>142013</td>\n",
       "      <td>435017</td>\n",
       "      <td>2148</td>\n",
       "      <td>293004</td>\n",
       "      <td>739</td>\n",
       "      <td>196</td>\n",
       "      <td>...</td>\n",
       "      <td>0.000000</td>\n",
       "      <td>0.212417</td>\n",
       "      <td>0.000000</td>\n",
       "      <td>0.000000</td>\n",
       "      <td>0.000000</td>\n",
       "      <td>0.0</td>\n",
       "      <td>0.0</td>\n",
       "      <td>0.000000</td>\n",
       "      <td>0.179035</td>\n",
       "      <td>0.0</td>\n",
       "    </tr>\n",
       "  </tbody>\n",
       "</table>\n",
       "<p>5 rows × 950 columns</p>\n",
       "</div>"
      ],
      "text/plain": [
       "                                   ugid  \\\n",
       "0  00023820-A8FB-4D41-B32F-730DDF50A0D6   \n",
       "1  00024CEF-E433-4679-B85E-2237CF46A2B2   \n",
       "2  00029D99-AF35-4F00-B807-26BC79D67644   \n",
       "3  0002BE1A-3E99-48F4-9C9C-B075B9D85BA7   \n",
       "4  00044410-EB5A-4F23-B629-64570EE71897   \n",
       "\n",
       "                                         token_id_x   TO9  TO10    TO52  \\\n",
       "0  9d9d6e9fa578461baf4af42a89c0f18b1490688626618_21  2665  1196   81809   \n",
       "1  7d4e87d01f44479296e43124b4a979461488774175767_21  3672  2149  131490   \n",
       "2  0e12589f3754414789ffd45ee5281d351484010021705_21  1016   573   30339   \n",
       "3  4e31ee0c90e34879b798d4fd69714eca1486560721411_21  2960  1381  105290   \n",
       "4  5cd370d2a346471593434f67ac9a00011493171833156_21  3558  1410  142013   \n",
       "\n",
       "     TO51  TO17    TO54  TO27  TO28  ...       t_46      t_47      t_48  \\\n",
       "0  190207  1469  108398   227    62  ...   0.105423  0.000000  0.011697   \n",
       "1  234504  1523  103014   899   161  ...   0.012968  0.000000  0.000000   \n",
       "2   55707   443   25368   133     0  ...   0.000000  0.000000  0.000000   \n",
       "3  212868  1579  107578   603   171  ...   0.000000  0.000000  0.000000   \n",
       "4  435017  2148  293004   739   196  ...   0.000000  0.212417  0.000000   \n",
       "\n",
       "       t_49      t_50  t_51  t_52      t_53      t_54  t_55  \n",
       "0  0.000000  0.022512   0.0   0.0  0.000000  0.000000   0.0  \n",
       "1  0.102615  0.014539   0.0   0.0  0.016099  0.000000   0.0  \n",
       "2  0.477374  0.000000   0.0   0.0  0.000000  0.000000   0.0  \n",
       "3  0.000000  0.201109   0.0   0.0  0.000000  0.000000   0.0  \n",
       "4  0.000000  0.000000   0.0   0.0  0.000000  0.179035   0.0  \n",
       "\n",
       "[5 rows x 950 columns]"
      ]
     },
     "execution_count": 254,
     "metadata": {},
     "output_type": "execute_result"
    }
   ],
   "source": [
    "data.head(5)"
   ]
  },
  {
   "cell_type": "code",
   "execution_count": 202,
   "metadata": {
    "collapsed": true
   },
   "outputs": [],
   "source": [
    "pre_lda = pd.read_csv(\"tb_fliedata/pre_all_lda.csv\")"
   ]
  },
  {
   "cell_type": "code",
   "execution_count": 203,
   "metadata": {
    "collapsed": true
   },
   "outputs": [],
   "source": [
    "pre_lda=pre_lda.rename(columns={'target':'b'})"
   ]
  },
  {
   "cell_type": "code",
   "execution_count": 204,
   "metadata": {
    "collapsed": true
   },
   "outputs": [],
   "source": [
    "# pre_lda['target']"
   ]
  },
  {
   "cell_type": "code",
   "execution_count": 205,
   "metadata": {
    "collapsed": true
   },
   "outputs": [],
   "source": [
    "data = data.drop_duplicates(['ugid'])"
   ]
  },
  {
   "cell_type": "code",
   "execution_count": 92,
   "metadata": {
    "scrolled": true
   },
   "outputs": [
    {
     "data": {
      "text/html": [
       "<div>\n",
       "<style>\n",
       "    .dataframe thead tr:only-child th {\n",
       "        text-align: right;\n",
       "    }\n",
       "\n",
       "    .dataframe thead th {\n",
       "        text-align: left;\n",
       "    }\n",
       "\n",
       "    .dataframe tbody tr th {\n",
       "        vertical-align: top;\n",
       "    }\n",
       "</style>\n",
       "<table border=\"1\" class=\"dataframe\">\n",
       "  <thead>\n",
       "    <tr style=\"text-align: right;\">\n",
       "      <th></th>\n",
       "      <th>ugid</th>\n",
       "      <th>token_id_x</th>\n",
       "      <th>TO9</th>\n",
       "      <th>TO10</th>\n",
       "      <th>TO52</th>\n",
       "      <th>TO51</th>\n",
       "      <th>TO17</th>\n",
       "      <th>TO54</th>\n",
       "      <th>TO27</th>\n",
       "      <th>TO28</th>\n",
       "      <th>...</th>\n",
       "      <th>t_46</th>\n",
       "      <th>t_47</th>\n",
       "      <th>t_48</th>\n",
       "      <th>t_49</th>\n",
       "      <th>t_50</th>\n",
       "      <th>t_51</th>\n",
       "      <th>t_52</th>\n",
       "      <th>t_53</th>\n",
       "      <th>t_54</th>\n",
       "      <th>t_55</th>\n",
       "    </tr>\n",
       "  </thead>\n",
       "  <tbody>\n",
       "    <tr>\n",
       "      <th>0</th>\n",
       "      <td>00023820-A8FB-4D41-B32F-730DDF50A0D6</td>\n",
       "      <td>9d9d6e9fa578461baf4af42a89c0f18b1490688626618_21</td>\n",
       "      <td>2665</td>\n",
       "      <td>1196</td>\n",
       "      <td>81809</td>\n",
       "      <td>190207</td>\n",
       "      <td>1469</td>\n",
       "      <td>108398</td>\n",
       "      <td>227</td>\n",
       "      <td>62</td>\n",
       "      <td>...</td>\n",
       "      <td>0.105423</td>\n",
       "      <td>0.000000</td>\n",
       "      <td>0.011697</td>\n",
       "      <td>0.000000</td>\n",
       "      <td>0.022512</td>\n",
       "      <td>0.0</td>\n",
       "      <td>0.0</td>\n",
       "      <td>0.000000</td>\n",
       "      <td>0.000000</td>\n",
       "      <td>0.0</td>\n",
       "    </tr>\n",
       "    <tr>\n",
       "      <th>1</th>\n",
       "      <td>00024CEF-E433-4679-B85E-2237CF46A2B2</td>\n",
       "      <td>7d4e87d01f44479296e43124b4a979461488774175767_21</td>\n",
       "      <td>3672</td>\n",
       "      <td>2149</td>\n",
       "      <td>131490</td>\n",
       "      <td>234504</td>\n",
       "      <td>1523</td>\n",
       "      <td>103014</td>\n",
       "      <td>899</td>\n",
       "      <td>161</td>\n",
       "      <td>...</td>\n",
       "      <td>0.012968</td>\n",
       "      <td>0.000000</td>\n",
       "      <td>0.000000</td>\n",
       "      <td>0.102615</td>\n",
       "      <td>0.014539</td>\n",
       "      <td>0.0</td>\n",
       "      <td>0.0</td>\n",
       "      <td>0.016099</td>\n",
       "      <td>0.000000</td>\n",
       "      <td>0.0</td>\n",
       "    </tr>\n",
       "    <tr>\n",
       "      <th>2</th>\n",
       "      <td>00029D99-AF35-4F00-B807-26BC79D67644</td>\n",
       "      <td>0e12589f3754414789ffd45ee5281d351484010021705_21</td>\n",
       "      <td>1016</td>\n",
       "      <td>573</td>\n",
       "      <td>30339</td>\n",
       "      <td>55707</td>\n",
       "      <td>443</td>\n",
       "      <td>25368</td>\n",
       "      <td>133</td>\n",
       "      <td>0</td>\n",
       "      <td>...</td>\n",
       "      <td>0.000000</td>\n",
       "      <td>0.000000</td>\n",
       "      <td>0.000000</td>\n",
       "      <td>0.477374</td>\n",
       "      <td>0.000000</td>\n",
       "      <td>0.0</td>\n",
       "      <td>0.0</td>\n",
       "      <td>0.000000</td>\n",
       "      <td>0.000000</td>\n",
       "      <td>0.0</td>\n",
       "    </tr>\n",
       "    <tr>\n",
       "      <th>3</th>\n",
       "      <td>0002BE1A-3E99-48F4-9C9C-B075B9D85BA7</td>\n",
       "      <td>4e31ee0c90e34879b798d4fd69714eca1486560721411_21</td>\n",
       "      <td>2960</td>\n",
       "      <td>1381</td>\n",
       "      <td>105290</td>\n",
       "      <td>212868</td>\n",
       "      <td>1579</td>\n",
       "      <td>107578</td>\n",
       "      <td>603</td>\n",
       "      <td>171</td>\n",
       "      <td>...</td>\n",
       "      <td>0.000000</td>\n",
       "      <td>0.000000</td>\n",
       "      <td>0.000000</td>\n",
       "      <td>0.000000</td>\n",
       "      <td>0.201109</td>\n",
       "      <td>0.0</td>\n",
       "      <td>0.0</td>\n",
       "      <td>0.000000</td>\n",
       "      <td>0.000000</td>\n",
       "      <td>0.0</td>\n",
       "    </tr>\n",
       "    <tr>\n",
       "      <th>4</th>\n",
       "      <td>00044410-EB5A-4F23-B629-64570EE71897</td>\n",
       "      <td>5cd370d2a346471593434f67ac9a00011493171833156_21</td>\n",
       "      <td>3558</td>\n",
       "      <td>1410</td>\n",
       "      <td>142013</td>\n",
       "      <td>435017</td>\n",
       "      <td>2148</td>\n",
       "      <td>293004</td>\n",
       "      <td>739</td>\n",
       "      <td>196</td>\n",
       "      <td>...</td>\n",
       "      <td>0.000000</td>\n",
       "      <td>0.212417</td>\n",
       "      <td>0.000000</td>\n",
       "      <td>0.000000</td>\n",
       "      <td>0.000000</td>\n",
       "      <td>0.0</td>\n",
       "      <td>0.0</td>\n",
       "      <td>0.000000</td>\n",
       "      <td>0.179035</td>\n",
       "      <td>0.0</td>\n",
       "    </tr>\n",
       "  </tbody>\n",
       "</table>\n",
       "<p>5 rows × 950 columns</p>\n",
       "</div>"
      ],
      "text/plain": [
       "                                   ugid  \\\n",
       "0  00023820-A8FB-4D41-B32F-730DDF50A0D6   \n",
       "1  00024CEF-E433-4679-B85E-2237CF46A2B2   \n",
       "2  00029D99-AF35-4F00-B807-26BC79D67644   \n",
       "3  0002BE1A-3E99-48F4-9C9C-B075B9D85BA7   \n",
       "4  00044410-EB5A-4F23-B629-64570EE71897   \n",
       "\n",
       "                                         token_id_x   TO9  TO10    TO52  \\\n",
       "0  9d9d6e9fa578461baf4af42a89c0f18b1490688626618_21  2665  1196   81809   \n",
       "1  7d4e87d01f44479296e43124b4a979461488774175767_21  3672  2149  131490   \n",
       "2  0e12589f3754414789ffd45ee5281d351484010021705_21  1016   573   30339   \n",
       "3  4e31ee0c90e34879b798d4fd69714eca1486560721411_21  2960  1381  105290   \n",
       "4  5cd370d2a346471593434f67ac9a00011493171833156_21  3558  1410  142013   \n",
       "\n",
       "     TO51  TO17    TO54  TO27  TO28  ...       t_46      t_47      t_48  \\\n",
       "0  190207  1469  108398   227    62  ...   0.105423  0.000000  0.011697   \n",
       "1  234504  1523  103014   899   161  ...   0.012968  0.000000  0.000000   \n",
       "2   55707   443   25368   133     0  ...   0.000000  0.000000  0.000000   \n",
       "3  212868  1579  107578   603   171  ...   0.000000  0.000000  0.000000   \n",
       "4  435017  2148  293004   739   196  ...   0.000000  0.212417  0.000000   \n",
       "\n",
       "       t_49      t_50  t_51  t_52      t_53      t_54  t_55  \n",
       "0  0.000000  0.022512   0.0   0.0  0.000000  0.000000   0.0  \n",
       "1  0.102615  0.014539   0.0   0.0  0.016099  0.000000   0.0  \n",
       "2  0.477374  0.000000   0.0   0.0  0.000000  0.000000   0.0  \n",
       "3  0.000000  0.201109   0.0   0.0  0.000000  0.000000   0.0  \n",
       "4  0.000000  0.000000   0.0   0.0  0.000000  0.179035   0.0  \n",
       "\n",
       "[5 rows x 950 columns]"
      ]
     },
     "execution_count": 92,
     "metadata": {},
     "output_type": "execute_result"
    }
   ],
   "source": [
    "data.head()"
   ]
  },
  {
   "cell_type": "code",
   "execution_count": 206,
   "metadata": {
    "collapsed": true
   },
   "outputs": [],
   "source": [
    "delete_list_2 = ['ugid','token_id_x','first_trans_time']"
   ]
  },
  {
   "cell_type": "code",
   "execution_count": 207,
   "metadata": {
    "collapsed": true
   },
   "outputs": [],
   "source": [
    "d = ['crawler_time','token_id_y']"
   ]
  },
  {
   "cell_type": "code",
   "execution_count": 208,
   "metadata": {
    "collapsed": true
   },
   "outputs": [],
   "source": [
    "d1 = ['ugid', 'token_id_x', 'crawler_time_x', 'ugid_y', 'crawler_time_y', 'last_decision_tm', 'token_id_y', 'token_id']"
   ]
  },
  {
   "cell_type": "code",
   "execution_count": 209,
   "metadata": {
    "collapsed": true
   },
   "outputs": [],
   "source": [
    "data =data.drop(delete_list_2,axis=1)"
   ]
  },
  {
   "cell_type": "code",
   "execution_count": 210,
   "metadata": {
    "collapsed": true
   },
   "outputs": [],
   "source": [
    "data =data.drop(d,axis=1)"
   ]
  },
  {
   "cell_type": "code",
   "execution_count": 211,
   "metadata": {
    "collapsed": true
   },
   "outputs": [],
   "source": [
    "data = data.drop(a,axis=1)"
   ]
  },
  {
   "cell_type": "code",
   "execution_count": 212,
   "metadata": {
    "collapsed": true
   },
   "outputs": [],
   "source": [
    "pre_lda =pre_lda.drop(d1,axis=1)\n",
    "pre_lda = pre_lda.drop(a,axis=1)"
   ]
  },
  {
   "cell_type": "code",
   "execution_count": 213,
   "metadata": {
    "collapsed": true
   },
   "outputs": [],
   "source": [
    "data.replace(np.inf, np.nan, inplace=True)\n",
    "data.replace(-99998,np.nan, inplace=True)\n",
    "data.replace(-99999976,np.nan, inplace=True)\n",
    "data.replace(-9999979,np.nan, inplace=True)\n",
    "data.replace(-9999976,np.nan, inplace=True)\n",
    "data.replace(-999973,np.nan, inplace=True)\n",
    "data.replace(-999976,np.nan, inplace=True)\n",
    "data.replace(9999,np.nan, inplace=True)"
   ]
  },
  {
   "cell_type": "code",
   "execution_count": 214,
   "metadata": {
    "collapsed": true
   },
   "outputs": [],
   "source": [
    "pre_lda.replace(np.inf, np.nan, inplace=True)\n",
    "pre_lda.replace(-99998,np.nan, inplace=True)\n",
    "pre_lda.replace(-99999976,np.nan, inplace=True)\n",
    "pre_lda.replace(-9999979,np.nan, inplace=True)\n",
    "pre_lda.replace(-9999976,np.nan, inplace=True)\n",
    "pre_lda.replace(-999973,np.nan, inplace=True)\n",
    "pre_lda.replace(-999976,np.nan, inplace=True)\n",
    "pre_lda.replace(9999,np.nan, inplace=True)"
   ]
  },
  {
   "cell_type": "code",
   "execution_count": 215,
   "metadata": {
    "collapsed": true
   },
   "outputs": [],
   "source": [
    "data = data.replace('01. 坏',0)\n",
    "data = data.replace('05. 好',1)"
   ]
  },
  {
   "cell_type": "code",
   "execution_count": 216,
   "metadata": {},
   "outputs": [
    {
     "data": {
      "text/plain": [
       "114218"
      ]
     },
     "execution_count": 216,
     "metadata": {},
     "output_type": "execute_result"
    }
   ],
   "source": [
    "len(data)"
   ]
  },
  {
   "cell_type": "code",
   "execution_count": 218,
   "metadata": {},
   "outputs": [
    {
     "name": "stdout",
     "output_type": "stream",
     "text": [
      "[]\n"
     ]
    }
   ],
   "source": [
    "continuousDomain, categoricalDomain = continuous_categorical(data)"
   ]
  },
  {
   "cell_type": "code",
   "execution_count": 219,
   "metadata": {
    "collapsed": true
   },
   "outputs": [],
   "source": [
    "dfm = DataFrameMapper([(c, [CategoricalDomain(invalid_value_treatment = 'as_missing',\n",
    "                                              missing_value_treatment = 'as_value',\n",
    "                                              missing_value_replacement = 'N/A'), LabelBinarizer()])\n",
    "                       for c in categoricalDomain] \n",
    "                      + \n",
    "                     [(c, [ContinuousDomain(invalid_value_treatment = 'as_missing',\n",
    "                                                     missing_value_treatment = 'as_value',\n",
    "                                                     missing_value_replacement = -1)])\n",
    "                      for c in continuousDomain]\n",
    "                      ,df_out = True)"
   ]
  },
  {
   "cell_type": "code",
   "execution_count": 220,
   "metadata": {},
   "outputs": [
    {
     "name": "stdout",
     "output_type": "stream",
     "text": [
      "CPU times: user 8min 46s, sys: 268 ms, total: 8min 46s\n",
      "Wall time: 8min 46s\n"
     ]
    },
    {
     "data": {
      "text/plain": [
       "DataFrameMapper(default=False, df_out=True,\n",
       "        features=[('TO9', [ContinuousDomain()]), ('TO10', [ContinuousDomain()]), ('TO52', [ContinuousDomain()]), ('TO51', [ContinuousDomain()]), ('TO17', [ContinuousDomain()]), ('TO54', [ContinuousDomain()]), ('TO27', [ContinuousDomain()]), ('TO28', [ContinuousDomain()]), ('TO29', [ContinuousDomain()]), ('T...17_y', [ContinuousDomain()]), ('TO418_y', [ContinuousDomain()]), ('token_id', [ContinuousDomain()])],\n",
       "        input_df=False, sparse=False)"
      ]
     },
     "execution_count": 220,
     "metadata": {},
     "output_type": "execute_result"
    }
   ],
   "source": [
    "%%time\n",
    "dfm.fit(data)"
   ]
  },
  {
   "cell_type": "code",
   "execution_count": 221,
   "metadata": {},
   "outputs": [
    {
     "data": {
      "text/plain": [
       "889"
      ]
     },
     "execution_count": 221,
     "metadata": {},
     "output_type": "execute_result"
    }
   ],
   "source": [
    "# len(data.columns)\n",
    "# ==\n",
    "len(pre_lda.columns)"
   ]
  },
  {
   "cell_type": "code",
   "execution_count": 222,
   "metadata": {
    "collapsed": true
   },
   "outputs": [],
   "source": [
    "pre_lda['token_id']=0"
   ]
  },
  {
   "cell_type": "code",
   "execution_count": 223,
   "metadata": {
    "collapsed": true
   },
   "outputs": [],
   "source": [
    "data=data[data.b.isin([0,1])]"
   ]
  },
  {
   "cell_type": "code",
   "execution_count": 224,
   "metadata": {},
   "outputs": [
    {
     "data": {
      "text/plain": [
       "0         0\n",
       "1         0\n",
       "2         1\n",
       "3         0\n",
       "4         1\n",
       "5         1\n",
       "6         1\n",
       "7         1\n",
       "8         1\n",
       "9         0\n",
       "10        1\n",
       "11        0\n",
       "12        1\n",
       "13        1\n",
       "14        1\n",
       "15        0\n",
       "16        0\n",
       "17        0\n",
       "18        0\n",
       "19        0\n",
       "20        1\n",
       "21        1\n",
       "22        1\n",
       "23        0\n",
       "24        0\n",
       "25        1\n",
       "26        1\n",
       "27        1\n",
       "28        0\n",
       "29        1\n",
       "         ..\n",
       "114188    0\n",
       "114189    1\n",
       "114190    0\n",
       "114191    1\n",
       "114192    0\n",
       "114193    1\n",
       "114194    0\n",
       "114195    0\n",
       "114196    1\n",
       "114197    1\n",
       "114198    0\n",
       "114199    0\n",
       "114200    1\n",
       "114201    1\n",
       "114202    0\n",
       "114203    1\n",
       "114204    0\n",
       "114205    1\n",
       "114206    0\n",
       "114207    0\n",
       "114208    1\n",
       "114209    0\n",
       "114210    1\n",
       "114211    0\n",
       "114212    1\n",
       "114213    1\n",
       "114214    1\n",
       "114215    0\n",
       "114216    0\n",
       "114217    0\n",
       "Name: b, Length: 114218, dtype: int64"
      ]
     },
     "execution_count": 224,
     "metadata": {},
     "output_type": "execute_result"
    }
   ],
   "source": [
    "data['b']"
   ]
  },
  {
   "cell_type": "code",
   "execution_count": 225,
   "metadata": {
    "collapsed": true
   },
   "outputs": [],
   "source": [
    "train, test = train_test_split(data, test_size=0.2, random_state=2018)#调用sklearn中的方法，注意指定随机种子，保证结果可以复线\n",
    "\n",
    "# print(train.shape)\n",
    "# print(test.shape)\n",
    "# print(X_train.shape)\n",
    "# print(train.target.value_counts())#查看训练集好坏分布\n",
    "# print(test.target.value_counts())#查看测试集好坏分布"
   ]
  },
  {
   "cell_type": "code",
   "execution_count": 226,
   "metadata": {
    "collapsed": true
   },
   "outputs": [],
   "source": [
    "X_train = dfm.transform(train)"
   ]
  },
  {
   "cell_type": "code",
   "execution_count": 227,
   "metadata": {
    "collapsed": true
   },
   "outputs": [],
   "source": [
    "y_train = train['b']"
   ]
  },
  {
   "cell_type": "code",
   "execution_count": 228,
   "metadata": {},
   "outputs": [
    {
     "ename": "ValueError",
     "evalue": "labels ['b'] not contained in axis",
     "output_type": "error",
     "traceback": [
      "\u001b[0;31m---------------------------------------------------------------------------\u001b[0m",
      "\u001b[0;31mValueError\u001b[0m                                Traceback (most recent call last)",
      "\u001b[0;32m<ipython-input-228-9886005e9e71>\u001b[0m in \u001b[0;36m<module>\u001b[0;34m()\u001b[0m\n\u001b[0;32m----> 1\u001b[0;31m \u001b[0mX_train\u001b[0m \u001b[0;34m=\u001b[0m \u001b[0mX_train\u001b[0m\u001b[0;34m.\u001b[0m\u001b[0mdrop\u001b[0m\u001b[0;34m(\u001b[0m\u001b[0;34m\"b\"\u001b[0m\u001b[0;34m,\u001b[0m\u001b[0maxis\u001b[0m\u001b[0;34m=\u001b[0m\u001b[0;36m1\u001b[0m\u001b[0;34m)\u001b[0m\u001b[0;34m\u001b[0m\u001b[0m\n\u001b[0m",
      "\u001b[0;32m/opt/anaconda3/lib/python3.6/site-packages/pandas/core/generic.py\u001b[0m in \u001b[0;36mdrop\u001b[0;34m(self, labels, axis, level, inplace, errors)\u001b[0m\n\u001b[1;32m   2048\u001b[0m                 \u001b[0mnew_axis\u001b[0m \u001b[0;34m=\u001b[0m \u001b[0maxis\u001b[0m\u001b[0;34m.\u001b[0m\u001b[0mdrop\u001b[0m\u001b[0;34m(\u001b[0m\u001b[0mlabels\u001b[0m\u001b[0;34m,\u001b[0m \u001b[0mlevel\u001b[0m\u001b[0;34m=\u001b[0m\u001b[0mlevel\u001b[0m\u001b[0;34m,\u001b[0m \u001b[0merrors\u001b[0m\u001b[0;34m=\u001b[0m\u001b[0merrors\u001b[0m\u001b[0;34m)\u001b[0m\u001b[0;34m\u001b[0m\u001b[0m\n\u001b[1;32m   2049\u001b[0m             \u001b[0;32melse\u001b[0m\u001b[0;34m:\u001b[0m\u001b[0;34m\u001b[0m\u001b[0m\n\u001b[0;32m-> 2050\u001b[0;31m                 \u001b[0mnew_axis\u001b[0m \u001b[0;34m=\u001b[0m \u001b[0maxis\u001b[0m\u001b[0;34m.\u001b[0m\u001b[0mdrop\u001b[0m\u001b[0;34m(\u001b[0m\u001b[0mlabels\u001b[0m\u001b[0;34m,\u001b[0m \u001b[0merrors\u001b[0m\u001b[0;34m=\u001b[0m\u001b[0merrors\u001b[0m\u001b[0;34m)\u001b[0m\u001b[0;34m\u001b[0m\u001b[0m\n\u001b[0m\u001b[1;32m   2051\u001b[0m             \u001b[0mdropped\u001b[0m \u001b[0;34m=\u001b[0m \u001b[0mself\u001b[0m\u001b[0;34m.\u001b[0m\u001b[0mreindex\u001b[0m\u001b[0;34m(\u001b[0m\u001b[0;34m**\u001b[0m\u001b[0;34m{\u001b[0m\u001b[0maxis_name\u001b[0m\u001b[0;34m:\u001b[0m \u001b[0mnew_axis\u001b[0m\u001b[0;34m}\u001b[0m\u001b[0;34m)\u001b[0m\u001b[0;34m\u001b[0m\u001b[0m\n\u001b[1;32m   2052\u001b[0m             \u001b[0;32mtry\u001b[0m\u001b[0;34m:\u001b[0m\u001b[0;34m\u001b[0m\u001b[0m\n",
      "\u001b[0;32m/opt/anaconda3/lib/python3.6/site-packages/pandas/core/indexes/base.py\u001b[0m in \u001b[0;36mdrop\u001b[0;34m(self, labels, errors)\u001b[0m\n\u001b[1;32m   3573\u001b[0m             \u001b[0;32mif\u001b[0m \u001b[0merrors\u001b[0m \u001b[0;34m!=\u001b[0m \u001b[0;34m'ignore'\u001b[0m\u001b[0;34m:\u001b[0m\u001b[0;34m\u001b[0m\u001b[0m\n\u001b[1;32m   3574\u001b[0m                 raise ValueError('labels %s not contained in axis' %\n\u001b[0;32m-> 3575\u001b[0;31m                                  labels[mask])\n\u001b[0m\u001b[1;32m   3576\u001b[0m             \u001b[0mindexer\u001b[0m \u001b[0;34m=\u001b[0m \u001b[0mindexer\u001b[0m\u001b[0;34m[\u001b[0m\u001b[0;34m~\u001b[0m\u001b[0mmask\u001b[0m\u001b[0;34m]\u001b[0m\u001b[0;34m\u001b[0m\u001b[0m\n\u001b[1;32m   3577\u001b[0m         \u001b[0;32mreturn\u001b[0m \u001b[0mself\u001b[0m\u001b[0;34m.\u001b[0m\u001b[0mdelete\u001b[0m\u001b[0;34m(\u001b[0m\u001b[0mindexer\u001b[0m\u001b[0;34m)\u001b[0m\u001b[0;34m\u001b[0m\u001b[0m\n",
      "\u001b[0;31mValueError\u001b[0m: labels ['b'] not contained in axis"
     ]
    }
   ],
   "source": [
    "X_train = X_train.drop(\"b\",axis=1)"
   ]
  },
  {
   "cell_type": "code",
   "execution_count": null,
   "metadata": {
    "collapsed": true
   },
   "outputs": [],
   "source": []
  },
  {
   "cell_type": "code",
   "execution_count": 145,
   "metadata": {
    "collapsed": true
   },
   "outputs": [],
   "source": [
    "# X_train['b']"
   ]
  },
  {
   "cell_type": "code",
   "execution_count": 229,
   "metadata": {
    "scrolled": true
   },
   "outputs": [
    {
     "name": "stdout",
     "output_type": "stream",
     "text": [
      "(91374, 890)\n",
      "(22844, 890)\n",
      "(91374, 889)\n",
      "1    47552\n",
      "0    43822\n",
      "Name: b, dtype: int64\n",
      "1    11776\n",
      "0    11068\n",
      "Name: b, dtype: int64\n"
     ]
    }
   ],
   "source": [
    "print(train.shape)\n",
    "print(test.shape)\n",
    "print(X_train.shape)\n",
    "print(train.b.value_counts())#查看训练集好坏分布\n",
    "print(test.b.value_counts())#查看测试集好坏分布"
   ]
  },
  {
   "cell_type": "code",
   "execution_count": 230,
   "metadata": {},
   "outputs": [
    {
     "data": {
      "text/plain": [
       "Index(['TO9', 'TO10', 'TO52', 'TO51', 'TO17', 'TO54', 'TO27', 'TO28', 'TO29',\n",
       "       'TO34',\n",
       "       ...\n",
       "       'TB252', 'TB265', 'TB297', 'TB296', 'TO414_y', 'TO415_y', 'TO416_y',\n",
       "       'TO417_y', 'TO418_y', 'token_id'],\n",
       "      dtype='object', length=889)"
      ]
     },
     "execution_count": 230,
     "metadata": {},
     "output_type": "execute_result"
    }
   ],
   "source": [
    "varlist=X_train.columns\n",
    "varlist"
   ]
  },
  {
   "cell_type": "code",
   "execution_count": 231,
   "metadata": {
    "collapsed": true
   },
   "outputs": [],
   "source": [
    "# model = LGBMClassifier(boosting_type='gbdt', colsample_bytree=0.82622520164901361,\n",
    "#         drop_rate=0.5, is_unbalance=True,\n",
    "#         learning_rate=0.025, max_bin=4, max_depth=3,\n",
    "#         max_drop=50, min_child_samples=120, min_child_weight=3,\n",
    "#         min_split_gain=0.028, n_estimators=705, nthread=-1,\n",
    "#         num_leaves=128, objective='binary', reg_alpha=30, reg_lambda=150,\n",
    "#         scale_pos_weight=1, seed=27, sigmoid=1.0, silent=True,\n",
    "#         skip_drop=0.5, subsample=0.7, subsample_for_bin=30000,\n",
    "#         subsample_freq=3, uniform_drop=False, xgboost_dart_mode=False)"
   ]
  },
  {
   "cell_type": "code",
   "execution_count": 232,
   "metadata": {
    "collapsed": true
   },
   "outputs": [],
   "source": [
    "model = LGBMClassifier(boosting_type='gbdt', colsample_bytree=0.82622520164901361,\n",
    "        drop_rate=0.5, is_unbalance=True,\n",
    "        learning_rate=0.03, max_bin=10, max_depth=5,\n",
    "        max_drop=50, min_child_samples=1200, min_child_weight=4,\n",
    "        min_split_gain=0.01500339778285961, n_estimators=490, nthread=-1,\n",
    "        num_leaves=128, objective='binary', reg_alpha=20, reg_lambda=100,\n",
    "        scale_pos_weight=1, seed=27, sigmoid=1.0, silent=True,\n",
    "        skip_drop=0.5, subsample=0.7, subsample_for_bin=30000,\n",
    "        subsample_freq=3, uniform_drop=False, xgboost_dart_mode=False)"
   ]
  },
  {
   "cell_type": "code",
   "execution_count": 233,
   "metadata": {
    "collapsed": true
   },
   "outputs": [],
   "source": [
    "def modelWithCv(model, x_array, y_array, cv=5):\n",
    "    model.fit(x_array, y_array)\n",
    "    \n",
    "    dtrain_predictions = model.predict(x_array)\n",
    "    dtrain_predprob = model.predict_proba(x_array)[:,1]\n",
    "    \n",
    "    print(\"--AUC Score (Train): %f\" % roc_auc_score(y_array, dtrain_predprob))\n",
    "    print (\"class metrics:\")\n",
    "    print (metrics.classification_report(y_array, dtrain_predictions))\n",
    "    \n",
    "    cv_score = cross_val_score(model,x_array, y_array, cv=cv, scoring = 'roc_auc')\n",
    "    print(\"--CV Score : Mean - %.7g | Std - %.7g | Min - %.7g | Max - %.7g\" %(np.mean(cv_score), np.std(cv_score), np.min(cv_score), np.max(cv_score)))"
   ]
  },
  {
   "cell_type": "code",
   "execution_count": 234,
   "metadata": {
    "scrolled": false
   },
   "outputs": [
    {
     "name": "stderr",
     "output_type": "stream",
     "text": [
      "/opt/anaconda3/lib/python3.6/site-packages/sklearn/preprocessing/label.py:151: DeprecationWarning: The truth value of an empty array is ambiguous. Returning False, but in future this will result in an error. Use `array.size > 0` to check that an array is not empty.\n",
      "  if diff:\n"
     ]
    },
    {
     "name": "stdout",
     "output_type": "stream",
     "text": [
      "--AUC Score (Train): 0.753952\n",
      "class metrics:\n",
      "             precision    recall  f1-score   support\n",
      "\n",
      "          0       0.66      0.70      0.68     43822\n",
      "          1       0.71      0.67      0.69     47552\n",
      "\n",
      "avg / total       0.69      0.69      0.69     91374\n",
      "\n",
      "--CV Score : Mean - 0.7234873 | Std - 0.003529728 | Min - 0.7199575 | Max - 0.727017\n",
      "CPU times: user 6h 23min 47s, sys: 3min 43s, total: 6h 27min 31s\n",
      "Wall time: 18min 54s\n"
     ]
    }
   ],
   "source": [
    "%%time\n",
    "modelWithCv(model, X_train, y_train, 2)"
   ]
  },
  {
   "cell_type": "code",
   "execution_count": 235,
   "metadata": {
    "collapsed": true
   },
   "outputs": [],
   "source": [
    "# X_train"
   ]
  },
  {
   "cell_type": "code",
   "execution_count": 237,
   "metadata": {
    "scrolled": true
   },
   "outputs": [
    {
     "name": "stdout",
     "output_type": "stream",
     "text": [
      "AUC On Test is: 0.7290957222447008\n",
      "KS On Test is: 0.33546570680653975\n",
      "AUC On Train is: 0.7539524897552947\n",
      "KS On Train is: 0.3766426811575865\n"
     ]
    }
   ],
   "source": [
    "pro,true,test_pro,test_true = auc_ks(model, dfm, train, test, varlist)"
   ]
  },
  {
   "cell_type": "code",
   "execution_count": 42,
   "metadata": {
    "collapsed": true
   },
   "outputs": [],
   "source": [
    "ivobj = iv_pandas()\n"
   ]
  },
  {
   "cell_type": "code",
   "execution_count": 178,
   "metadata": {},
   "outputs": [
    {
     "data": {
      "text/plain": [
       "Index(['TO9', 'TO10', 'TO52', 'TO51', 'TO17', 'TO54', 'TO27', 'TO28', 'TO29',\n",
       "       'TO34',\n",
       "       ...\n",
       "       't_46', 't_47', 't_48', 't_49', 't_50', 't_51', 't_52', 't_53', 't_54',\n",
       "       't_55'],\n",
       "      dtype='object', length=944)"
      ]
     },
     "execution_count": 178,
     "metadata": {},
     "output_type": "execute_result"
    }
   ],
   "source": [
    "X_train.columns"
   ]
  },
  {
   "cell_type": "code",
   "execution_count": 180,
   "metadata": {
    "collapsed": true
   },
   "outputs": [],
   "source": [
    "list_for_iv = []\n",
    "for i in X_train.columns:\n",
    "    list_for_iv.append(i)"
   ]
  },
  {
   "cell_type": "code",
   "execution_count": 181,
   "metadata": {
    "collapsed": true
   },
   "outputs": [],
   "source": [
    "a = list_for_iv"
   ]
  },
  {
   "cell_type": "code",
   "execution_count": 189,
   "metadata": {
    "collapsed": true
   },
   "outputs": [],
   "source": [
    "a = [ 't_01','t_02','t_03','t_04','t_05','t_06','t_07','t_08','t_09','t_10','t_11','t_12','t_13','t_14','t_15','t_16','t_17','t_18','t_19',\n",
    " 't_20','t_21','t_22','t_23','t_24','t_25','t_26','t_27','t_28','t_29','t_30','t_31','t_32','t_33','t_34','t_35','t_36','t_37','t_38','t_39',\n",
    " 't_40','t_41','t_42','t_43','t_44','t_45','t_46','t_47','t_48','t_49','t_50','t_51','t_52','t_53','t_54','t_55']"
   ]
  },
  {
   "cell_type": "code",
   "execution_count": 190,
   "metadata": {},
   "outputs": [
    {
     "data": {
      "text/plain": [
       "['t_01',\n",
       " 't_02',\n",
       " 't_03',\n",
       " 't_04',\n",
       " 't_05',\n",
       " 't_06',\n",
       " 't_07',\n",
       " 't_08',\n",
       " 't_09',\n",
       " 't_10',\n",
       " 't_11',\n",
       " 't_12',\n",
       " 't_13',\n",
       " 't_14',\n",
       " 't_15',\n",
       " 't_16',\n",
       " 't_17',\n",
       " 't_18',\n",
       " 't_19',\n",
       " 't_20',\n",
       " 't_21',\n",
       " 't_22',\n",
       " 't_23',\n",
       " 't_24',\n",
       " 't_25',\n",
       " 't_26',\n",
       " 't_27',\n",
       " 't_28',\n",
       " 't_29',\n",
       " 't_30',\n",
       " 't_31',\n",
       " 't_32',\n",
       " 't_33',\n",
       " 't_34',\n",
       " 't_35',\n",
       " 't_36',\n",
       " 't_37',\n",
       " 't_38',\n",
       " 't_39',\n",
       " 't_40',\n",
       " 't_41',\n",
       " 't_42',\n",
       " 't_43',\n",
       " 't_44',\n",
       " 't_45',\n",
       " 't_46',\n",
       " 't_47',\n",
       " 't_48',\n",
       " 't_49',\n",
       " 't_50',\n",
       " 't_51',\n",
       " 't_52',\n",
       " 't_53',\n",
       " 't_54',\n",
       " 't_55']"
      ]
     },
     "execution_count": 190,
     "metadata": {},
     "output_type": "execute_result"
    }
   ],
   "source": [
    "a"
   ]
  },
  {
   "cell_type": "code",
   "execution_count": 197,
   "metadata": {
    "collapsed": true
   },
   "outputs": [],
   "source": [
    "woe,iv = ivobj.cal_woe_iv(pre_lda,a,'b',nsplit=10,event=1)"
   ]
  },
  {
   "cell_type": "code",
   "execution_count": 198,
   "metadata": {
    "collapsed": true
   },
   "outputs": [],
   "source": [
    "iv_1 = sorted(iv.items(),key = lambda x:x[1],reverse=True)"
   ]
  },
  {
   "cell_type": "code",
   "execution_count": 199,
   "metadata": {},
   "outputs": [
    {
     "data": {
      "text/plain": [
       "[('t_31', 0.09742304508561597),\n",
       " ('t_14', 0.08823233601383906),\n",
       " ('t_09', 0.07731844228679052),\n",
       " ('t_02', 0.04824008313985164),\n",
       " ('t_42', 0.04744654367576008),\n",
       " ('t_30', 0.04236132194785624),\n",
       " ('t_10', 0.03512609603542958),\n",
       " ('t_29', 0.030928133185089607),\n",
       " ('t_38', 0.021569950717103575),\n",
       " ('t_12', 0.021411391333792516),\n",
       " ('t_34', 0.020900496444434924),\n",
       " ('t_26', 0.01978312097804548),\n",
       " ('t_21', 0.01969140278572819),\n",
       " ('t_48', 0.019521422590526444),\n",
       " ('t_22', 0.018542605469988694),\n",
       " ('t_54', 0.01839315581088644),\n",
       " ('t_36', 0.01791411257294495),\n",
       " ('t_28', 0.01665757208362976),\n",
       " ('t_27', 0.015062534975144502),\n",
       " ('t_49', 0.012756335852710996),\n",
       " ('t_47', 0.012119164632717224),\n",
       " ('t_46', 0.012060983108691348),\n",
       " ('t_50', 0.011756679408926888),\n",
       " ('t_44', 0.010643789440180029),\n",
       " ('t_40', 0.009130714672512944),\n",
       " ('t_45', 0.007393337866959835),\n",
       " ('t_15', 0.006861821037009678),\n",
       " ('t_32', 0.006462774169741293),\n",
       " ('t_33', 0.005518088763539035),\n",
       " ('t_23', 0.0043915884854487715),\n",
       " ('t_43', 0.003925331367554852),\n",
       " ('t_24', 0.0031352868998415512),\n",
       " ('t_03', 0.002945553019139341),\n",
       " ('t_13', 0.0019740806437639814),\n",
       " ('t_04', 0.0017131241349253195),\n",
       " ('t_06', 0.0012901430116591653),\n",
       " ('t_18', 0.0005086327332523437),\n",
       " ('t_20', 5.461591732413807e-06),\n",
       " ('t_08', 8.255241361315353e-09),\n",
       " ('t_01', 0.0),\n",
       " ('t_05', 0.0),\n",
       " ('t_07', 0.0),\n",
       " ('t_11', 0.0),\n",
       " ('t_16', 0.0),\n",
       " ('t_17', 0.0),\n",
       " ('t_19', 0.0),\n",
       " ('t_25', 0.0),\n",
       " ('t_35', 0.0),\n",
       " ('t_37', 0.0),\n",
       " ('t_39', 0.0),\n",
       " ('t_41', 0.0),\n",
       " ('t_51', 0.0),\n",
       " ('t_52', 0.0),\n",
       " ('t_53', 0.0),\n",
       " ('t_55', 0.0)]"
      ]
     },
     "execution_count": 199,
     "metadata": {},
     "output_type": "execute_result"
    }
   ],
   "source": [
    "iv_1"
   ]
  },
  {
   "cell_type": "code",
   "execution_count": 57,
   "metadata": {
    "collapsed": true
   },
   "outputs": [],
   "source": [
    "df_train=dfm.transform(train)\n",
    "predprob = pd.DataFrame(model.predict_proba(df_train[varlist])[:,1], columns = ['predprob'])"
   ]
  },
  {
   "cell_type": "code",
   "execution_count": null,
   "metadata": {
    "collapsed": true
   },
   "outputs": [],
   "source": []
  },
  {
   "cell_type": "code",
   "execution_count": 238,
   "metadata": {},
   "outputs": [
    {
     "data": {
      "text/plain": [
       "array([  2,   3,   4,   0,   3,   1,   6,   8,   3,   9,   4,   2,   9,\n",
       "        30,  26,   0,   0,   1,   3,   7,   4,  10,  12,  18,   4,   4,\n",
       "         5,   1,   6,  36,   5,   0,   2,   1,   0,   4,   1,   0,   1,\n",
       "         1,   0,   1,   2,   1,   3,   0,   2,   3,   1,   0,   2,   5,\n",
       "         3,   0,   1,   2,   1,   1,   3,   4,   1,   6,   1,   2,   1,\n",
       "         0,   0,   0,   1,  18,   3,   3,   7,   3,   1,   1,  62,  35,\n",
       "         0,   4,   0,   3,   5,   4,  12,   3,  19,   2,   1,   3,   3,\n",
       "        13,  21,   5,   0,   1,   4,   2,   0,   2,   2,   4,   0,   0,\n",
       "         0,   2,   2,   0,   0,   2,   0,   5,   0,   0,   4,   1,   2,\n",
       "         1,   7,   1,   0,   0,   0,   1,   2,   4,  11,  27,   4,   8,\n",
       "         2,   3,   4,   7,   6,   5,  38,   6,  17,  25,   2,   0,  24,\n",
       "         2,   1,   9,   4,   2,   2,   0,   0,   1,   2,   4,  15,   9,\n",
       "         4,   1,   0,   2,   1,   3,  16,   2,   0,   2,   3,   1,   1,\n",
       "         1,   0,   0,   4,  34,   9,  28,   0,  17,   4,   3,   3,   0,\n",
       "         3,   1,   2,   5,   0,   0,   0,   0,  18,   0,   1,   0,   0,\n",
       "         4,   1,   3,  15,  18,   8,  18,   3,   6,   2,   4,   8,   3,\n",
       "         5,   7,   3,  13,  12,  23,   3,   2,   0,  13,  23,   1,   2,\n",
       "         2,   4,  79,   0,  36,   4,   2,   0,   1,  23,   4,   4,   0,\n",
       "         0,   0,  54,   2,  32,   4, 155,  69,   5,  19,  21,   9,   6,\n",
       "         4,  36,   9,   3,   2,   9, 101,   9,  32,   7,  86,  27,  48,\n",
       "         4,  19, 110,  43,   0,  10,  35,   2,   0,   0,  64,  35,  17,\n",
       "        90,   8,   4,  37,   4,   5,   5,   4,   4,   2,   3,   5,   2,\n",
       "         2,   4,   0,   1,   2,   1,   1,   6,   2,   2,   0,   4,  17,\n",
       "        20,  29, 138,   2,   1,  21,  81,   2,  45,   7,  33,  48,  40,\n",
       "         8,  24, 121,  43,   0,  13,  14,  53,  25,  16,  18,  13,   1,\n",
       "         8,   2,   3,   0,   1,   0,   3,   4,   3,   2,   0,   8,   2,\n",
       "         0,   4,   2,   3,   0,   1,   7,   9,  62,  58,  86,  19,  16,\n",
       "        25, 143,   1,   1,   2,   1,   0,   0,   1,   1,   1,  12,  15,\n",
       "        17,   5,   2,   2,   2,   2,   2,   1,   1,   1,   3,   1,   6,\n",
       "         4,   9,  13,   7,   4,   1,  12,   2,  57,  12,  36,  11,  32,\n",
       "        97,  36,   4,   7,   8,  27,   4,   1,  32,   1,  20,   5,   6,\n",
       "         3,   3,   2,   1,   2,   3,  10,  14,   7,  11,  10,   8, 178,\n",
       "         3,  24,  28,   7,  27,   0,  33,   4,   8,   8,   0,   1,   0,\n",
       "         7,   5,  15,   3,   1,   3,   1,   0,   6,   1,   3,   8,  44,\n",
       "         0,   0,   0,   0,   3,   4,   0,   3,   2,   7,   1,   4,   0,\n",
       "         1,   0,   0,   0,   6,   4,   5,   3,   7,  15,  17,  12,   4,\n",
       "         1,   4,   5,   3,   5,   8,   1,  30,  31,  21,  10,  25,   6,\n",
       "        12,  13,   4,  11,  11,   2,   9,   1,   4,   6,   6,  15,   2,\n",
       "        11,   7,   1,  12,   4,   2,  10,  11,  45,   0,   0,   1,  13,\n",
       "         9,  10,   2,   2,  27,   0,   0,   1,  84,  24, 117,  21,   7,\n",
       "        22,   9,   3,   1,  12,   0,   0,   1,   6,  22,  20,  16,  54,\n",
       "         3,   0,   4,   8,   4,  11,   1,   1,   0,   0,   0,   0,  44,\n",
       "        59,  28,  46,   4,   3,   2,   3,   6,  16,  26,   0,   0,   0,\n",
       "         3,   1,   5,   2,   3,  25,   5,  14,  20,  17,   3,   3,  15,\n",
       "         3,   1,   1,   8,   3,   0,   0,   0,   0,   1,   0,   5,   0,\n",
       "         0,   0,   0,   0,   0,   0,   0,   1,   1,   0,   1,   0,   1,\n",
       "         4,   0,   3,   2,   0,   6,  13,   1,   1,   2,   0,  44,  11,\n",
       "        11,   0,   0,   1,  28,  10,   6,  23,   5,  16,   0,   0,   0,\n",
       "        23,   7,   8,  13,  18,  15,  26,   0,   0,   0,   0,  12,  18,\n",
       "        27,  40,   0,   1,  15,   9,   1,   7,   3,   0,  41,  45,  19,\n",
       "        11,  19,   9,  15,   9,   8,   6,  17,  11,   0,   3,   0,   0,\n",
       "         1,   1,   0,   2,  12,   6,   6,   7,   1,  20,  17,   5,   9,\n",
       "         6,  15,   0,   0,   0,   3,   5,  10,  13,  15,   3,   6,   0,\n",
       "        15,  14,   4,   5,   3,   0,   2,   0,   1,   0,   3,   5,  11,\n",
       "        12,   7,   4,  14,   2,   8,   5,   2,  14,  27,  34,   7,   2,\n",
       "         2,   2,   4,   3,   1,   7,   5,   2,  10,   0,   4,   4,   3,\n",
       "         1,   3,   0,   1,   5,   1,   5,  10,  13,   1,   0,   0,   1,\n",
       "         3,   9,   6,   9,  13,   1,   7,   2,   1,   4,   2,   4,   4,\n",
       "         5,   0,   8,   0,   0,   1,   0,   5,   0,   0,   1,   1,   0,\n",
       "         5,   0,   0,   0,   2,   1,   1,   3,   1,   2,   5,   0,   5,\n",
       "         9,   1,   0,   0,   6,   9,   0,   0,  10,   2,  10,   4,   4,\n",
       "         7,   5,   3,   7,  20,   8,   7,   4,   9,  10,  14,  23,  17,\n",
       "        14,  16,  23,   3,   7,   5,   5,   8,   8,  13,  25,   5,   1,\n",
       "         1,  14,   6,   8,   1,  12,   8,  29,  50,   6,   2,   8,   5,\n",
       "         3,   6,   4,   9,   8,   6,   9,   5,   3,  19,  10,  69,   7,\n",
       "        15,   5,   8,   5,   5,  12,   3,   4,   6,  11,  17,   2,   5,\n",
       "        20,  54,  16,  21,  13,  11,  35,  32,  12,  30,  12,  11,  26,\n",
       "        39,   5,   2,   3,   0,   1,   0,   8,   2,  14, 146, 160,   0,\n",
       "         0,   2,   5,   0,   0])"
      ]
     },
     "execution_count": 238,
     "metadata": {},
     "output_type": "execute_result"
    }
   ],
   "source": [
    "model.feature_importances_"
   ]
  },
  {
   "cell_type": "code",
   "execution_count": 61,
   "metadata": {
    "collapsed": true
   },
   "outputs": [],
   "source": [
    "predprob = np.array(predprob)"
   ]
  },
  {
   "cell_type": "code",
   "execution_count": 63,
   "metadata": {
    "collapsed": true
   },
   "outputs": [],
   "source": [
    "train_label = np.array(train['b'])"
   ]
  },
  {
   "cell_type": "code",
   "execution_count": 68,
   "metadata": {},
   "outputs": [
    {
     "data": {
      "text/plain": [
       "True"
      ]
     },
     "execution_count": 68,
     "metadata": {},
     "output_type": "execute_result"
    }
   ],
   "source": [
    "len(predprob)==len(train_label)"
   ]
  },
  {
   "cell_type": "code",
   "execution_count": 70,
   "metadata": {
    "collapsed": true
   },
   "outputs": [],
   "source": [
    "predprob = np.reshape(predprob,len(predprob))"
   ]
  },
  {
   "cell_type": "code",
   "execution_count": 71,
   "metadata": {},
   "outputs": [
    {
     "data": {
      "text/plain": [
       "array([0.00108401, 0.99892657, 0.99893273, ..., 0.00106378, 0.99885563,\n",
       "       0.00110127])"
      ]
     },
     "execution_count": 71,
     "metadata": {},
     "output_type": "execute_result"
    }
   ],
   "source": [
    "predprob"
   ]
  },
  {
   "cell_type": "code",
   "execution_count": 59,
   "metadata": {
    "collapsed": true
   },
   "outputs": [],
   "source": [
    "def cal_ks_scipy(y_pred,y_true):\n",
    "    return ks_2samp(y_pred[y_true==1],y_pred[y_true!=1]).statistic"
   ]
  },
  {
   "cell_type": "code",
   "execution_count": 72,
   "metadata": {
    "collapsed": true
   },
   "outputs": [],
   "source": [
    "ks_train = cal_ks_scipy(predprob,train_label)"
   ]
  },
  {
   "cell_type": "code",
   "execution_count": 73,
   "metadata": {},
   "outputs": [
    {
     "data": {
      "text/plain": [
       "1.0"
      ]
     },
     "execution_count": 73,
     "metadata": {},
     "output_type": "execute_result"
    }
   ],
   "source": [
    "ks_train"
   ]
  },
  {
   "cell_type": "code",
   "execution_count": null,
   "metadata": {
    "collapsed": true
   },
   "outputs": [],
   "source": []
  }
 ],
 "metadata": {
  "kernelspec": {
   "display_name": "Python 3",
   "language": "python",
   "name": "python3"
  },
  "language_info": {
   "codemirror_mode": {
    "name": "ipython",
    "version": 3
   },
   "file_extension": ".py",
   "mimetype": "text/x-python",
   "name": "python",
   "nbconvert_exporter": "python",
   "pygments_lexer": "ipython3",
   "version": "3.6.1"
  }
 },
 "nbformat": 4,
 "nbformat_minor": 2
}
