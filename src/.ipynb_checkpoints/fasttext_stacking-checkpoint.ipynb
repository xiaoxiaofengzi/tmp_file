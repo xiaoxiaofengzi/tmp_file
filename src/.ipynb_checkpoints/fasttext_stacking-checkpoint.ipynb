{
 "cells": [
  {
   "cell_type": "code",
   "execution_count": 1,
   "metadata": {
    "collapsed": true
   },
   "outputs": [],
   "source": [
    "import fastText"
   ]
  },
  {
   "cell_type": "markdown",
   "metadata": {},
   "source": [
    "# stacking"
   ]
  },
  {
   "cell_type": "markdown",
   "metadata": {},
   "source": [
    "# fasttext"
   ]
  },
  {
   "cell_type": "code",
   "execution_count": 2,
   "metadata": {
    "collapsed": true
   },
   "outputs": [],
   "source": [
    "stacking_classifier_1= fastText.train_supervised(\"data/fasttext_stacking_train_1.txt\",lr = 0.1,epoch=10,wordNgrams=3,\n",
    "                                                 verbose=2,minCount=1,label=\"__label__\"\n",
    "                                                      ,pretrainedVectors='/data/fengkong/zh_300.vec'\n",
    "                                                     )"
   ]
  },
  {
   "cell_type": "code",
   "execution_count": 3,
   "metadata": {
    "collapsed": true
   },
   "outputs": [],
   "source": [
    "stacking_classifier_2= fastText.train_supervised(\"data/fasttext_stacking_train_2.txt\",lr = 0.1,epoch=10,wordNgrams=3,\n",
    "                                                 verbose=2,minCount=1,label=\"__label__\"\n",
    "                                                      ,pretrainedVectors='/data/fengkong/zh_300.vec'\n",
    "                                                     )"
   ]
  },
  {
   "cell_type": "code",
   "execution_count": 4,
   "metadata": {
    "collapsed": true
   },
   "outputs": [],
   "source": [
    "stacking_classifier_3= fastText.train_supervised(\"data/fasttext_stacking_train_3.txt\",lr = 0.1,epoch=10,wordNgrams=3,\n",
    "                                                 verbose=2,minCount=1,label=\"__label__\"\n",
    "                                                      ,pretrainedVectors='/data/fengkong/zh_300.vec'\n",
    "                                                     )"
   ]
  },
  {
   "cell_type": "code",
   "execution_count": 6,
   "metadata": {
    "collapsed": true
   },
   "outputs": [],
   "source": [
    "stacking_classifier_4  = fastText.train_supervised(\"data/fasttext_stacking_train_4.txt\",lr = 0.1,epoch=10,wordNgrams=3,\n",
    "                                                 verbose=2,minCount=1,label=\"__label__\"\n",
    "                                                      ,pretrainedVectors='/data/fengkong/zh_300.vec'\n",
    "                                                     )"
   ]
  },
  {
   "cell_type": "code",
   "execution_count": 7,
   "metadata": {
    "collapsed": true
   },
   "outputs": [],
   "source": [
    "stacking_classifier_5= fastText.train_supervised(\"data/fasttext_stacking_train_5.txt\",lr = 0.1,epoch=10,wordNgrams=3,\n",
    "                                                 verbose=2,minCount=1,label=\"__label__\"\n",
    "                                                      ,pretrainedVectors='/data/fengkong/zh_300.vec'\n",
    "                                                     )"
   ]
  },
  {
   "cell_type": "code",
   "execution_count": 8,
   "metadata": {
    "collapsed": true
   },
   "outputs": [],
   "source": [
    "stacking_classifier_1.save_model('stacking_classifier_1.bin')\n",
    "stacking_classifier_2.save_model('stacking_classifier_2.bin')\n",
    "stacking_classifier_3.save_model('stacking_classifier_3.bin')\n",
    "stacking_classifier_4.save_model('stacking_classifier_4.bin')\n",
    "stacking_classifier_5.save_model('stacking_classifier_5.bin')"
   ]
  },
  {
   "cell_type": "code",
   "execution_count": 9,
   "metadata": {
    "collapsed": true
   },
   "outputs": [],
   "source": [
    "#全量训练集ugid\n",
    "import pandas as pd\n",
    "import codecs\n",
    "fasttext_stacking_train = pd.read_csv('data/fasttext_stacking_train_ugid.csv')"
   ]
  },
  {
   "cell_type": "code",
   "execution_count": 470,
   "metadata": {},
   "outputs": [
    {
     "data": {
      "text/plain": [
       "(110000,)"
      ]
     },
     "execution_count": 470,
     "metadata": {},
     "output_type": "execute_result"
    }
   ],
   "source": [
    "fasttext_stacking_train['ugid'].drop_duplicates().shape"
   ]
  },
  {
   "cell_type": "code",
   "execution_count": 19,
   "metadata": {
    "collapsed": true
   },
   "outputs": [],
   "source": [
    "fasttext_stacking_train['prob']=0.0"
   ]
  },
  {
   "cell_type": "code",
   "execution_count": 13,
   "metadata": {
    "collapsed": true
   },
   "outputs": [],
   "source": [
    "# fasttext_stacking_train\n",
    "count = 0\n",
    "name = ['label','prob']\n",
    "pre_p_1 = pd.read_table('data/prob_stacking_pre_1.txt',sep=' ',names=name)\n",
    "pre_p_1.replace('__label__0',0, inplace=True)\n",
    "pre_p_1.replace('__label__1',1, inplace=True)\n",
    "for i in range(len(pre_p_1)):\n",
    "    if pre_p_1.iat[i,0]==0:\n",
    "        pre_p_1.iat[i,1] = 1-pre_p_1.iat[i,1]\n",
    "        \n",
    "pre_p_2 = pd.read_table('data/prob_stacking_pre_2.txt',sep=' ',names=name)\n",
    "pre_p_2.replace('__label__0',0, inplace=True)\n",
    "pre_p_2.replace('__label__1',1, inplace=True)\n",
    "for i in range(len(pre_p_2)):\n",
    "    if pre_p_2.iat[i,0]==0:\n",
    "        pre_p_2.iat[i,1] = 1-pre_p_2.iat[i,1]\n",
    "\n",
    "        \n",
    "pre_p_3 = pd.read_table('data/prob_stacking_pre_3.txt',sep=' ',names=name)\n",
    "pre_p_3.replace('__label__0',0, inplace=True)\n",
    "pre_p_3.replace('__label__1',1, inplace=True)\n",
    "for i in range(len(pre_p_3)):\n",
    "    if pre_p_3.iat[i,0]==0:\n",
    "        pre_p_3.iat[i,1] = 1-pre_p_3.iat[i,1]\n",
    "\n",
    "pre_p_4 = pd.read_table('data/prob_stacking_pre_4.txt',sep=' ',names=name)\n",
    "pre_p_4.replace('__label__0',0, inplace=True)\n",
    "pre_p_4.replace('__label__1',1, inplace=True)\n",
    "for i in range(len(pre_p_4)):\n",
    "    if pre_p_4.iat[i,0]==0:\n",
    "        pre_p_4.iat[i,1] = 1-pre_p_4.iat[i,1]\n",
    "\n",
    "pre_p_5 = pd.read_table('data/prob_stacking_pre_5.txt',sep=' ',names=name)\n",
    "pre_p_5.replace('__label__0',0, inplace=True)\n",
    "pre_p_5.replace('__label__1',1, inplace=True)\n",
    "for i in range(len(pre_p_5)):\n",
    "    if pre_p_5.iat[i,0]==0:\n",
    "        pre_p_5.iat[i,1] = 1-pre_p_5.iat[i,1]"
   ]
  },
  {
   "cell_type": "code",
   "execution_count": 15,
   "metadata": {},
   "outputs": [
    {
     "name": "stdout",
     "output_type": "stream",
     "text": [
      "   label      prob\n",
      "0      1  0.557485\n",
      "1      1  0.680937\n",
      "2      1  0.577731\n",
      "   label      prob\n",
      "0      0  0.123500\n",
      "1      0  0.086335\n",
      "2      1  0.617479\n",
      "   label      prob\n",
      "0      1  0.593240\n",
      "1      1  0.746029\n",
      "2      1  0.782688\n",
      "   label      prob\n",
      "0      0  0.337388\n",
      "1      1  0.592789\n",
      "2      1  0.612832\n",
      "   label      prob\n",
      "0      1  0.847727\n",
      "1      1  0.801980\n",
      "2      1  0.692153\n"
     ]
    }
   ],
   "source": [
    "print(pre_p_1.head(3))\n",
    "print(pre_p_2.head(3))\n",
    "print(pre_p_3.head(3))\n",
    "print(pre_p_4.head(3))\n",
    "print(pre_p_5.head(3))"
   ]
  },
  {
   "cell_type": "code",
   "execution_count": 16,
   "metadata": {},
   "outputs": [
    {
     "name": "stdout",
     "output_type": "stream",
     "text": [
      "22000\n",
      "22000\n",
      "22000\n",
      "22000\n",
      "22000\n"
     ]
    }
   ],
   "source": [
    "print(len(pre_p_1))\n",
    "print(len(pre_p_2))\n",
    "print(len(pre_p_3))\n",
    "print(len(pre_p_4))\n",
    "print(len(pre_p_5))"
   ]
  },
  {
   "cell_type": "code",
   "execution_count": 20,
   "metadata": {
    "collapsed": true
   },
   "outputs": [],
   "source": [
    "count_1 = 0\n",
    "count_2 = 0\n",
    "count_3 = 0\n",
    "count_4 = 0\n",
    "count_5 = 0\n",
    "for count in range(len(fasttext_stacking_train)):\n",
    "    if count<22000:\n",
    "        fasttext_stacking_train.iat[count,2]=pre_p_1.iat[count_1,1]\n",
    "        count_1+=1\n",
    "    elif count>=22000 and count<44000:\n",
    "        fasttext_stacking_train.iat[count,2]= pre_p_2.iat[count_2,1]\n",
    "        count_2+=1\n",
    "    elif count>=44000 and count<66000:\n",
    "        fasttext_stacking_train.iat[count,2] = pre_p_3.iat[count_3,1]\n",
    "        count_3+=1\n",
    "    elif count>=66000 and count<88000:\n",
    "        fasttext_stacking_train.iat[count,2] = pre_p_4.iat[count_4,1]\n",
    "        count_4+=1\n",
    "    else:\n",
    "        fasttext_stacking_train.iat[count,2] = pre_p_5.iat[count_5,1]\n",
    "        count_5+=1\n",
    "\n",
    "#     count+=1"
   ]
  },
  {
   "cell_type": "code",
   "execution_count": 22,
   "metadata": {
    "collapsed": true
   },
   "outputs": [],
   "source": [
    "fasttext_stacking_train.to_csv('data/fasttext_stacking_train_final.csv',index=False)"
   ]
  },
  {
   "cell_type": "code",
   "execution_count": 162,
   "metadata": {},
   "outputs": [
    {
     "data": {
      "text/html": [
       "<div>\n",
       "<style>\n",
       "    .dataframe thead tr:only-child th {\n",
       "        text-align: right;\n",
       "    }\n",
       "\n",
       "    .dataframe thead th {\n",
       "        text-align: left;\n",
       "    }\n",
       "\n",
       "    .dataframe tbody tr th {\n",
       "        vertical-align: top;\n",
       "    }\n",
       "</style>\n",
       "<table border=\"1\" class=\"dataframe\">\n",
       "  <thead>\n",
       "    <tr style=\"text-align: right;\">\n",
       "      <th></th>\n",
       "      <th>ugid</th>\n",
       "      <th>perf</th>\n",
       "      <th>prob</th>\n",
       "    </tr>\n",
       "  </thead>\n",
       "  <tbody>\n",
       "    <tr>\n",
       "      <th>0</th>\n",
       "      <td>F057901F-8D71-48FA-A325-72C09C80F4EE</td>\n",
       "      <td>1</td>\n",
       "      <td>0.557485</td>\n",
       "    </tr>\n",
       "    <tr>\n",
       "      <th>1</th>\n",
       "      <td>C8CC8F55-5154-456C-BAF4-A5BCF2C7DB8A</td>\n",
       "      <td>1</td>\n",
       "      <td>0.680937</td>\n",
       "    </tr>\n",
       "    <tr>\n",
       "      <th>2</th>\n",
       "      <td>738D23ED-7699-4D17-B4EC-824F5D7E9DA6</td>\n",
       "      <td>1</td>\n",
       "      <td>0.577731</td>\n",
       "    </tr>\n",
       "    <tr>\n",
       "      <th>3</th>\n",
       "      <td>0FA4D224-399E-4F6F-862F-793A926C118C</td>\n",
       "      <td>1</td>\n",
       "      <td>0.417429</td>\n",
       "    </tr>\n",
       "    <tr>\n",
       "      <th>4</th>\n",
       "      <td>6BD48AED-06CA-476C-ACA9-18E5EF76A397</td>\n",
       "      <td>1</td>\n",
       "      <td>0.499721</td>\n",
       "    </tr>\n",
       "  </tbody>\n",
       "</table>\n",
       "</div>"
      ],
      "text/plain": [
       "                                   ugid  perf      prob\n",
       "0  F057901F-8D71-48FA-A325-72C09C80F4EE     1  0.557485\n",
       "1  C8CC8F55-5154-456C-BAF4-A5BCF2C7DB8A     1  0.680937\n",
       "2  738D23ED-7699-4D17-B4EC-824F5D7E9DA6     1  0.577731\n",
       "3  0FA4D224-399E-4F6F-862F-793A926C118C     1  0.417429\n",
       "4  6BD48AED-06CA-476C-ACA9-18E5EF76A397     1  0.499721"
      ]
     },
     "execution_count": 162,
     "metadata": {},
     "output_type": "execute_result"
    }
   ],
   "source": [
    "fasttext_stacking_train.head()"
   ]
  },
  {
   "cell_type": "code",
   "execution_count": 201,
   "metadata": {
    "collapsed": true
   },
   "outputs": [],
   "source": [
    "# fasttext_stacking_train\n",
    "# pre_p_5_1 = pd.read_table('data/prob_stacking_pre_5.txt',sep=' ',names=name)\n",
    "# pre_p_5_1\n"
   ]
  },
  {
   "cell_type": "markdown",
   "metadata": {},
   "source": [
    "# LGBM"
   ]
  },
  {
   "cell_type": "code",
   "execution_count": 23,
   "metadata": {
    "collapsed": true
   },
   "outputs": [],
   "source": [
    "from sklearn.metrics import roc_auc_score,accuracy_score,classification_report\n",
    "from scipy.stats import ks_2samp\n",
    "from lightgbm import LGBMClassifier\n",
    "from sklearn.model_selection import train_test_split,cross_val_score\n",
    "from datetime import datetime\n",
    "from sklearn_pandas import DataFrameMapper\n",
    "from sklearn.preprocessing import LabelBinarizer\n",
    "from sklearn2pmml.decoration import CategoricalDomain, ContinuousDomain\n",
    "from sklearn2pmml import PMMLPipeline\n",
    "import time\n",
    "import pandas as pd\n",
    "import numpy as np\n",
    "from sklearn.externals import joblib\n",
    "import pickle\n",
    "# from project_demo.tools.optimize import *\n",
    "from project_demo.tools.evaluate import *\n",
    "%matplotlib inline\n",
    "from sklearn import metrics"
   ]
  },
  {
   "cell_type": "code",
   "execution_count": 84,
   "metadata": {
    "collapsed": true
   },
   "outputs": [],
   "source": [
    "def auc_ks(model, dataframemapper, trainset, testset, varlist,train_only=False):\n",
    "    if train_only == False:\n",
    "        df_test=dataframemapper.transform(testset)\n",
    "        predprob = pd.DataFrame(model.predict_proba(df_test[varlist])[:,1], columns = ['predprob'])\n",
    "        predprob['ytrue'] = testset['perf'].values\n",
    "        auc = roc_auc_score(y_score=predprob['predprob'], y_true=predprob['ytrue'])\n",
    "        print('AUC On Test is: {}'.format(auc))\n",
    "        print('KS On Test is: {}'.format(cal_ks_scipy(predprob['predprob'], predprob['ytrue'])))\n",
    "        predprob_test = predprob\n",
    "    \n",
    "    df_train=dataframemapper.transform(trainset)\n",
    "    predprob = pd.DataFrame(model.predict_proba(df_train[varlist])[:,1], columns = ['predprob'])\n",
    "    predprob['ytrue'] = trainset['perf'].values\n",
    "    auc = roc_auc_score(y_score=predprob['predprob'], y_true=predprob['ytrue'])\n",
    "    print('AUC On Train is: {}'.format(auc))\n",
    "    print('KS On Train is: {}'.format(cal_ks_scipy(predprob['predprob'], predprob['ytrue'])))\n",
    "    return predprob['predprob'], predprob['ytrue'],predprob_test['predprob'],predprob_test['ytrue']"
   ]
  },
  {
   "cell_type": "code",
   "execution_count": 25,
   "metadata": {
    "collapsed": true
   },
   "outputs": [],
   "source": [
    "def ks(df_score, df_good,fig_dir):\n",
    "    import pandas as pd\n",
    "    import numpy as np\n",
    "    import matplotlib.pyplot as plt\n",
    "    \n",
    "    df_score = pd.DataFrame(df_score)\n",
    "    df_good = pd.DataFrame(df_good) \n",
    "    df_score.columns = ['score']\n",
    "    df_good.columns = ['good']\n",
    "    df = pd.concat([df_score,df_good],axis=1)\n",
    "    \n",
    "    df['bad'] = 1 - df.good\n",
    "    bin = np.arange(0, 1.001, 0.05)\n",
    "    df['bucket'] = pd.cut(df.score, bin)  # 根据bin来划分区间\n",
    "   \n",
    "    grouped = df.groupby('bucket', as_index=False) # 统计在每个区间的样本量\n",
    "    agg1 = pd.DataFrame()\n",
    "    agg1['min_scr'] = grouped.min().score # 取得每个区间的最小值\n",
    "    agg1['max_scr'] = grouped.max().score\n",
    "    agg1['bads'] = grouped.sum().bad # 计算每个区间bad的总数量\n",
    "    agg1['goods'] = grouped.sum().good\n",
    "    \n",
    "    agg2 = (agg1.sort_values(['min_scr'])).reset_index(drop=True) # 根据区间最小值排序\n",
    "    agg2['bad_cum_rate'] = np.round((agg2.bads / df.bad.sum()).cumsum(), 4) # 计算bad样本累计概率\n",
    "    agg2['good_cum_rate'] = np.round((agg2.goods / df.good.sum()).cumsum(), 4) \n",
    "    agg2['ks'] = abs(np.round(((agg2.bads / df.bad.sum()).cumsum() - (agg2.goods / df.good.sum()).cumsum()), 4)) # 计算bad和good累计概率之差的绝对值\n",
    "    ks = agg2.ks.max()  # 求出ks\n",
    "    \n",
    "    plt.figure(figsize=(8, 4))  # 创建绘图对象\n",
    "    plt.plot(agg2.min_scr, agg2.bad_cum_rate, \"g-\", linewidth=1)  # 在当前绘图对象绘图（X轴，Y轴，蓝色虚线，线宽度）\n",
    "    plt.plot(agg2.min_scr, agg2.good_cum_rate, \"b-\", linewidth=1)\n",
    "    \n",
    "    x_abline = agg2['min_scr'][agg2['ks'] == agg2['ks'].max()] # ks最大的min_scr\n",
    "    y_abline1 = agg2['bad_cum_rate'][agg2['ks'] == agg2['ks'].max()] # ks最大时bad_cum_rate\n",
    "    y_abline2 = agg2['good_cum_rate'][agg2['ks'] == agg2['ks'].max()]\n",
    "    plt.fill_between(x_abline, y_abline1, y_abline2, color = \"red\",linewidth=2)    \n",
    "    \n",
    "    sub = \"%s%s\"%('ks = ',ks)\n",
    "    plt.legend(title=sub,loc='lower right')\n",
    "    plt.xlabel(\"Minimum score\")  # X轴标签\n",
    "    plt.ylabel(\"Cumulative percentage(%)\")  # Y轴标签\n",
    "    plt.title('KS chart')  # 图标题\n",
    "    plt.savefig(fig_dir)\n",
    "    plt.show()  # 显示图"
   ]
  },
  {
   "cell_type": "code",
   "execution_count": 85,
   "metadata": {
    "collapsed": true
   },
   "outputs": [],
   "source": [
    "def auc_ks_v(model, dataframemapper, trainset, testset, varlist,train_only=False):\n",
    "    if train_only == False:\n",
    "        df_test=dataframemapper.transform(testset)\n",
    "        predprob = pd.DataFrame(model.predict_proba(df_test[varlist])[:,1], columns = ['predprob'])\n",
    "        predprob['ytrue'] = testset['perf'].values\n",
    "        auc = roc_auc_score(y_score=predprob['predprob'], y_true=predprob['ytrue'])\n",
    "        print('AUC On valid is: {}'.format(auc))\n",
    "        print('KS On valid is: {}'.format(cal_ks_scipy(predprob['predprob'], predprob['ytrue'])))\n",
    "    \n",
    "    df_train=dataframemapper.transform(trainset)\n",
    "    predprob = pd.DataFrame(model.predict_proba(df_train[varlist])[:,1], columns = ['predprob'])\n",
    "    predprob['ytrue'] = trainset['perf'].values\n",
    "    auc = roc_auc_score(y_score=predprob['predprob'], y_true=predprob['ytrue'])\n",
    "    print('AUC On Train is: {}'.format(auc))\n",
    "    print('KS On Train is: {}'.format(cal_ks_scipy(predprob['predprob'], predprob['ytrue'])))"
   ]
  },
  {
   "cell_type": "code",
   "execution_count": 86,
   "metadata": {
    "collapsed": true
   },
   "outputs": [],
   "source": [
    "def continuous_categorical(dataset):\n",
    "    '''diff continuous and categorical\n",
    "        \n",
    "    '''\n",
    "    continuousDomain = [] # float int\n",
    "    categoricalDomain = [] # object bool category\n",
    "\n",
    "    for item in dataset.columns:\n",
    "        if (dataset[item].dtypes == object)| (dataset[item].dtypes == bool):\n",
    "            categoricalDomain.append(item)\n",
    "            dataset[item] = dataset[item].astype(str)\n",
    "        elif item!='perf':\n",
    "            continuousDomain.append(item)\n",
    "            dataset[item] = dataset[item]\n",
    "    print (categoricalDomain)\n",
    "    return continuousDomain,categoricalDomain"
   ]
  },
  {
   "cell_type": "code",
   "execution_count": 28,
   "metadata": {
    "collapsed": true
   },
   "outputs": [],
   "source": [
    "def eval_model_stability(proba_train, proba_validation, segment_cnt = 10,out_path=False):\n",
    "    \"\"\"\n",
    "    :param proba_train: 训练集预测概率\n",
    "    :param proba_validation: 验证集预测概率\n",
    "    :param segment_cnt:\n",
    "    :param out_path:\n",
    "    :return: 模型稳定性\n",
    "    \"\"\"\n",
    "    step = 1.0/segment_cnt\n",
    "    flag = 0.0\n",
    "    model_stability = []\n",
    "    len_train = len(proba_train)\n",
    "    len_validation = len(proba_validation)\n",
    "\n",
    "    columns = ['score_range','segment_train_percentage','segment_validation_percentage','difference',\n",
    "               'variance','ln_variance','stability_index']\n",
    "\n",
    "    while flag < 1.0:\n",
    "        temp = {}\n",
    "\n",
    "        score_range = '['+str(flag)+','+str(flag + step)+')'\n",
    "        segment_train_cnt = proba_train[(proba_train >= flag) & (proba_train < flag + step)].count()\n",
    "        segment_train_percentage = segment_train_cnt*1.0/len_train\n",
    "        segment_validation_cnt = proba_validation[(proba_validation >= flag) & (proba_validation < flag + step)].count()\n",
    "        segment_validation_percentage = segment_validation_cnt * 1.0 / len_validation\n",
    "        difference = segment_validation_percentage - segment_train_percentage\n",
    "        variance = float(segment_validation_percentage)/segment_train_percentage\n",
    "        ln_variance = variance\n",
    "        stability_index = difference * ln_variance\n",
    "\n",
    "        temp['score_range'] = score_range\n",
    "        temp['segment_train_percentage'] = segment_train_percentage[0]\n",
    "        temp['segment_validation_percentage'] = segment_validation_percentage[0]\n",
    "        temp['difference'] = difference[0]\n",
    "        temp['variance'] = variance[0]\n",
    "        temp['ln_variance'] = ln_variance[0]\n",
    "        temp['stability_index'] = stability_index[0]\n",
    "\n",
    "        model_stability.append(temp)\n",
    "        flag += step\n",
    "\n",
    "    model_stability = pd.DataFrame(model_stability,columns=columns)\n",
    "    if out_path:\n",
    "        file_name = out_path if isinstance(out_path, str) else None\n",
    "        model_stability.to_csv(file_name, index=False)\n",
    "\n",
    "    return model_stability"
   ]
  },
  {
   "cell_type": "code",
   "execution_count": 50,
   "metadata": {
    "collapsed": true
   },
   "outputs": [],
   "source": [
    "data = pd.read_csv(\"data/all_lda.csv\")"
   ]
  },
  {
   "cell_type": "code",
   "execution_count": 51,
   "metadata": {
    "collapsed": true
   },
   "outputs": [],
   "source": [
    "d_list = [ 't_01','t_02','t_03','t_04','t_05','t_06','t_07','t_08','t_09','t_10','t_11','t_12','t_13','t_14','t_15','t_16','t_17','t_18','t_19',\n",
    " 't_20','t_21','t_22','t_23','t_24','t_25','t_26','t_27','t_28','t_29','t_30','t_31','t_32','t_33','t_34','t_35','t_36','t_37','t_38','t_39',\n",
    " 't_40','t_41','t_42','t_43','t_44','t_45','t_46','t_47','t_48','t_49','t_50','t_51','t_52','t_53','t_54','t_55','b','token_id_x',\n",
    "          'first_trans_time','crawler_time','token_id_y','token_id']"
   ]
  },
  {
   "cell_type": "code",
   "execution_count": 52,
   "metadata": {
    "collapsed": true
   },
   "outputs": [],
   "source": [
    "data =data.drop(d_list,axis=1)"
   ]
  },
  {
   "cell_type": "code",
   "execution_count": 207,
   "metadata": {},
   "outputs": [
    {
     "data": {
      "text/html": [
       "<div>\n",
       "<style>\n",
       "    .dataframe thead tr:only-child th {\n",
       "        text-align: right;\n",
       "    }\n",
       "\n",
       "    .dataframe thead th {\n",
       "        text-align: left;\n",
       "    }\n",
       "\n",
       "    .dataframe tbody tr th {\n",
       "        vertical-align: top;\n",
       "    }\n",
       "</style>\n",
       "<table border=\"1\" class=\"dataframe\">\n",
       "  <thead>\n",
       "    <tr style=\"text-align: right;\">\n",
       "      <th></th>\n",
       "      <th>ugid</th>\n",
       "      <th>token_id_x</th>\n",
       "      <th>TO9</th>\n",
       "      <th>TO10</th>\n",
       "      <th>TO52</th>\n",
       "      <th>TO51</th>\n",
       "      <th>TO17</th>\n",
       "      <th>TO54</th>\n",
       "      <th>TO27</th>\n",
       "      <th>TO28</th>\n",
       "      <th>...</th>\n",
       "      <th>t_46</th>\n",
       "      <th>t_47</th>\n",
       "      <th>t_48</th>\n",
       "      <th>t_49</th>\n",
       "      <th>t_50</th>\n",
       "      <th>t_51</th>\n",
       "      <th>t_52</th>\n",
       "      <th>t_53</th>\n",
       "      <th>t_54</th>\n",
       "      <th>t_55</th>\n",
       "    </tr>\n",
       "  </thead>\n",
       "  <tbody>\n",
       "    <tr>\n",
       "      <th>0</th>\n",
       "      <td>00023820-A8FB-4D41-B32F-730DDF50A0D6</td>\n",
       "      <td>9d9d6e9fa578461baf4af42a89c0f18b1490688626618_21</td>\n",
       "      <td>2665</td>\n",
       "      <td>1196</td>\n",
       "      <td>81809</td>\n",
       "      <td>190207</td>\n",
       "      <td>1469</td>\n",
       "      <td>108398</td>\n",
       "      <td>227</td>\n",
       "      <td>62</td>\n",
       "      <td>...</td>\n",
       "      <td>0.105423</td>\n",
       "      <td>0.0</td>\n",
       "      <td>0.011697</td>\n",
       "      <td>0.000000</td>\n",
       "      <td>0.022512</td>\n",
       "      <td>0.0</td>\n",
       "      <td>0.0</td>\n",
       "      <td>0.000000</td>\n",
       "      <td>0.0</td>\n",
       "      <td>0.0</td>\n",
       "    </tr>\n",
       "    <tr>\n",
       "      <th>1</th>\n",
       "      <td>00024CEF-E433-4679-B85E-2237CF46A2B2</td>\n",
       "      <td>7d4e87d01f44479296e43124b4a979461488774175767_21</td>\n",
       "      <td>3672</td>\n",
       "      <td>2149</td>\n",
       "      <td>131490</td>\n",
       "      <td>234504</td>\n",
       "      <td>1523</td>\n",
       "      <td>103014</td>\n",
       "      <td>899</td>\n",
       "      <td>161</td>\n",
       "      <td>...</td>\n",
       "      <td>0.012968</td>\n",
       "      <td>0.0</td>\n",
       "      <td>0.000000</td>\n",
       "      <td>0.102615</td>\n",
       "      <td>0.014539</td>\n",
       "      <td>0.0</td>\n",
       "      <td>0.0</td>\n",
       "      <td>0.016099</td>\n",
       "      <td>0.0</td>\n",
       "      <td>0.0</td>\n",
       "    </tr>\n",
       "  </tbody>\n",
       "</table>\n",
       "<p>2 rows × 950 columns</p>\n",
       "</div>"
      ],
      "text/plain": [
       "                                   ugid  \\\n",
       "0  00023820-A8FB-4D41-B32F-730DDF50A0D6   \n",
       "1  00024CEF-E433-4679-B85E-2237CF46A2B2   \n",
       "\n",
       "                                         token_id_x   TO9  TO10    TO52  \\\n",
       "0  9d9d6e9fa578461baf4af42a89c0f18b1490688626618_21  2665  1196   81809   \n",
       "1  7d4e87d01f44479296e43124b4a979461488774175767_21  3672  2149  131490   \n",
       "\n",
       "     TO51  TO17    TO54  TO27  TO28  ...       t_46  t_47      t_48      t_49  \\\n",
       "0  190207  1469  108398   227    62  ...   0.105423   0.0  0.011697  0.000000   \n",
       "1  234504  1523  103014   899   161  ...   0.012968   0.0  0.000000  0.102615   \n",
       "\n",
       "       t_50  t_51  t_52      t_53  t_54  t_55  \n",
       "0  0.022512   0.0   0.0  0.000000   0.0   0.0  \n",
       "1  0.014539   0.0   0.0  0.016099   0.0   0.0  \n",
       "\n",
       "[2 rows x 950 columns]"
      ]
     },
     "execution_count": 207,
     "metadata": {},
     "output_type": "execute_result"
    }
   ],
   "source": [
    "data.head(2)"
   ]
  },
  {
   "cell_type": "code",
   "execution_count": 53,
   "metadata": {
    "collapsed": true
   },
   "outputs": [],
   "source": [
    "d_list = [ 't_01','t_02','t_03','t_04','t_05','t_06','t_07','t_08','t_09','t_10','t_11','t_12','t_13','t_14','t_15','t_16','t_17','t_18','t_19',\n",
    " 't_20','t_21','t_22','t_23','t_24','t_25','t_26','t_27','t_28','t_29','t_30','t_31','t_32','t_33','t_34','t_35','t_36','t_37','t_38','t_39',\n",
    " 't_40','t_41','t_42','t_43','t_44','t_45','t_46','t_47','t_48','t_49','t_50','t_51','t_52','t_53','t_54','t_55','b','token_id_x',\n",
    "          'first_trans_time','crawler_time','token_id_y','token_id']\n",
    "data.replace(np.inf, np.nan, inplace=True)\n",
    "data.replace(-99998,np.nan, inplace=True)\n",
    "data.replace(-99999976,np.nan, inplace=True)\n",
    "data.replace(-9999979,np.nan, inplace=True)\n",
    "data.replace(-9999976,np.nan, inplace=True)\n",
    "data.replace(-999973,np.nan, inplace=True)\n",
    "data.replace(-999976,np.nan, inplace=True)\n",
    "data.replace(9999,np.nan, inplace=True)"
   ]
  },
  {
   "cell_type": "code",
   "execution_count": 54,
   "metadata": {
    "collapsed": true
   },
   "outputs": [],
   "source": [
    "d_list = [ 't_01','t_02','t_03','t_04','t_05','t_06','t_07','t_08','t_09','t_10','t_11','t_12','t_13','t_14','t_15','t_16','t_17','t_18','t_19',\n",
    " 't_20','t_21','t_22','t_23','t_24','t_25','t_26','t_27','t_28','t_29','t_30','t_31','t_32','t_33','t_34','t_35','t_36','t_37','t_38','t_39',\n",
    " 't_40','t_41','t_42','t_43','t_44','t_45','t_46','t_47','t_48','t_49','t_50','t_51','t_52','t_53','t_54','t_55','b','token_id_x',\n",
    "          'first_trans_time','crawler_time','token_id_y','token_id']\n",
    "data.replace(np.inf, np.nan, inplace=True)\n",
    "data.replace(-99998,np.nan, inplace=True)\n",
    "data.replace(-99999976,np.nan, inplace=True)\n",
    "data.replace(-9999979,np.nan, inplace=True)\n",
    "data.replace(-9999976,np.nan, inplace=True)\n",
    "data.replace(-999973,np.nan, inplace=True)\n",
    "data.replace(-999976,np.nan, inplace=True)\n",
    "data.replace(9999,np.nan, inplace=True)\n",
    "data = data.replace('01. 坏',0)\n",
    "data = data.replace('05. 好',1)"
   ]
  },
  {
   "cell_type": "code",
   "execution_count": 55,
   "metadata": {
    "collapsed": true
   },
   "outputs": [],
   "source": [
    "# continuousDomain, categoricalDomain = continuous_categorical(data)\n",
    "data =data.drop(d_list,axis=1)\n",
    "data_train = pd.merge(fasttext_stacking_train,data,how = 'left',on = ['ugid'])"
   ]
  },
  {
   "cell_type": "code",
   "execution_count": 56,
   "metadata": {},
   "outputs": [
    {
     "data": {
      "text/plain": [
       "110000"
      ]
     },
     "execution_count": 56,
     "metadata": {},
     "output_type": "execute_result"
    }
   ],
   "source": [
    "len(data_train)"
   ]
  },
  {
   "cell_type": "code",
   "execution_count": 58,
   "metadata": {
    "collapsed": true
   },
   "outputs": [],
   "source": [
    "del data_train['prob']"
   ]
  },
  {
   "cell_type": "code",
   "execution_count": 115,
   "metadata": {
    "collapsed": true
   },
   "outputs": [],
   "source": [
    "data_part1 = data_train[0:22000]"
   ]
  },
  {
   "cell_type": "code",
   "execution_count": 116,
   "metadata": {
    "collapsed": true
   },
   "outputs": [],
   "source": [
    "data_part2 = data_train[22000:44000]\n",
    "data_part3 = data_train[44000:66000]\n",
    "data_part4 = data_train[66000:88000]\n",
    "data_part5 = data_train[88000:110000]"
   ]
  },
  {
   "cell_type": "code",
   "execution_count": 117,
   "metadata": {
    "collapsed": true
   },
   "outputs": [],
   "source": [
    "# data_part4\n"
   ]
  },
  {
   "cell_type": "code",
   "execution_count": 118,
   "metadata": {
    "collapsed": true
   },
   "outputs": [],
   "source": [
    "data_train_1 = pd.concat([data_part2,data_part3,data_part4,data_part5])"
   ]
  },
  {
   "cell_type": "code",
   "execution_count": 119,
   "metadata": {
    "collapsed": true
   },
   "outputs": [],
   "source": [
    "data_train_2 = pd.concat([data_part1,data_part3,data_part4,data_part5])"
   ]
  },
  {
   "cell_type": "code",
   "execution_count": 120,
   "metadata": {
    "collapsed": true
   },
   "outputs": [],
   "source": [
    "data_train_3 = pd.concat([data_part1,data_part2,data_part4,data_part5])"
   ]
  },
  {
   "cell_type": "code",
   "execution_count": 121,
   "metadata": {
    "collapsed": true
   },
   "outputs": [],
   "source": [
    "data_train_4 = pd.concat([data_part1,data_part2,data_part3,data_part5])"
   ]
  },
  {
   "cell_type": "code",
   "execution_count": 122,
   "metadata": {
    "collapsed": true
   },
   "outputs": [],
   "source": [
    "data_train_5 = pd.concat([data_part1,data_part2,data_part3,data_part4])"
   ]
  },
  {
   "cell_type": "code",
   "execution_count": 471,
   "metadata": {},
   "outputs": [
    {
     "data": {
      "text/html": [
       "<div>\n",
       "<style>\n",
       "    .dataframe thead tr:only-child th {\n",
       "        text-align: right;\n",
       "    }\n",
       "\n",
       "    .dataframe thead th {\n",
       "        text-align: left;\n",
       "    }\n",
       "\n",
       "    .dataframe tbody tr th {\n",
       "        vertical-align: top;\n",
       "    }\n",
       "</style>\n",
       "<table border=\"1\" class=\"dataframe\">\n",
       "  <thead>\n",
       "    <tr style=\"text-align: right;\">\n",
       "      <th></th>\n",
       "      <th>perf</th>\n",
       "      <th>TO9</th>\n",
       "      <th>TO10</th>\n",
       "      <th>TO52</th>\n",
       "      <th>TO51</th>\n",
       "      <th>TO17</th>\n",
       "      <th>TO54</th>\n",
       "      <th>TO27</th>\n",
       "      <th>TO28</th>\n",
       "      <th>TO29</th>\n",
       "      <th>...</th>\n",
       "      <th>TB246</th>\n",
       "      <th>TB252</th>\n",
       "      <th>TB265</th>\n",
       "      <th>TB297</th>\n",
       "      <th>TB296</th>\n",
       "      <th>TO414_y</th>\n",
       "      <th>TO415_y</th>\n",
       "      <th>TO416_y</th>\n",
       "      <th>TO417_y</th>\n",
       "      <th>TO418_y</th>\n",
       "    </tr>\n",
       "  </thead>\n",
       "  <tbody>\n",
       "    <tr>\n",
       "      <th>22000</th>\n",
       "      <td>0</td>\n",
       "      <td>3474</td>\n",
       "      <td>1312</td>\n",
       "      <td>74134.0</td>\n",
       "      <td>226448.0</td>\n",
       "      <td>2162</td>\n",
       "      <td>152314.0</td>\n",
       "      <td>479</td>\n",
       "      <td>109</td>\n",
       "      <td>1694</td>\n",
       "      <td>...</td>\n",
       "      <td>93.0</td>\n",
       "      <td>76.0</td>\n",
       "      <td>82.0</td>\n",
       "      <td>2.0</td>\n",
       "      <td>15</td>\n",
       "      <td>NaN</td>\n",
       "      <td>NaN</td>\n",
       "      <td>NaN</td>\n",
       "      <td>NaN</td>\n",
       "      <td>NaN</td>\n",
       "    </tr>\n",
       "    <tr>\n",
       "      <th>22001</th>\n",
       "      <td>0</td>\n",
       "      <td>2367</td>\n",
       "      <td>1303</td>\n",
       "      <td>103284.0</td>\n",
       "      <td>192631.0</td>\n",
       "      <td>1064</td>\n",
       "      <td>89347.0</td>\n",
       "      <td>512</td>\n",
       "      <td>195</td>\n",
       "      <td>1071</td>\n",
       "      <td>...</td>\n",
       "      <td>0.0</td>\n",
       "      <td>0.0</td>\n",
       "      <td>100.0</td>\n",
       "      <td>4.0</td>\n",
       "      <td>6</td>\n",
       "      <td>NaN</td>\n",
       "      <td>NaN</td>\n",
       "      <td>NaN</td>\n",
       "      <td>NaN</td>\n",
       "      <td>NaN</td>\n",
       "    </tr>\n",
       "    <tr>\n",
       "      <th>22002</th>\n",
       "      <td>0</td>\n",
       "      <td>768</td>\n",
       "      <td>330</td>\n",
       "      <td>41860.0</td>\n",
       "      <td>112387.0</td>\n",
       "      <td>438</td>\n",
       "      <td>70527.0</td>\n",
       "      <td>94</td>\n",
       "      <td>9</td>\n",
       "      <td>466</td>\n",
       "      <td>...</td>\n",
       "      <td>13.0</td>\n",
       "      <td>6.0</td>\n",
       "      <td>47.0</td>\n",
       "      <td>3.0</td>\n",
       "      <td>34</td>\n",
       "      <td>NaN</td>\n",
       "      <td>NaN</td>\n",
       "      <td>NaN</td>\n",
       "      <td>NaN</td>\n",
       "      <td>NaN</td>\n",
       "    </tr>\n",
       "    <tr>\n",
       "      <th>22003</th>\n",
       "      <td>0</td>\n",
       "      <td>3638</td>\n",
       "      <td>2126</td>\n",
       "      <td>161986.0</td>\n",
       "      <td>309457.0</td>\n",
       "      <td>1512</td>\n",
       "      <td>147471.0</td>\n",
       "      <td>725</td>\n",
       "      <td>207</td>\n",
       "      <td>2276</td>\n",
       "      <td>...</td>\n",
       "      <td>NaN</td>\n",
       "      <td>NaN</td>\n",
       "      <td>NaN</td>\n",
       "      <td>2.0</td>\n",
       "      <td>19</td>\n",
       "      <td>NaN</td>\n",
       "      <td>NaN</td>\n",
       "      <td>NaN</td>\n",
       "      <td>NaN</td>\n",
       "      <td>NaN</td>\n",
       "    </tr>\n",
       "    <tr>\n",
       "      <th>22004</th>\n",
       "      <td>0</td>\n",
       "      <td>600</td>\n",
       "      <td>333</td>\n",
       "      <td>20133.0</td>\n",
       "      <td>32666.0</td>\n",
       "      <td>267</td>\n",
       "      <td>12533.0</td>\n",
       "      <td>100</td>\n",
       "      <td>11</td>\n",
       "      <td>300</td>\n",
       "      <td>...</td>\n",
       "      <td>0.0</td>\n",
       "      <td>0.0</td>\n",
       "      <td>14.0</td>\n",
       "      <td>3.0</td>\n",
       "      <td>59</td>\n",
       "      <td>NaN</td>\n",
       "      <td>NaN</td>\n",
       "      <td>NaN</td>\n",
       "      <td>NaN</td>\n",
       "      <td>NaN</td>\n",
       "    </tr>\n",
       "    <tr>\n",
       "      <th>22005</th>\n",
       "      <td>0</td>\n",
       "      <td>1074</td>\n",
       "      <td>642</td>\n",
       "      <td>38257.0</td>\n",
       "      <td>66570.0</td>\n",
       "      <td>432</td>\n",
       "      <td>28313.0</td>\n",
       "      <td>108</td>\n",
       "      <td>31</td>\n",
       "      <td>577</td>\n",
       "      <td>...</td>\n",
       "      <td>100.0</td>\n",
       "      <td>100.0</td>\n",
       "      <td>100.0</td>\n",
       "      <td>1.0</td>\n",
       "      <td>4</td>\n",
       "      <td>NaN</td>\n",
       "      <td>NaN</td>\n",
       "      <td>NaN</td>\n",
       "      <td>NaN</td>\n",
       "      <td>NaN</td>\n",
       "    </tr>\n",
       "    <tr>\n",
       "      <th>22006</th>\n",
       "      <td>0</td>\n",
       "      <td>1335</td>\n",
       "      <td>926</td>\n",
       "      <td>36768.0</td>\n",
       "      <td>57705.0</td>\n",
       "      <td>409</td>\n",
       "      <td>20937.0</td>\n",
       "      <td>164</td>\n",
       "      <td>42</td>\n",
       "      <td>500</td>\n",
       "      <td>...</td>\n",
       "      <td>0.0</td>\n",
       "      <td>0.0</td>\n",
       "      <td>31.0</td>\n",
       "      <td>3.0</td>\n",
       "      <td>45</td>\n",
       "      <td>1995.0</td>\n",
       "      <td>1115.0</td>\n",
       "      <td>850.0</td>\n",
       "      <td>440.0</td>\n",
       "      <td>14.0</td>\n",
       "    </tr>\n",
       "    <tr>\n",
       "      <th>22007</th>\n",
       "      <td>0</td>\n",
       "      <td>706</td>\n",
       "      <td>390</td>\n",
       "      <td>19285.0</td>\n",
       "      <td>35429.0</td>\n",
       "      <td>316</td>\n",
       "      <td>16144.0</td>\n",
       "      <td>101</td>\n",
       "      <td>31</td>\n",
       "      <td>368</td>\n",
       "      <td>...</td>\n",
       "      <td>54.0</td>\n",
       "      <td>51.0</td>\n",
       "      <td>95.0</td>\n",
       "      <td>1.0</td>\n",
       "      <td>25</td>\n",
       "      <td>NaN</td>\n",
       "      <td>NaN</td>\n",
       "      <td>NaN</td>\n",
       "      <td>NaN</td>\n",
       "      <td>NaN</td>\n",
       "    </tr>\n",
       "    <tr>\n",
       "      <th>22008</th>\n",
       "      <td>0</td>\n",
       "      <td>666</td>\n",
       "      <td>398</td>\n",
       "      <td>33803.0</td>\n",
       "      <td>53686.0</td>\n",
       "      <td>268</td>\n",
       "      <td>19883.0</td>\n",
       "      <td>149</td>\n",
       "      <td>45</td>\n",
       "      <td>360</td>\n",
       "      <td>...</td>\n",
       "      <td>100.0</td>\n",
       "      <td>100.0</td>\n",
       "      <td>100.0</td>\n",
       "      <td>2.0</td>\n",
       "      <td>43</td>\n",
       "      <td>0.0</td>\n",
       "      <td>142.0</td>\n",
       "      <td>101.0</td>\n",
       "      <td>71.0</td>\n",
       "      <td>0.0</td>\n",
       "    </tr>\n",
       "    <tr>\n",
       "      <th>22009</th>\n",
       "      <td>0</td>\n",
       "      <td>594</td>\n",
       "      <td>345</td>\n",
       "      <td>61249.0</td>\n",
       "      <td>99419.0</td>\n",
       "      <td>249</td>\n",
       "      <td>38170.0</td>\n",
       "      <td>94</td>\n",
       "      <td>0</td>\n",
       "      <td>294</td>\n",
       "      <td>...</td>\n",
       "      <td>NaN</td>\n",
       "      <td>NaN</td>\n",
       "      <td>NaN</td>\n",
       "      <td>NaN</td>\n",
       "      <td>5</td>\n",
       "      <td>NaN</td>\n",
       "      <td>NaN</td>\n",
       "      <td>NaN</td>\n",
       "      <td>NaN</td>\n",
       "      <td>NaN</td>\n",
       "    </tr>\n",
       "    <tr>\n",
       "      <th>22010</th>\n",
       "      <td>0</td>\n",
       "      <td>245</td>\n",
       "      <td>168</td>\n",
       "      <td>10675.0</td>\n",
       "      <td>17005.0</td>\n",
       "      <td>77</td>\n",
       "      <td>6330.0</td>\n",
       "      <td>122</td>\n",
       "      <td>44</td>\n",
       "      <td>161</td>\n",
       "      <td>...</td>\n",
       "      <td>NaN</td>\n",
       "      <td>NaN</td>\n",
       "      <td>NaN</td>\n",
       "      <td>3.0</td>\n",
       "      <td>20</td>\n",
       "      <td>NaN</td>\n",
       "      <td>NaN</td>\n",
       "      <td>NaN</td>\n",
       "      <td>NaN</td>\n",
       "      <td>NaN</td>\n",
       "    </tr>\n",
       "    <tr>\n",
       "      <th>22011</th>\n",
       "      <td>0</td>\n",
       "      <td>1116</td>\n",
       "      <td>534</td>\n",
       "      <td>56920.0</td>\n",
       "      <td>106044.0</td>\n",
       "      <td>582</td>\n",
       "      <td>49124.0</td>\n",
       "      <td>0</td>\n",
       "      <td>0</td>\n",
       "      <td>472</td>\n",
       "      <td>...</td>\n",
       "      <td>0.0</td>\n",
       "      <td>0.0</td>\n",
       "      <td>18.0</td>\n",
       "      <td>10.0</td>\n",
       "      <td>69</td>\n",
       "      <td>NaN</td>\n",
       "      <td>NaN</td>\n",
       "      <td>NaN</td>\n",
       "      <td>NaN</td>\n",
       "      <td>NaN</td>\n",
       "    </tr>\n",
       "    <tr>\n",
       "      <th>22012</th>\n",
       "      <td>0</td>\n",
       "      <td>1869</td>\n",
       "      <td>606</td>\n",
       "      <td>76812.0</td>\n",
       "      <td>273196.0</td>\n",
       "      <td>1263</td>\n",
       "      <td>196384.0</td>\n",
       "      <td>0</td>\n",
       "      <td>0</td>\n",
       "      <td>452</td>\n",
       "      <td>...</td>\n",
       "      <td>100.0</td>\n",
       "      <td>11.0</td>\n",
       "      <td>11.0</td>\n",
       "      <td>6.0</td>\n",
       "      <td>20</td>\n",
       "      <td>NaN</td>\n",
       "      <td>NaN</td>\n",
       "      <td>NaN</td>\n",
       "      <td>NaN</td>\n",
       "      <td>NaN</td>\n",
       "    </tr>\n",
       "    <tr>\n",
       "      <th>22013</th>\n",
       "      <td>0</td>\n",
       "      <td>2813</td>\n",
       "      <td>1184</td>\n",
       "      <td>107689.0</td>\n",
       "      <td>325934.0</td>\n",
       "      <td>1629</td>\n",
       "      <td>218245.0</td>\n",
       "      <td>175</td>\n",
       "      <td>1</td>\n",
       "      <td>1016</td>\n",
       "      <td>...</td>\n",
       "      <td>30.0</td>\n",
       "      <td>8.0</td>\n",
       "      <td>27.0</td>\n",
       "      <td>2.0</td>\n",
       "      <td>23</td>\n",
       "      <td>NaN</td>\n",
       "      <td>NaN</td>\n",
       "      <td>NaN</td>\n",
       "      <td>NaN</td>\n",
       "      <td>NaN</td>\n",
       "    </tr>\n",
       "    <tr>\n",
       "      <th>22014</th>\n",
       "      <td>0</td>\n",
       "      <td>245</td>\n",
       "      <td>91</td>\n",
       "      <td>7818.0</td>\n",
       "      <td>29336.0</td>\n",
       "      <td>154</td>\n",
       "      <td>21518.0</td>\n",
       "      <td>233</td>\n",
       "      <td>233</td>\n",
       "      <td>233</td>\n",
       "      <td>...</td>\n",
       "      <td>NaN</td>\n",
       "      <td>NaN</td>\n",
       "      <td>NaN</td>\n",
       "      <td>2.0</td>\n",
       "      <td>11</td>\n",
       "      <td>NaN</td>\n",
       "      <td>NaN</td>\n",
       "      <td>NaN</td>\n",
       "      <td>NaN</td>\n",
       "      <td>NaN</td>\n",
       "    </tr>\n",
       "    <tr>\n",
       "      <th>22015</th>\n",
       "      <td>0</td>\n",
       "      <td>1608</td>\n",
       "      <td>716</td>\n",
       "      <td>58074.0</td>\n",
       "      <td>146544.0</td>\n",
       "      <td>892</td>\n",
       "      <td>88470.0</td>\n",
       "      <td>223</td>\n",
       "      <td>55</td>\n",
       "      <td>887</td>\n",
       "      <td>...</td>\n",
       "      <td>0.0</td>\n",
       "      <td>0.0</td>\n",
       "      <td>100.0</td>\n",
       "      <td>1.0</td>\n",
       "      <td>12</td>\n",
       "      <td>NaN</td>\n",
       "      <td>NaN</td>\n",
       "      <td>NaN</td>\n",
       "      <td>NaN</td>\n",
       "      <td>NaN</td>\n",
       "    </tr>\n",
       "    <tr>\n",
       "      <th>22016</th>\n",
       "      <td>0</td>\n",
       "      <td>1369</td>\n",
       "      <td>607</td>\n",
       "      <td>27511.0</td>\n",
       "      <td>65427.0</td>\n",
       "      <td>762</td>\n",
       "      <td>37916.0</td>\n",
       "      <td>142</td>\n",
       "      <td>34</td>\n",
       "      <td>598</td>\n",
       "      <td>...</td>\n",
       "      <td>0.0</td>\n",
       "      <td>0.0</td>\n",
       "      <td>100.0</td>\n",
       "      <td>9.0</td>\n",
       "      <td>23</td>\n",
       "      <td>NaN</td>\n",
       "      <td>NaN</td>\n",
       "      <td>NaN</td>\n",
       "      <td>NaN</td>\n",
       "      <td>NaN</td>\n",
       "    </tr>\n",
       "    <tr>\n",
       "      <th>22017</th>\n",
       "      <td>0</td>\n",
       "      <td>976</td>\n",
       "      <td>395</td>\n",
       "      <td>16806.0</td>\n",
       "      <td>42760.0</td>\n",
       "      <td>581</td>\n",
       "      <td>25954.0</td>\n",
       "      <td>156</td>\n",
       "      <td>43</td>\n",
       "      <td>470</td>\n",
       "      <td>...</td>\n",
       "      <td>NaN</td>\n",
       "      <td>0.0</td>\n",
       "      <td>0.0</td>\n",
       "      <td>2.0</td>\n",
       "      <td>37</td>\n",
       "      <td>NaN</td>\n",
       "      <td>NaN</td>\n",
       "      <td>NaN</td>\n",
       "      <td>NaN</td>\n",
       "      <td>NaN</td>\n",
       "    </tr>\n",
       "    <tr>\n",
       "      <th>22018</th>\n",
       "      <td>0</td>\n",
       "      <td>1087</td>\n",
       "      <td>0</td>\n",
       "      <td>0.0</td>\n",
       "      <td>96339.0</td>\n",
       "      <td>0</td>\n",
       "      <td>0.0</td>\n",
       "      <td>226</td>\n",
       "      <td>58</td>\n",
       "      <td>618</td>\n",
       "      <td>...</td>\n",
       "      <td>NaN</td>\n",
       "      <td>NaN</td>\n",
       "      <td>NaN</td>\n",
       "      <td>1.0</td>\n",
       "      <td>15</td>\n",
       "      <td>150.0</td>\n",
       "      <td>71.0</td>\n",
       "      <td>40.0</td>\n",
       "      <td>20.0</td>\n",
       "      <td>3.0</td>\n",
       "    </tr>\n",
       "    <tr>\n",
       "      <th>22019</th>\n",
       "      <td>0</td>\n",
       "      <td>376</td>\n",
       "      <td>158</td>\n",
       "      <td>20144.0</td>\n",
       "      <td>50027.0</td>\n",
       "      <td>218</td>\n",
       "      <td>29883.0</td>\n",
       "      <td>81</td>\n",
       "      <td>24</td>\n",
       "      <td>183</td>\n",
       "      <td>...</td>\n",
       "      <td>82.0</td>\n",
       "      <td>69.0</td>\n",
       "      <td>84.0</td>\n",
       "      <td>2.0</td>\n",
       "      <td>22</td>\n",
       "      <td>NaN</td>\n",
       "      <td>NaN</td>\n",
       "      <td>NaN</td>\n",
       "      <td>NaN</td>\n",
       "      <td>NaN</td>\n",
       "    </tr>\n",
       "    <tr>\n",
       "      <th>22020</th>\n",
       "      <td>0</td>\n",
       "      <td>346</td>\n",
       "      <td>204</td>\n",
       "      <td>21870.0</td>\n",
       "      <td>34761.0</td>\n",
       "      <td>142</td>\n",
       "      <td>12891.0</td>\n",
       "      <td>72</td>\n",
       "      <td>14</td>\n",
       "      <td>213</td>\n",
       "      <td>...</td>\n",
       "      <td>27.0</td>\n",
       "      <td>26.0</td>\n",
       "      <td>93.0</td>\n",
       "      <td>3.0</td>\n",
       "      <td>35</td>\n",
       "      <td>NaN</td>\n",
       "      <td>NaN</td>\n",
       "      <td>NaN</td>\n",
       "      <td>NaN</td>\n",
       "      <td>NaN</td>\n",
       "    </tr>\n",
       "    <tr>\n",
       "      <th>22021</th>\n",
       "      <td>0</td>\n",
       "      <td>3614</td>\n",
       "      <td>2274</td>\n",
       "      <td>162381.0</td>\n",
       "      <td>243957.0</td>\n",
       "      <td>1340</td>\n",
       "      <td>81576.0</td>\n",
       "      <td>455</td>\n",
       "      <td>58</td>\n",
       "      <td>1961</td>\n",
       "      <td>...</td>\n",
       "      <td>76.0</td>\n",
       "      <td>59.0</td>\n",
       "      <td>77.0</td>\n",
       "      <td>1.0</td>\n",
       "      <td>11</td>\n",
       "      <td>NaN</td>\n",
       "      <td>NaN</td>\n",
       "      <td>NaN</td>\n",
       "      <td>NaN</td>\n",
       "      <td>NaN</td>\n",
       "    </tr>\n",
       "    <tr>\n",
       "      <th>22022</th>\n",
       "      <td>0</td>\n",
       "      <td>1035</td>\n",
       "      <td>610</td>\n",
       "      <td>29181.0</td>\n",
       "      <td>54295.0</td>\n",
       "      <td>425</td>\n",
       "      <td>25114.0</td>\n",
       "      <td>218</td>\n",
       "      <td>68</td>\n",
       "      <td>678</td>\n",
       "      <td>...</td>\n",
       "      <td>NaN</td>\n",
       "      <td>NaN</td>\n",
       "      <td>NaN</td>\n",
       "      <td>1.0</td>\n",
       "      <td>18</td>\n",
       "      <td>NaN</td>\n",
       "      <td>NaN</td>\n",
       "      <td>NaN</td>\n",
       "      <td>NaN</td>\n",
       "      <td>NaN</td>\n",
       "    </tr>\n",
       "    <tr>\n",
       "      <th>22023</th>\n",
       "      <td>0</td>\n",
       "      <td>2882</td>\n",
       "      <td>1637</td>\n",
       "      <td>72564.0</td>\n",
       "      <td>133021.0</td>\n",
       "      <td>1245</td>\n",
       "      <td>60457.0</td>\n",
       "      <td>525</td>\n",
       "      <td>172</td>\n",
       "      <td>1806</td>\n",
       "      <td>...</td>\n",
       "      <td>29.0</td>\n",
       "      <td>22.0</td>\n",
       "      <td>76.0</td>\n",
       "      <td>2.0</td>\n",
       "      <td>19</td>\n",
       "      <td>NaN</td>\n",
       "      <td>NaN</td>\n",
       "      <td>NaN</td>\n",
       "      <td>NaN</td>\n",
       "      <td>NaN</td>\n",
       "    </tr>\n",
       "    <tr>\n",
       "      <th>22024</th>\n",
       "      <td>0</td>\n",
       "      <td>617</td>\n",
       "      <td>271</td>\n",
       "      <td>20798.0</td>\n",
       "      <td>56265.0</td>\n",
       "      <td>346</td>\n",
       "      <td>35467.0</td>\n",
       "      <td>105</td>\n",
       "      <td>28</td>\n",
       "      <td>396</td>\n",
       "      <td>...</td>\n",
       "      <td>100.0</td>\n",
       "      <td>37.0</td>\n",
       "      <td>37.0</td>\n",
       "      <td>4.0</td>\n",
       "      <td>44</td>\n",
       "      <td>NaN</td>\n",
       "      <td>NaN</td>\n",
       "      <td>NaN</td>\n",
       "      <td>NaN</td>\n",
       "      <td>NaN</td>\n",
       "    </tr>\n",
       "    <tr>\n",
       "      <th>22025</th>\n",
       "      <td>0</td>\n",
       "      <td>4684</td>\n",
       "      <td>1810</td>\n",
       "      <td>288475.0</td>\n",
       "      <td>857925.0</td>\n",
       "      <td>2874</td>\n",
       "      <td>569450.0</td>\n",
       "      <td>875</td>\n",
       "      <td>165</td>\n",
       "      <td>2680</td>\n",
       "      <td>...</td>\n",
       "      <td>21.0</td>\n",
       "      <td>7.0</td>\n",
       "      <td>33.0</td>\n",
       "      <td>6.0</td>\n",
       "      <td>27</td>\n",
       "      <td>NaN</td>\n",
       "      <td>NaN</td>\n",
       "      <td>NaN</td>\n",
       "      <td>NaN</td>\n",
       "      <td>NaN</td>\n",
       "    </tr>\n",
       "    <tr>\n",
       "      <th>22026</th>\n",
       "      <td>0</td>\n",
       "      <td>600</td>\n",
       "      <td>339</td>\n",
       "      <td>24704.0</td>\n",
       "      <td>39708.0</td>\n",
       "      <td>261</td>\n",
       "      <td>15004.0</td>\n",
       "      <td>100</td>\n",
       "      <td>14</td>\n",
       "      <td>304</td>\n",
       "      <td>...</td>\n",
       "      <td>7.0</td>\n",
       "      <td>3.0</td>\n",
       "      <td>39.0</td>\n",
       "      <td>2.0</td>\n",
       "      <td>28</td>\n",
       "      <td>0.0</td>\n",
       "      <td>29.0</td>\n",
       "      <td>60.0</td>\n",
       "      <td>51.0</td>\n",
       "      <td>0.0</td>\n",
       "    </tr>\n",
       "    <tr>\n",
       "      <th>22027</th>\n",
       "      <td>0</td>\n",
       "      <td>3692</td>\n",
       "      <td>2352</td>\n",
       "      <td>148781.0</td>\n",
       "      <td>226914.0</td>\n",
       "      <td>1340</td>\n",
       "      <td>78133.0</td>\n",
       "      <td>1042</td>\n",
       "      <td>107</td>\n",
       "      <td>2973</td>\n",
       "      <td>...</td>\n",
       "      <td>0.0</td>\n",
       "      <td>0.0</td>\n",
       "      <td>2.0</td>\n",
       "      <td>8.0</td>\n",
       "      <td>16</td>\n",
       "      <td>NaN</td>\n",
       "      <td>NaN</td>\n",
       "      <td>NaN</td>\n",
       "      <td>NaN</td>\n",
       "      <td>NaN</td>\n",
       "    </tr>\n",
       "    <tr>\n",
       "      <th>22028</th>\n",
       "      <td>0</td>\n",
       "      <td>1501</td>\n",
       "      <td>699</td>\n",
       "      <td>47323.0</td>\n",
       "      <td>91743.0</td>\n",
       "      <td>802</td>\n",
       "      <td>44420.0</td>\n",
       "      <td>0</td>\n",
       "      <td>0</td>\n",
       "      <td>350</td>\n",
       "      <td>...</td>\n",
       "      <td>25.0</td>\n",
       "      <td>8.0</td>\n",
       "      <td>33.0</td>\n",
       "      <td>1.0</td>\n",
       "      <td>17</td>\n",
       "      <td>NaN</td>\n",
       "      <td>NaN</td>\n",
       "      <td>NaN</td>\n",
       "      <td>NaN</td>\n",
       "      <td>NaN</td>\n",
       "    </tr>\n",
       "    <tr>\n",
       "      <th>22029</th>\n",
       "      <td>0</td>\n",
       "      <td>1374</td>\n",
       "      <td>715</td>\n",
       "      <td>37024.0</td>\n",
       "      <td>74757.0</td>\n",
       "      <td>659</td>\n",
       "      <td>37733.0</td>\n",
       "      <td>192</td>\n",
       "      <td>39</td>\n",
       "      <td>1011</td>\n",
       "      <td>...</td>\n",
       "      <td>44.0</td>\n",
       "      <td>44.0</td>\n",
       "      <td>100.0</td>\n",
       "      <td>2.0</td>\n",
       "      <td>23</td>\n",
       "      <td>NaN</td>\n",
       "      <td>NaN</td>\n",
       "      <td>NaN</td>\n",
       "      <td>NaN</td>\n",
       "      <td>NaN</td>\n",
       "    </tr>\n",
       "    <tr>\n",
       "      <th>...</th>\n",
       "      <td>...</td>\n",
       "      <td>...</td>\n",
       "      <td>...</td>\n",
       "      <td>...</td>\n",
       "      <td>...</td>\n",
       "      <td>...</td>\n",
       "      <td>...</td>\n",
       "      <td>...</td>\n",
       "      <td>...</td>\n",
       "      <td>...</td>\n",
       "      <td>...</td>\n",
       "      <td>...</td>\n",
       "      <td>...</td>\n",
       "      <td>...</td>\n",
       "      <td>...</td>\n",
       "      <td>...</td>\n",
       "      <td>...</td>\n",
       "      <td>...</td>\n",
       "      <td>...</td>\n",
       "      <td>...</td>\n",
       "      <td>...</td>\n",
       "    </tr>\n",
       "    <tr>\n",
       "      <th>109970</th>\n",
       "      <td>0</td>\n",
       "      <td>1338</td>\n",
       "      <td>648</td>\n",
       "      <td>93985.0</td>\n",
       "      <td>202542.0</td>\n",
       "      <td>690</td>\n",
       "      <td>108557.0</td>\n",
       "      <td>208</td>\n",
       "      <td>32</td>\n",
       "      <td>777</td>\n",
       "      <td>...</td>\n",
       "      <td>18.0</td>\n",
       "      <td>10.0</td>\n",
       "      <td>52.0</td>\n",
       "      <td>1.0</td>\n",
       "      <td>21</td>\n",
       "      <td>100.0</td>\n",
       "      <td>94.0</td>\n",
       "      <td>150.0</td>\n",
       "      <td>165.0</td>\n",
       "      <td>3.0</td>\n",
       "    </tr>\n",
       "    <tr>\n",
       "      <th>109971</th>\n",
       "      <td>0</td>\n",
       "      <td>547</td>\n",
       "      <td>433</td>\n",
       "      <td>57904.0</td>\n",
       "      <td>71486.0</td>\n",
       "      <td>114</td>\n",
       "      <td>13582.0</td>\n",
       "      <td>147</td>\n",
       "      <td>14</td>\n",
       "      <td>246</td>\n",
       "      <td>...</td>\n",
       "      <td>64.0</td>\n",
       "      <td>29.0</td>\n",
       "      <td>45.0</td>\n",
       "      <td>6.0</td>\n",
       "      <td>20</td>\n",
       "      <td>99.0</td>\n",
       "      <td>102.0</td>\n",
       "      <td>129.0</td>\n",
       "      <td>367.0</td>\n",
       "      <td>1.0</td>\n",
       "    </tr>\n",
       "    <tr>\n",
       "      <th>109972</th>\n",
       "      <td>0</td>\n",
       "      <td>371</td>\n",
       "      <td>205</td>\n",
       "      <td>23257.0</td>\n",
       "      <td>39388.0</td>\n",
       "      <td>166</td>\n",
       "      <td>16131.0</td>\n",
       "      <td>87</td>\n",
       "      <td>23</td>\n",
       "      <td>196</td>\n",
       "      <td>...</td>\n",
       "      <td>0.0</td>\n",
       "      <td>0.0</td>\n",
       "      <td>33.0</td>\n",
       "      <td>1.0</td>\n",
       "      <td>14</td>\n",
       "      <td>9.0</td>\n",
       "      <td>66.0</td>\n",
       "      <td>41.0</td>\n",
       "      <td>39.0</td>\n",
       "      <td>1.0</td>\n",
       "    </tr>\n",
       "    <tr>\n",
       "      <th>109973</th>\n",
       "      <td>0</td>\n",
       "      <td>1074</td>\n",
       "      <td>402</td>\n",
       "      <td>18580.0</td>\n",
       "      <td>48258.0</td>\n",
       "      <td>672</td>\n",
       "      <td>29678.0</td>\n",
       "      <td>186</td>\n",
       "      <td>35</td>\n",
       "      <td>650</td>\n",
       "      <td>...</td>\n",
       "      <td>16.0</td>\n",
       "      <td>11.0</td>\n",
       "      <td>65.0</td>\n",
       "      <td>8.0</td>\n",
       "      <td>78</td>\n",
       "      <td>80.0</td>\n",
       "      <td>112.0</td>\n",
       "      <td>96.0</td>\n",
       "      <td>110.0</td>\n",
       "      <td>1.0</td>\n",
       "    </tr>\n",
       "    <tr>\n",
       "      <th>109974</th>\n",
       "      <td>0</td>\n",
       "      <td>1283</td>\n",
       "      <td>488</td>\n",
       "      <td>32077.0</td>\n",
       "      <td>96324.0</td>\n",
       "      <td>795</td>\n",
       "      <td>64247.0</td>\n",
       "      <td>33</td>\n",
       "      <td>33</td>\n",
       "      <td>501</td>\n",
       "      <td>...</td>\n",
       "      <td>0.0</td>\n",
       "      <td>0.0</td>\n",
       "      <td>100.0</td>\n",
       "      <td>2.0</td>\n",
       "      <td>19</td>\n",
       "      <td>8261.0</td>\n",
       "      <td>2754.0</td>\n",
       "      <td>1377.0</td>\n",
       "      <td>736.0</td>\n",
       "      <td>10.0</td>\n",
       "    </tr>\n",
       "    <tr>\n",
       "      <th>109975</th>\n",
       "      <td>0</td>\n",
       "      <td>268</td>\n",
       "      <td>201</td>\n",
       "      <td>14023.0</td>\n",
       "      <td>17511.0</td>\n",
       "      <td>67</td>\n",
       "      <td>3488.0</td>\n",
       "      <td>50</td>\n",
       "      <td>6</td>\n",
       "      <td>149</td>\n",
       "      <td>...</td>\n",
       "      <td>55.0</td>\n",
       "      <td>18.0</td>\n",
       "      <td>32.0</td>\n",
       "      <td>5.0</td>\n",
       "      <td>47</td>\n",
       "      <td>119.0</td>\n",
       "      <td>140.0</td>\n",
       "      <td>99.0</td>\n",
       "      <td>386.0</td>\n",
       "      <td>2.0</td>\n",
       "    </tr>\n",
       "    <tr>\n",
       "      <th>109976</th>\n",
       "      <td>0</td>\n",
       "      <td>840</td>\n",
       "      <td>416</td>\n",
       "      <td>24880.0</td>\n",
       "      <td>51065.0</td>\n",
       "      <td>424</td>\n",
       "      <td>26185.0</td>\n",
       "      <td>102</td>\n",
       "      <td>11</td>\n",
       "      <td>432</td>\n",
       "      <td>...</td>\n",
       "      <td>82.0</td>\n",
       "      <td>82.0</td>\n",
       "      <td>100.0</td>\n",
       "      <td>1.0</td>\n",
       "      <td>16</td>\n",
       "      <td>0.0</td>\n",
       "      <td>27.0</td>\n",
       "      <td>14.0</td>\n",
       "      <td>7.0</td>\n",
       "      <td>0.0</td>\n",
       "    </tr>\n",
       "    <tr>\n",
       "      <th>109977</th>\n",
       "      <td>0</td>\n",
       "      <td>902</td>\n",
       "      <td>601</td>\n",
       "      <td>67212.0</td>\n",
       "      <td>111299.0</td>\n",
       "      <td>301</td>\n",
       "      <td>44087.0</td>\n",
       "      <td>225</td>\n",
       "      <td>52</td>\n",
       "      <td>519</td>\n",
       "      <td>...</td>\n",
       "      <td>100.0</td>\n",
       "      <td>42.0</td>\n",
       "      <td>42.0</td>\n",
       "      <td>1.0</td>\n",
       "      <td>32</td>\n",
       "      <td>35.0</td>\n",
       "      <td>15.0</td>\n",
       "      <td>67.0</td>\n",
       "      <td>47.0</td>\n",
       "      <td>2.0</td>\n",
       "    </tr>\n",
       "    <tr>\n",
       "      <th>109978</th>\n",
       "      <td>0</td>\n",
       "      <td>1135</td>\n",
       "      <td>738</td>\n",
       "      <td>27669.0</td>\n",
       "      <td>47568.0</td>\n",
       "      <td>397</td>\n",
       "      <td>19899.0</td>\n",
       "      <td>267</td>\n",
       "      <td>49</td>\n",
       "      <td>784</td>\n",
       "      <td>...</td>\n",
       "      <td>18.0</td>\n",
       "      <td>11.0</td>\n",
       "      <td>58.0</td>\n",
       "      <td>2.0</td>\n",
       "      <td>28</td>\n",
       "      <td>100.0</td>\n",
       "      <td>43.0</td>\n",
       "      <td>21.0</td>\n",
       "      <td>76.0</td>\n",
       "      <td>2.0</td>\n",
       "    </tr>\n",
       "    <tr>\n",
       "      <th>109979</th>\n",
       "      <td>0</td>\n",
       "      <td>934</td>\n",
       "      <td>636</td>\n",
       "      <td>54604.0</td>\n",
       "      <td>95917.0</td>\n",
       "      <td>298</td>\n",
       "      <td>41313.0</td>\n",
       "      <td>69</td>\n",
       "      <td>15</td>\n",
       "      <td>539</td>\n",
       "      <td>...</td>\n",
       "      <td>51.0</td>\n",
       "      <td>4.0</td>\n",
       "      <td>8.0</td>\n",
       "      <td>11.0</td>\n",
       "      <td>53</td>\n",
       "      <td>NaN</td>\n",
       "      <td>NaN</td>\n",
       "      <td>NaN</td>\n",
       "      <td>NaN</td>\n",
       "      <td>NaN</td>\n",
       "    </tr>\n",
       "    <tr>\n",
       "      <th>109980</th>\n",
       "      <td>0</td>\n",
       "      <td>420</td>\n",
       "      <td>181</td>\n",
       "      <td>18757.0</td>\n",
       "      <td>42986.0</td>\n",
       "      <td>239</td>\n",
       "      <td>24229.0</td>\n",
       "      <td>12</td>\n",
       "      <td>5</td>\n",
       "      <td>212</td>\n",
       "      <td>...</td>\n",
       "      <td>39.0</td>\n",
       "      <td>23.0</td>\n",
       "      <td>59.0</td>\n",
       "      <td>1.0</td>\n",
       "      <td>53</td>\n",
       "      <td>0.0</td>\n",
       "      <td>34.0</td>\n",
       "      <td>78.0</td>\n",
       "      <td>66.0</td>\n",
       "      <td>0.0</td>\n",
       "    </tr>\n",
       "    <tr>\n",
       "      <th>109981</th>\n",
       "      <td>0</td>\n",
       "      <td>2085</td>\n",
       "      <td>840</td>\n",
       "      <td>58536.0</td>\n",
       "      <td>150751.0</td>\n",
       "      <td>1245</td>\n",
       "      <td>92215.0</td>\n",
       "      <td>99</td>\n",
       "      <td>6</td>\n",
       "      <td>1069</td>\n",
       "      <td>...</td>\n",
       "      <td>16.0</td>\n",
       "      <td>9.0</td>\n",
       "      <td>56.0</td>\n",
       "      <td>1.0</td>\n",
       "      <td>52</td>\n",
       "      <td>299.0</td>\n",
       "      <td>1116.0</td>\n",
       "      <td>630.0</td>\n",
       "      <td>503.0</td>\n",
       "      <td>4.0</td>\n",
       "    </tr>\n",
       "    <tr>\n",
       "      <th>109982</th>\n",
       "      <td>0</td>\n",
       "      <td>523</td>\n",
       "      <td>253</td>\n",
       "      <td>14427.0</td>\n",
       "      <td>34382.0</td>\n",
       "      <td>270</td>\n",
       "      <td>19955.0</td>\n",
       "      <td>23</td>\n",
       "      <td>9</td>\n",
       "      <td>71</td>\n",
       "      <td>...</td>\n",
       "      <td>100.0</td>\n",
       "      <td>100.0</td>\n",
       "      <td>100.0</td>\n",
       "      <td>2.0</td>\n",
       "      <td>24</td>\n",
       "      <td>67.0</td>\n",
       "      <td>187.0</td>\n",
       "      <td>1099.0</td>\n",
       "      <td>549.0</td>\n",
       "      <td>5.0</td>\n",
       "    </tr>\n",
       "    <tr>\n",
       "      <th>109983</th>\n",
       "      <td>0</td>\n",
       "      <td>600</td>\n",
       "      <td>346</td>\n",
       "      <td>31203.0</td>\n",
       "      <td>57457.0</td>\n",
       "      <td>254</td>\n",
       "      <td>26254.0</td>\n",
       "      <td>0</td>\n",
       "      <td>0</td>\n",
       "      <td>500</td>\n",
       "      <td>...</td>\n",
       "      <td>100.0</td>\n",
       "      <td>50.0</td>\n",
       "      <td>50.0</td>\n",
       "      <td>13.0</td>\n",
       "      <td>25</td>\n",
       "      <td>222.0</td>\n",
       "      <td>178.0</td>\n",
       "      <td>99.0</td>\n",
       "      <td>74.0</td>\n",
       "      <td>8.0</td>\n",
       "    </tr>\n",
       "    <tr>\n",
       "      <th>109984</th>\n",
       "      <td>0</td>\n",
       "      <td>450</td>\n",
       "      <td>272</td>\n",
       "      <td>11057.0</td>\n",
       "      <td>20426.0</td>\n",
       "      <td>178</td>\n",
       "      <td>9369.0</td>\n",
       "      <td>76</td>\n",
       "      <td>18</td>\n",
       "      <td>216</td>\n",
       "      <td>...</td>\n",
       "      <td>23.0</td>\n",
       "      <td>21.0</td>\n",
       "      <td>91.0</td>\n",
       "      <td>1.0</td>\n",
       "      <td>44</td>\n",
       "      <td>0.0</td>\n",
       "      <td>0.0</td>\n",
       "      <td>263.0</td>\n",
       "      <td>131.0</td>\n",
       "      <td>0.0</td>\n",
       "    </tr>\n",
       "    <tr>\n",
       "      <th>109985</th>\n",
       "      <td>0</td>\n",
       "      <td>339</td>\n",
       "      <td>129</td>\n",
       "      <td>35526.0</td>\n",
       "      <td>81771.0</td>\n",
       "      <td>210</td>\n",
       "      <td>46245.0</td>\n",
       "      <td>196</td>\n",
       "      <td>0</td>\n",
       "      <td>200</td>\n",
       "      <td>...</td>\n",
       "      <td>42.0</td>\n",
       "      <td>42.0</td>\n",
       "      <td>100.0</td>\n",
       "      <td>1.0</td>\n",
       "      <td>18</td>\n",
       "      <td>70.0</td>\n",
       "      <td>27.0</td>\n",
       "      <td>28.0</td>\n",
       "      <td>53.0</td>\n",
       "      <td>2.0</td>\n",
       "    </tr>\n",
       "    <tr>\n",
       "      <th>109986</th>\n",
       "      <td>0</td>\n",
       "      <td>1055</td>\n",
       "      <td>702</td>\n",
       "      <td>58836.0</td>\n",
       "      <td>88486.0</td>\n",
       "      <td>353</td>\n",
       "      <td>29650.0</td>\n",
       "      <td>113</td>\n",
       "      <td>27</td>\n",
       "      <td>353</td>\n",
       "      <td>...</td>\n",
       "      <td>0.0</td>\n",
       "      <td>0.0</td>\n",
       "      <td>53.0</td>\n",
       "      <td>2.0</td>\n",
       "      <td>18</td>\n",
       "      <td>80.0</td>\n",
       "      <td>40.0</td>\n",
       "      <td>49.0</td>\n",
       "      <td>47.0</td>\n",
       "      <td>3.0</td>\n",
       "    </tr>\n",
       "    <tr>\n",
       "      <th>109987</th>\n",
       "      <td>0</td>\n",
       "      <td>495</td>\n",
       "      <td>224</td>\n",
       "      <td>17640.0</td>\n",
       "      <td>40244.0</td>\n",
       "      <td>271</td>\n",
       "      <td>22604.0</td>\n",
       "      <td>124</td>\n",
       "      <td>30</td>\n",
       "      <td>291</td>\n",
       "      <td>...</td>\n",
       "      <td>30.0</td>\n",
       "      <td>30.0</td>\n",
       "      <td>100.0</td>\n",
       "      <td>3.0</td>\n",
       "      <td>14</td>\n",
       "      <td>0.0</td>\n",
       "      <td>0.0</td>\n",
       "      <td>43.0</td>\n",
       "      <td>21.0</td>\n",
       "      <td>0.0</td>\n",
       "    </tr>\n",
       "    <tr>\n",
       "      <th>109988</th>\n",
       "      <td>0</td>\n",
       "      <td>418</td>\n",
       "      <td>190</td>\n",
       "      <td>13697.0</td>\n",
       "      <td>23518.0</td>\n",
       "      <td>228</td>\n",
       "      <td>9821.0</td>\n",
       "      <td>14</td>\n",
       "      <td>0</td>\n",
       "      <td>73</td>\n",
       "      <td>...</td>\n",
       "      <td>NaN</td>\n",
       "      <td>0.0</td>\n",
       "      <td>0.0</td>\n",
       "      <td>2.0</td>\n",
       "      <td>12</td>\n",
       "      <td>0.0</td>\n",
       "      <td>82.0</td>\n",
       "      <td>41.0</td>\n",
       "      <td>61.0</td>\n",
       "      <td>0.0</td>\n",
       "    </tr>\n",
       "    <tr>\n",
       "      <th>109989</th>\n",
       "      <td>0</td>\n",
       "      <td>400</td>\n",
       "      <td>232</td>\n",
       "      <td>5221.0</td>\n",
       "      <td>10357.0</td>\n",
       "      <td>168</td>\n",
       "      <td>5136.0</td>\n",
       "      <td>100</td>\n",
       "      <td>0</td>\n",
       "      <td>200</td>\n",
       "      <td>...</td>\n",
       "      <td>100.0</td>\n",
       "      <td>100.0</td>\n",
       "      <td>100.0</td>\n",
       "      <td>1.0</td>\n",
       "      <td>7</td>\n",
       "      <td>NaN</td>\n",
       "      <td>NaN</td>\n",
       "      <td>NaN</td>\n",
       "      <td>NaN</td>\n",
       "      <td>NaN</td>\n",
       "    </tr>\n",
       "    <tr>\n",
       "      <th>109990</th>\n",
       "      <td>0</td>\n",
       "      <td>3450</td>\n",
       "      <td>1192</td>\n",
       "      <td>59347.0</td>\n",
       "      <td>194515.0</td>\n",
       "      <td>2258</td>\n",
       "      <td>135168.0</td>\n",
       "      <td>573</td>\n",
       "      <td>98</td>\n",
       "      <td>2329</td>\n",
       "      <td>...</td>\n",
       "      <td>NaN</td>\n",
       "      <td>NaN</td>\n",
       "      <td>NaN</td>\n",
       "      <td>1.0</td>\n",
       "      <td>3</td>\n",
       "      <td>3.0</td>\n",
       "      <td>1.0</td>\n",
       "      <td>1.0</td>\n",
       "      <td>1.0</td>\n",
       "      <td>1.0</td>\n",
       "    </tr>\n",
       "    <tr>\n",
       "      <th>109991</th>\n",
       "      <td>0</td>\n",
       "      <td>1966</td>\n",
       "      <td>661</td>\n",
       "      <td>58730.0</td>\n",
       "      <td>158868.0</td>\n",
       "      <td>1305</td>\n",
       "      <td>100138.0</td>\n",
       "      <td>412</td>\n",
       "      <td>115</td>\n",
       "      <td>1026</td>\n",
       "      <td>...</td>\n",
       "      <td>50.0</td>\n",
       "      <td>35.0</td>\n",
       "      <td>70.0</td>\n",
       "      <td>1.0</td>\n",
       "      <td>16</td>\n",
       "      <td>0.0</td>\n",
       "      <td>40.0</td>\n",
       "      <td>20.0</td>\n",
       "      <td>10.0</td>\n",
       "      <td>0.0</td>\n",
       "    </tr>\n",
       "    <tr>\n",
       "      <th>109992</th>\n",
       "      <td>0</td>\n",
       "      <td>200</td>\n",
       "      <td>107</td>\n",
       "      <td>9436.0</td>\n",
       "      <td>21906.0</td>\n",
       "      <td>93</td>\n",
       "      <td>12470.0</td>\n",
       "      <td>181</td>\n",
       "      <td>124</td>\n",
       "      <td>181</td>\n",
       "      <td>...</td>\n",
       "      <td>75.0</td>\n",
       "      <td>16.0</td>\n",
       "      <td>21.0</td>\n",
       "      <td>1.0</td>\n",
       "      <td>13</td>\n",
       "      <td>150.0</td>\n",
       "      <td>80.0</td>\n",
       "      <td>55.0</td>\n",
       "      <td>58.0</td>\n",
       "      <td>2.0</td>\n",
       "    </tr>\n",
       "    <tr>\n",
       "      <th>109993</th>\n",
       "      <td>0</td>\n",
       "      <td>1221</td>\n",
       "      <td>624</td>\n",
       "      <td>31013.0</td>\n",
       "      <td>69074.0</td>\n",
       "      <td>597</td>\n",
       "      <td>38061.0</td>\n",
       "      <td>549</td>\n",
       "      <td>130</td>\n",
       "      <td>750</td>\n",
       "      <td>...</td>\n",
       "      <td>0.0</td>\n",
       "      <td>0.0</td>\n",
       "      <td>14.0</td>\n",
       "      <td>1.0</td>\n",
       "      <td>29</td>\n",
       "      <td>230.0</td>\n",
       "      <td>630.0</td>\n",
       "      <td>351.0</td>\n",
       "      <td>242.0</td>\n",
       "      <td>4.0</td>\n",
       "    </tr>\n",
       "    <tr>\n",
       "      <th>109994</th>\n",
       "      <td>0</td>\n",
       "      <td>1073</td>\n",
       "      <td>220</td>\n",
       "      <td>15374.0</td>\n",
       "      <td>66354.0</td>\n",
       "      <td>853</td>\n",
       "      <td>50980.0</td>\n",
       "      <td>102</td>\n",
       "      <td>0</td>\n",
       "      <td>766</td>\n",
       "      <td>...</td>\n",
       "      <td>100.0</td>\n",
       "      <td>100.0</td>\n",
       "      <td>100.0</td>\n",
       "      <td>2.0</td>\n",
       "      <td>3</td>\n",
       "      <td>NaN</td>\n",
       "      <td>NaN</td>\n",
       "      <td>NaN</td>\n",
       "      <td>NaN</td>\n",
       "      <td>NaN</td>\n",
       "    </tr>\n",
       "    <tr>\n",
       "      <th>109995</th>\n",
       "      <td>0</td>\n",
       "      <td>1262</td>\n",
       "      <td>616</td>\n",
       "      <td>37425.0</td>\n",
       "      <td>103515.0</td>\n",
       "      <td>646</td>\n",
       "      <td>66090.0</td>\n",
       "      <td>217</td>\n",
       "      <td>64</td>\n",
       "      <td>610</td>\n",
       "      <td>...</td>\n",
       "      <td>74.0</td>\n",
       "      <td>32.0</td>\n",
       "      <td>43.0</td>\n",
       "      <td>14.0</td>\n",
       "      <td>40</td>\n",
       "      <td>NaN</td>\n",
       "      <td>NaN</td>\n",
       "      <td>NaN</td>\n",
       "      <td>NaN</td>\n",
       "      <td>NaN</td>\n",
       "    </tr>\n",
       "    <tr>\n",
       "      <th>109996</th>\n",
       "      <td>0</td>\n",
       "      <td>1864</td>\n",
       "      <td>1051</td>\n",
       "      <td>47323.0</td>\n",
       "      <td>88278.0</td>\n",
       "      <td>813</td>\n",
       "      <td>40955.0</td>\n",
       "      <td>429</td>\n",
       "      <td>93</td>\n",
       "      <td>1283</td>\n",
       "      <td>...</td>\n",
       "      <td>NaN</td>\n",
       "      <td>NaN</td>\n",
       "      <td>NaN</td>\n",
       "      <td>2.0</td>\n",
       "      <td>18</td>\n",
       "      <td>100.0</td>\n",
       "      <td>1003.0</td>\n",
       "      <td>515.0</td>\n",
       "      <td>911.0</td>\n",
       "      <td>1.0</td>\n",
       "    </tr>\n",
       "    <tr>\n",
       "      <th>109997</th>\n",
       "      <td>0</td>\n",
       "      <td>986</td>\n",
       "      <td>393</td>\n",
       "      <td>19924.0</td>\n",
       "      <td>48471.0</td>\n",
       "      <td>593</td>\n",
       "      <td>28547.0</td>\n",
       "      <td>94</td>\n",
       "      <td>36</td>\n",
       "      <td>260</td>\n",
       "      <td>...</td>\n",
       "      <td>100.0</td>\n",
       "      <td>100.0</td>\n",
       "      <td>100.0</td>\n",
       "      <td>2.0</td>\n",
       "      <td>3</td>\n",
       "      <td>0.0</td>\n",
       "      <td>16.0</td>\n",
       "      <td>16.0</td>\n",
       "      <td>16.0</td>\n",
       "      <td>0.0</td>\n",
       "    </tr>\n",
       "    <tr>\n",
       "      <th>109998</th>\n",
       "      <td>0</td>\n",
       "      <td>550</td>\n",
       "      <td>196</td>\n",
       "      <td>12691.0</td>\n",
       "      <td>35941.0</td>\n",
       "      <td>354</td>\n",
       "      <td>23250.0</td>\n",
       "      <td>432</td>\n",
       "      <td>75</td>\n",
       "      <td>546</td>\n",
       "      <td>...</td>\n",
       "      <td>9.0</td>\n",
       "      <td>2.0</td>\n",
       "      <td>26.0</td>\n",
       "      <td>1.0</td>\n",
       "      <td>48</td>\n",
       "      <td>50.0</td>\n",
       "      <td>39.0</td>\n",
       "      <td>41.0</td>\n",
       "      <td>47.0</td>\n",
       "      <td>1.0</td>\n",
       "    </tr>\n",
       "    <tr>\n",
       "      <th>109999</th>\n",
       "      <td>0</td>\n",
       "      <td>4253</td>\n",
       "      <td>1737</td>\n",
       "      <td>121214.0</td>\n",
       "      <td>392279.0</td>\n",
       "      <td>2334</td>\n",
       "      <td>258501.0</td>\n",
       "      <td>429</td>\n",
       "      <td>104</td>\n",
       "      <td>2461</td>\n",
       "      <td>...</td>\n",
       "      <td>100.0</td>\n",
       "      <td>89.0</td>\n",
       "      <td>89.0</td>\n",
       "      <td>5.0</td>\n",
       "      <td>22</td>\n",
       "      <td>959.0</td>\n",
       "      <td>381.0</td>\n",
       "      <td>310.0</td>\n",
       "      <td>495.0</td>\n",
       "      <td>5.0</td>\n",
       "    </tr>\n",
       "  </tbody>\n",
       "</table>\n",
       "<p>88000 rows × 889 columns</p>\n",
       "</div>"
      ],
      "text/plain": [
       "        perf   TO9  TO10      TO52      TO51  TO17      TO54  TO27  TO28  \\\n",
       "22000      0  3474  1312   74134.0  226448.0  2162  152314.0   479   109   \n",
       "22001      0  2367  1303  103284.0  192631.0  1064   89347.0   512   195   \n",
       "22002      0   768   330   41860.0  112387.0   438   70527.0    94     9   \n",
       "22003      0  3638  2126  161986.0  309457.0  1512  147471.0   725   207   \n",
       "22004      0   600   333   20133.0   32666.0   267   12533.0   100    11   \n",
       "22005      0  1074   642   38257.0   66570.0   432   28313.0   108    31   \n",
       "22006      0  1335   926   36768.0   57705.0   409   20937.0   164    42   \n",
       "22007      0   706   390   19285.0   35429.0   316   16144.0   101    31   \n",
       "22008      0   666   398   33803.0   53686.0   268   19883.0   149    45   \n",
       "22009      0   594   345   61249.0   99419.0   249   38170.0    94     0   \n",
       "22010      0   245   168   10675.0   17005.0    77    6330.0   122    44   \n",
       "22011      0  1116   534   56920.0  106044.0   582   49124.0     0     0   \n",
       "22012      0  1869   606   76812.0  273196.0  1263  196384.0     0     0   \n",
       "22013      0  2813  1184  107689.0  325934.0  1629  218245.0   175     1   \n",
       "22014      0   245    91    7818.0   29336.0   154   21518.0   233   233   \n",
       "22015      0  1608   716   58074.0  146544.0   892   88470.0   223    55   \n",
       "22016      0  1369   607   27511.0   65427.0   762   37916.0   142    34   \n",
       "22017      0   976   395   16806.0   42760.0   581   25954.0   156    43   \n",
       "22018      0  1087     0       0.0   96339.0     0       0.0   226    58   \n",
       "22019      0   376   158   20144.0   50027.0   218   29883.0    81    24   \n",
       "22020      0   346   204   21870.0   34761.0   142   12891.0    72    14   \n",
       "22021      0  3614  2274  162381.0  243957.0  1340   81576.0   455    58   \n",
       "22022      0  1035   610   29181.0   54295.0   425   25114.0   218    68   \n",
       "22023      0  2882  1637   72564.0  133021.0  1245   60457.0   525   172   \n",
       "22024      0   617   271   20798.0   56265.0   346   35467.0   105    28   \n",
       "22025      0  4684  1810  288475.0  857925.0  2874  569450.0   875   165   \n",
       "22026      0   600   339   24704.0   39708.0   261   15004.0   100    14   \n",
       "22027      0  3692  2352  148781.0  226914.0  1340   78133.0  1042   107   \n",
       "22028      0  1501   699   47323.0   91743.0   802   44420.0     0     0   \n",
       "22029      0  1374   715   37024.0   74757.0   659   37733.0   192    39   \n",
       "...      ...   ...   ...       ...       ...   ...       ...   ...   ...   \n",
       "109970     0  1338   648   93985.0  202542.0   690  108557.0   208    32   \n",
       "109971     0   547   433   57904.0   71486.0   114   13582.0   147    14   \n",
       "109972     0   371   205   23257.0   39388.0   166   16131.0    87    23   \n",
       "109973     0  1074   402   18580.0   48258.0   672   29678.0   186    35   \n",
       "109974     0  1283   488   32077.0   96324.0   795   64247.0    33    33   \n",
       "109975     0   268   201   14023.0   17511.0    67    3488.0    50     6   \n",
       "109976     0   840   416   24880.0   51065.0   424   26185.0   102    11   \n",
       "109977     0   902   601   67212.0  111299.0   301   44087.0   225    52   \n",
       "109978     0  1135   738   27669.0   47568.0   397   19899.0   267    49   \n",
       "109979     0   934   636   54604.0   95917.0   298   41313.0    69    15   \n",
       "109980     0   420   181   18757.0   42986.0   239   24229.0    12     5   \n",
       "109981     0  2085   840   58536.0  150751.0  1245   92215.0    99     6   \n",
       "109982     0   523   253   14427.0   34382.0   270   19955.0    23     9   \n",
       "109983     0   600   346   31203.0   57457.0   254   26254.0     0     0   \n",
       "109984     0   450   272   11057.0   20426.0   178    9369.0    76    18   \n",
       "109985     0   339   129   35526.0   81771.0   210   46245.0   196     0   \n",
       "109986     0  1055   702   58836.0   88486.0   353   29650.0   113    27   \n",
       "109987     0   495   224   17640.0   40244.0   271   22604.0   124    30   \n",
       "109988     0   418   190   13697.0   23518.0   228    9821.0    14     0   \n",
       "109989     0   400   232    5221.0   10357.0   168    5136.0   100     0   \n",
       "109990     0  3450  1192   59347.0  194515.0  2258  135168.0   573    98   \n",
       "109991     0  1966   661   58730.0  158868.0  1305  100138.0   412   115   \n",
       "109992     0   200   107    9436.0   21906.0    93   12470.0   181   124   \n",
       "109993     0  1221   624   31013.0   69074.0   597   38061.0   549   130   \n",
       "109994     0  1073   220   15374.0   66354.0   853   50980.0   102     0   \n",
       "109995     0  1262   616   37425.0  103515.0   646   66090.0   217    64   \n",
       "109996     0  1864  1051   47323.0   88278.0   813   40955.0   429    93   \n",
       "109997     0   986   393   19924.0   48471.0   593   28547.0    94    36   \n",
       "109998     0   550   196   12691.0   35941.0   354   23250.0   432    75   \n",
       "109999     0  4253  1737  121214.0  392279.0  2334  258501.0   429   104   \n",
       "\n",
       "        TO29   ...     TB246  TB252  TB265  TB297  TB296  TO414_y  TO415_y  \\\n",
       "22000   1694   ...      93.0   76.0   82.0    2.0     15      NaN      NaN   \n",
       "22001   1071   ...       0.0    0.0  100.0    4.0      6      NaN      NaN   \n",
       "22002    466   ...      13.0    6.0   47.0    3.0     34      NaN      NaN   \n",
       "22003   2276   ...       NaN    NaN    NaN    2.0     19      NaN      NaN   \n",
       "22004    300   ...       0.0    0.0   14.0    3.0     59      NaN      NaN   \n",
       "22005    577   ...     100.0  100.0  100.0    1.0      4      NaN      NaN   \n",
       "22006    500   ...       0.0    0.0   31.0    3.0     45   1995.0   1115.0   \n",
       "22007    368   ...      54.0   51.0   95.0    1.0     25      NaN      NaN   \n",
       "22008    360   ...     100.0  100.0  100.0    2.0     43      0.0    142.0   \n",
       "22009    294   ...       NaN    NaN    NaN    NaN      5      NaN      NaN   \n",
       "22010    161   ...       NaN    NaN    NaN    3.0     20      NaN      NaN   \n",
       "22011    472   ...       0.0    0.0   18.0   10.0     69      NaN      NaN   \n",
       "22012    452   ...     100.0   11.0   11.0    6.0     20      NaN      NaN   \n",
       "22013   1016   ...      30.0    8.0   27.0    2.0     23      NaN      NaN   \n",
       "22014    233   ...       NaN    NaN    NaN    2.0     11      NaN      NaN   \n",
       "22015    887   ...       0.0    0.0  100.0    1.0     12      NaN      NaN   \n",
       "22016    598   ...       0.0    0.0  100.0    9.0     23      NaN      NaN   \n",
       "22017    470   ...       NaN    0.0    0.0    2.0     37      NaN      NaN   \n",
       "22018    618   ...       NaN    NaN    NaN    1.0     15    150.0     71.0   \n",
       "22019    183   ...      82.0   69.0   84.0    2.0     22      NaN      NaN   \n",
       "22020    213   ...      27.0   26.0   93.0    3.0     35      NaN      NaN   \n",
       "22021   1961   ...      76.0   59.0   77.0    1.0     11      NaN      NaN   \n",
       "22022    678   ...       NaN    NaN    NaN    1.0     18      NaN      NaN   \n",
       "22023   1806   ...      29.0   22.0   76.0    2.0     19      NaN      NaN   \n",
       "22024    396   ...     100.0   37.0   37.0    4.0     44      NaN      NaN   \n",
       "22025   2680   ...      21.0    7.0   33.0    6.0     27      NaN      NaN   \n",
       "22026    304   ...       7.0    3.0   39.0    2.0     28      0.0     29.0   \n",
       "22027   2973   ...       0.0    0.0    2.0    8.0     16      NaN      NaN   \n",
       "22028    350   ...      25.0    8.0   33.0    1.0     17      NaN      NaN   \n",
       "22029   1011   ...      44.0   44.0  100.0    2.0     23      NaN      NaN   \n",
       "...      ...   ...       ...    ...    ...    ...    ...      ...      ...   \n",
       "109970   777   ...      18.0   10.0   52.0    1.0     21    100.0     94.0   \n",
       "109971   246   ...      64.0   29.0   45.0    6.0     20     99.0    102.0   \n",
       "109972   196   ...       0.0    0.0   33.0    1.0     14      9.0     66.0   \n",
       "109973   650   ...      16.0   11.0   65.0    8.0     78     80.0    112.0   \n",
       "109974   501   ...       0.0    0.0  100.0    2.0     19   8261.0   2754.0   \n",
       "109975   149   ...      55.0   18.0   32.0    5.0     47    119.0    140.0   \n",
       "109976   432   ...      82.0   82.0  100.0    1.0     16      0.0     27.0   \n",
       "109977   519   ...     100.0   42.0   42.0    1.0     32     35.0     15.0   \n",
       "109978   784   ...      18.0   11.0   58.0    2.0     28    100.0     43.0   \n",
       "109979   539   ...      51.0    4.0    8.0   11.0     53      NaN      NaN   \n",
       "109980   212   ...      39.0   23.0   59.0    1.0     53      0.0     34.0   \n",
       "109981  1069   ...      16.0    9.0   56.0    1.0     52    299.0   1116.0   \n",
       "109982    71   ...     100.0  100.0  100.0    2.0     24     67.0    187.0   \n",
       "109983   500   ...     100.0   50.0   50.0   13.0     25    222.0    178.0   \n",
       "109984   216   ...      23.0   21.0   91.0    1.0     44      0.0      0.0   \n",
       "109985   200   ...      42.0   42.0  100.0    1.0     18     70.0     27.0   \n",
       "109986   353   ...       0.0    0.0   53.0    2.0     18     80.0     40.0   \n",
       "109987   291   ...      30.0   30.0  100.0    3.0     14      0.0      0.0   \n",
       "109988    73   ...       NaN    0.0    0.0    2.0     12      0.0     82.0   \n",
       "109989   200   ...     100.0  100.0  100.0    1.0      7      NaN      NaN   \n",
       "109990  2329   ...       NaN    NaN    NaN    1.0      3      3.0      1.0   \n",
       "109991  1026   ...      50.0   35.0   70.0    1.0     16      0.0     40.0   \n",
       "109992   181   ...      75.0   16.0   21.0    1.0     13    150.0     80.0   \n",
       "109993   750   ...       0.0    0.0   14.0    1.0     29    230.0    630.0   \n",
       "109994   766   ...     100.0  100.0  100.0    2.0      3      NaN      NaN   \n",
       "109995   610   ...      74.0   32.0   43.0   14.0     40      NaN      NaN   \n",
       "109996  1283   ...       NaN    NaN    NaN    2.0     18    100.0   1003.0   \n",
       "109997   260   ...     100.0  100.0  100.0    2.0      3      0.0     16.0   \n",
       "109998   546   ...       9.0    2.0   26.0    1.0     48     50.0     39.0   \n",
       "109999  2461   ...     100.0   89.0   89.0    5.0     22    959.0    381.0   \n",
       "\n",
       "        TO416_y  TO417_y  TO418_y  \n",
       "22000       NaN      NaN      NaN  \n",
       "22001       NaN      NaN      NaN  \n",
       "22002       NaN      NaN      NaN  \n",
       "22003       NaN      NaN      NaN  \n",
       "22004       NaN      NaN      NaN  \n",
       "22005       NaN      NaN      NaN  \n",
       "22006     850.0    440.0     14.0  \n",
       "22007       NaN      NaN      NaN  \n",
       "22008     101.0     71.0      0.0  \n",
       "22009       NaN      NaN      NaN  \n",
       "22010       NaN      NaN      NaN  \n",
       "22011       NaN      NaN      NaN  \n",
       "22012       NaN      NaN      NaN  \n",
       "22013       NaN      NaN      NaN  \n",
       "22014       NaN      NaN      NaN  \n",
       "22015       NaN      NaN      NaN  \n",
       "22016       NaN      NaN      NaN  \n",
       "22017       NaN      NaN      NaN  \n",
       "22018      40.0     20.0      3.0  \n",
       "22019       NaN      NaN      NaN  \n",
       "22020       NaN      NaN      NaN  \n",
       "22021       NaN      NaN      NaN  \n",
       "22022       NaN      NaN      NaN  \n",
       "22023       NaN      NaN      NaN  \n",
       "22024       NaN      NaN      NaN  \n",
       "22025       NaN      NaN      NaN  \n",
       "22026      60.0     51.0      0.0  \n",
       "22027       NaN      NaN      NaN  \n",
       "22028       NaN      NaN      NaN  \n",
       "22029       NaN      NaN      NaN  \n",
       "...         ...      ...      ...  \n",
       "109970    150.0    165.0      3.0  \n",
       "109971    129.0    367.0      1.0  \n",
       "109972     41.0     39.0      1.0  \n",
       "109973     96.0    110.0      1.0  \n",
       "109974   1377.0    736.0     10.0  \n",
       "109975     99.0    386.0      2.0  \n",
       "109976     14.0      7.0      0.0  \n",
       "109977     67.0     47.0      2.0  \n",
       "109978     21.0     76.0      2.0  \n",
       "109979      NaN      NaN      NaN  \n",
       "109980     78.0     66.0      0.0  \n",
       "109981    630.0    503.0      4.0  \n",
       "109982   1099.0    549.0      5.0  \n",
       "109983     99.0     74.0      8.0  \n",
       "109984    263.0    131.0      0.0  \n",
       "109985     28.0     53.0      2.0  \n",
       "109986     49.0     47.0      3.0  \n",
       "109987     43.0     21.0      0.0  \n",
       "109988     41.0     61.0      0.0  \n",
       "109989      NaN      NaN      NaN  \n",
       "109990      1.0      1.0      1.0  \n",
       "109991     20.0     10.0      0.0  \n",
       "109992     55.0     58.0      2.0  \n",
       "109993    351.0    242.0      4.0  \n",
       "109994      NaN      NaN      NaN  \n",
       "109995      NaN      NaN      NaN  \n",
       "109996    515.0    911.0      1.0  \n",
       "109997     16.0     16.0      0.0  \n",
       "109998     41.0     47.0      1.0  \n",
       "109999    310.0    495.0      5.0  \n",
       "\n",
       "[88000 rows x 889 columns]"
      ]
     },
     "execution_count": 471,
     "metadata": {},
     "output_type": "execute_result"
    }
   ],
   "source": [
    "data_train_1"
   ]
  },
  {
   "cell_type": "code",
   "execution_count": 123,
   "metadata": {
    "collapsed": true
   },
   "outputs": [],
   "source": [
    "d_1 = ['ugid']\n",
    "# d_2 = ['ugid','perf']"
   ]
  },
  {
   "cell_type": "code",
   "execution_count": 124,
   "metadata": {
    "collapsed": true
   },
   "outputs": [],
   "source": [
    "data_part1 =data_part1.drop(d_1,axis=1)\n",
    "data_part2 = data_part2.drop(d_1,axis=1)\n",
    "data_part3 = data_part3.drop(d_1,axis=1)\n",
    "data_part4 = data_part4.drop(d_1,axis=1)\n",
    "data_part5 = data_part5.drop(d_1,axis=1)\n",
    "data_train_1 = data_train_1.drop(d_1,axis=1)\n",
    "data_train_2 = data_train_2.drop(d_1,axis=1)\n",
    "data_train_3 = data_train_3.drop(d_1,axis=1)\n",
    "data_train_4 = data_train_4.drop(d_1,axis=1)\n",
    "data_train_5 = data_train_5.drop(d_1,axis=1)"
   ]
  },
  {
   "cell_type": "markdown",
   "metadata": {},
   "source": [
    "## LGBM part_1"
   ]
  },
  {
   "cell_type": "code",
   "execution_count": 100,
   "metadata": {},
   "outputs": [
    {
     "name": "stdout",
     "output_type": "stream",
     "text": [
      "[]\n"
     ]
    }
   ],
   "source": [
    "continuousDomain, categoricalDomain = continuous_categorical(data_train_1)"
   ]
  },
  {
   "cell_type": "code",
   "execution_count": 101,
   "metadata": {
    "collapsed": true
   },
   "outputs": [],
   "source": [
    "dfm = DataFrameMapper([(c, [CategoricalDomain(invalid_value_treatment = 'as_missing',\n",
    "                                              missing_value_treatment = 'as_value',\n",
    "                                              missing_value_replacement = 'N/A'), LabelBinarizer()])\n",
    "                       for c in categoricalDomain] \n",
    "                      + \n",
    "                     [(c, [ContinuousDomain(invalid_value_treatment = 'as_missing',\n",
    "                                                     missing_value_treatment = 'as_value',\n",
    "                                                     missing_value_replacement = -1)])\n",
    "                      for c in continuousDomain]\n",
    "                      ,df_out = True)"
   ]
  },
  {
   "cell_type": "code",
   "execution_count": 102,
   "metadata": {},
   "outputs": [
    {
     "name": "stdout",
     "output_type": "stream",
     "text": [
      "CPU times: user 6min 42s, sys: 356 ms, total: 6min 43s\n",
      "Wall time: 6min 43s\n"
     ]
    },
    {
     "data": {
      "text/plain": [
       "DataFrameMapper(default=False, df_out=True,\n",
       "        features=[('TO9', [ContinuousDomain()]), ('TO10', [ContinuousDomain()]), ('TO52', [ContinuousDomain()]), ('TO51', [ContinuousDomain()]), ('TO17', [ContinuousDomain()]), ('TO54', [ContinuousDomain()]), ('TO27', [ContinuousDomain()]), ('TO28', [ContinuousDomain()]), ('TO29', [ContinuousDomain()]), ('T...416_y', [ContinuousDomain()]), ('TO417_y', [ContinuousDomain()]), ('TO418_y', [ContinuousDomain()])],\n",
       "        input_df=False, sparse=False)"
      ]
     },
     "execution_count": 102,
     "metadata": {},
     "output_type": "execute_result"
    }
   ],
   "source": [
    "%%time\n",
    "dfm.fit(data_train_1)"
   ]
  },
  {
   "cell_type": "code",
   "execution_count": 103,
   "metadata": {
    "collapsed": true
   },
   "outputs": [],
   "source": [
    "data_train_1=data_train_1[data_train_1.perf.isin([0,1])]"
   ]
  },
  {
   "cell_type": "code",
   "execution_count": 104,
   "metadata": {
    "collapsed": true
   },
   "outputs": [],
   "source": [
    "X_train_1 = dfm.transform(data_train_1)"
   ]
  },
  {
   "cell_type": "code",
   "execution_count": 105,
   "metadata": {},
   "outputs": [
    {
     "data": {
      "text/plain": [
       "88000"
      ]
     },
     "execution_count": 105,
     "metadata": {},
     "output_type": "execute_result"
    }
   ],
   "source": [
    "len(X_train_1)"
   ]
  },
  {
   "cell_type": "code",
   "execution_count": 107,
   "metadata": {
    "collapsed": true
   },
   "outputs": [],
   "source": [
    "y_train_1 = data_train_1['perf']"
   ]
  },
  {
   "cell_type": "code",
   "execution_count": 109,
   "metadata": {
    "collapsed": true
   },
   "outputs": [],
   "source": [
    "X_train_1 = data_train_1.drop(\"perf\",axis=1)"
   ]
  },
  {
   "cell_type": "code",
   "execution_count": 110,
   "metadata": {},
   "outputs": [
    {
     "name": "stdout",
     "output_type": "stream",
     "text": [
      "(88000, 889)\n",
      "(88000, 888)\n",
      "0    47542\n",
      "1    40458\n",
      "Name: perf, dtype: int64\n"
     ]
    }
   ],
   "source": [
    "print(data_train_1.shape)\n",
    "print(X_train_1.shape)\n",
    "print(data_train_1.perf.value_counts())#查看训练集好坏分布"
   ]
  },
  {
   "cell_type": "code",
   "execution_count": 111,
   "metadata": {},
   "outputs": [
    {
     "data": {
      "text/plain": [
       "Index(['TO9', 'TO10', 'TO52', 'TO51', 'TO17', 'TO54', 'TO27', 'TO28', 'TO29',\n",
       "       'TO34',\n",
       "       ...\n",
       "       'TB246', 'TB252', 'TB265', 'TB297', 'TB296', 'TO414_y', 'TO415_y',\n",
       "       'TO416_y', 'TO417_y', 'TO418_y'],\n",
       "      dtype='object', length=888)"
      ]
     },
     "execution_count": 111,
     "metadata": {},
     "output_type": "execute_result"
    }
   ],
   "source": [
    "varlist=X_train_1.columns\n",
    "varlist"
   ]
  },
  {
   "cell_type": "code",
   "execution_count": 112,
   "metadata": {
    "collapsed": true
   },
   "outputs": [],
   "source": [
    "model = LGBMClassifier(boosting_type='gbdt', colsample_bytree=0.82622520164901361,\n",
    "        drop_rate=0.5, is_unbalance=True,\n",
    "        learning_rate=0.03, max_bin=10, max_depth=5,\n",
    "        max_drop=50, min_child_samples=1200, min_child_weight=4,\n",
    "        min_split_gain=0.01500339778285961, n_estimators=490, nthread=-1,\n",
    "        num_leaves=128, objective='binary', reg_alpha=20, reg_lambda=100,\n",
    "        scale_pos_weight=1, seed=27, sigmoid=1.0, silent=True,\n",
    "        skip_drop=0.5, subsample=0.7, subsample_for_bin=30000,\n",
    "        subsample_freq=3, uniform_drop=False, xgboost_dart_mode=False)"
   ]
  },
  {
   "cell_type": "code",
   "execution_count": 113,
   "metadata": {
    "collapsed": true
   },
   "outputs": [],
   "source": [
    "def modelWithCv(model, x_array, y_array, cv=5):\n",
    "    model.fit(x_array, y_array)\n",
    "    \n",
    "    dtrain_predictions = model.predict(x_array)\n",
    "    dtrain_predprob = model.predict_proba(x_array)[:,1]\n",
    "    \n",
    "    print(\"--AUC Score (Train): %f\" % roc_auc_score(y_array, dtrain_predprob))\n",
    "    print (\"class metrics:\")\n",
    "    print (metrics.classification_report(y_array, dtrain_predictions))\n",
    "    \n",
    "    cv_score = cross_val_score(model,x_array, y_array, cv=cv, scoring = 'roc_auc')\n",
    "    print(\"--CV Score : Mean - %.7g | Std - %.7g | Min - %.7g | Max - %.7g\" %(np.mean(cv_score), np.std(cv_score), np.min(cv_score), np.max(cv_score)))"
   ]
  },
  {
   "cell_type": "code",
   "execution_count": 114,
   "metadata": {},
   "outputs": [
    {
     "name": "stderr",
     "output_type": "stream",
     "text": [
      "/opt/anaconda3/lib/python3.6/site-packages/sklearn/preprocessing/label.py:151: DeprecationWarning: The truth value of an empty array is ambiguous. Returning False, but in future this will result in an error. Use `array.size > 0` to check that an array is not empty.\n",
      "  if diff:\n"
     ]
    },
    {
     "name": "stdout",
     "output_type": "stream",
     "text": [
      "--AUC Score (Train): 0.757203\n",
      "class metrics:\n",
      "             precision    recall  f1-score   support\n",
      "\n",
      "          0       0.72      0.70      0.71     47542\n",
      "          1       0.66      0.68      0.67     40458\n",
      "\n",
      "avg / total       0.69      0.69      0.69     88000\n",
      "\n",
      "--CV Score : Mean - 0.717785 | Std - 0.006818782 | Min - 0.7109662 | Max - 0.7246038\n",
      "CPU times: user 7h 2min 18s, sys: 1min 2s, total: 7h 3min 21s\n",
      "Wall time: 9min 5s\n"
     ]
    }
   ],
   "source": [
    "%%time\n",
    "modelWithCv(model, X_train_1, y_train_1, 2)"
   ]
  },
  {
   "cell_type": "code",
   "execution_count": 125,
   "metadata": {
    "collapsed": true
   },
   "outputs": [],
   "source": [
    "LGBM_pre=dfm.transform(data_part1)\n",
    "pre_prob_1 = pd.DataFrame(model.predict_proba(data_part1[varlist])[:,1], columns = ['predprob'])\n",
    "pre_prob_1['ytrue'] = data_part1['perf'].values"
   ]
  },
  {
   "cell_type": "code",
   "execution_count": 127,
   "metadata": {
    "collapsed": true
   },
   "outputs": [],
   "source": [
    "# pre_p"
   ]
  },
  {
   "cell_type": "code",
   "execution_count": 128,
   "metadata": {},
   "outputs": [
    {
     "name": "stdout",
     "output_type": "stream",
     "text": [
      "[]\n"
     ]
    }
   ],
   "source": [
    "continuousDomain, categoricalDomain = continuous_categorical(data_train_2)"
   ]
  },
  {
   "cell_type": "code",
   "execution_count": 130,
   "metadata": {},
   "outputs": [
    {
     "name": "stdout",
     "output_type": "stream",
     "text": [
      "CPU times: user 6min 26s, sys: 224 ms, total: 6min 26s\n",
      "Wall time: 6min 26s\n"
     ]
    },
    {
     "data": {
      "text/plain": [
       "DataFrameMapper(default=False, df_out=True,\n",
       "        features=[('TO9', [ContinuousDomain()]), ('TO10', [ContinuousDomain()]), ('TO52', [ContinuousDomain()]), ('TO51', [ContinuousDomain()]), ('TO17', [ContinuousDomain()]), ('TO54', [ContinuousDomain()]), ('TO27', [ContinuousDomain()]), ('TO28', [ContinuousDomain()]), ('TO29', [ContinuousDomain()]), ('T...416_y', [ContinuousDomain()]), ('TO417_y', [ContinuousDomain()]), ('TO418_y', [ContinuousDomain()])],\n",
       "        input_df=False, sparse=False)"
      ]
     },
     "execution_count": 130,
     "metadata": {},
     "output_type": "execute_result"
    }
   ],
   "source": [
    "%%time\n",
    "dfm.fit(data_train_2)"
   ]
  },
  {
   "cell_type": "code",
   "execution_count": 132,
   "metadata": {},
   "outputs": [
    {
     "name": "stdout",
     "output_type": "stream",
     "text": [
      "(88000, 889)\n",
      "(88000, 888)\n",
      "1    44481\n",
      "0    43519\n",
      "Name: perf, dtype: int64\n"
     ]
    },
    {
     "name": "stderr",
     "output_type": "stream",
     "text": [
      "/opt/anaconda3/lib/python3.6/site-packages/sklearn/preprocessing/label.py:151: DeprecationWarning: The truth value of an empty array is ambiguous. Returning False, but in future this will result in an error. Use `array.size > 0` to check that an array is not empty.\n",
      "  if diff:\n"
     ]
    },
    {
     "name": "stdout",
     "output_type": "stream",
     "text": [
      "--AUC Score (Train): 0.764617\n",
      "class metrics:\n",
      "             precision    recall  f1-score   support\n",
      "\n",
      "          0       0.69      0.71      0.70     43519\n",
      "          1       0.71      0.68      0.69     44481\n",
      "\n",
      "avg / total       0.70      0.70      0.70     88000\n",
      "\n",
      "--CV Score : Mean - 0.7242845 | Std - 0.01197339 | Min - 0.7123111 | Max - 0.7362579\n"
     ]
    }
   ],
   "source": [
    "data_train_2=data_train_2[data_train_2.perf.isin([0,1])]\n",
    "X_train_2 = dfm.transform(data_train_2)\n",
    "y_train_2 = data_train_2['perf']\n",
    "X_train_2 = data_train_2.drop(\"perf\",axis=1)\n",
    "print(data_train_2.shape)\n",
    "print(X_train_2.shape)\n",
    "print(data_train_2.perf.value_counts())#查看训练集好坏分布\n",
    "# %%time\n",
    "modelWithCv(model, X_train_2, y_train_2, 2)"
   ]
  },
  {
   "cell_type": "code",
   "execution_count": 133,
   "metadata": {
    "collapsed": true
   },
   "outputs": [],
   "source": [
    "LGBM_pre=dfm.transform(data_part2)\n",
    "pre_prob_2 = pd.DataFrame(model.predict_proba(data_part2[varlist])[:,1], columns = ['predprob'])\n",
    "pre_prob_2['ytrue'] = data_part2['perf'].values"
   ]
  },
  {
   "cell_type": "code",
   "execution_count": null,
   "metadata": {
    "collapsed": true
   },
   "outputs": [],
   "source": [
    "#"
   ]
  },
  {
   "cell_type": "code",
   "execution_count": 134,
   "metadata": {},
   "outputs": [
    {
     "name": "stdout",
     "output_type": "stream",
     "text": [
      "[]\n",
      "(88000, 889)\n",
      "(88000, 888)\n",
      "1    50480\n",
      "0    37520\n",
      "Name: perf, dtype: int64\n"
     ]
    },
    {
     "name": "stderr",
     "output_type": "stream",
     "text": [
      "/opt/anaconda3/lib/python3.6/site-packages/sklearn/preprocessing/label.py:151: DeprecationWarning: The truth value of an empty array is ambiguous. Returning False, but in future this will result in an error. Use `array.size > 0` to check that an array is not empty.\n",
      "  if diff:\n"
     ]
    },
    {
     "name": "stdout",
     "output_type": "stream",
     "text": [
      "--AUC Score (Train): 0.759597\n",
      "class metrics:\n",
      "             precision    recall  f1-score   support\n",
      "\n",
      "          0       0.62      0.70      0.66     37520\n",
      "          1       0.76      0.68      0.72     50480\n",
      "\n",
      "avg / total       0.70      0.69      0.69     88000\n",
      "\n",
      "--CV Score : Mean - 0.7258247 | Std - 0.01288615 | Min - 0.7129386 | Max - 0.7387109\n"
     ]
    }
   ],
   "source": [
    "continuousDomain, categoricalDomain = continuous_categorical(data_train_3)\n",
    "# %%time\n",
    "dfm.fit(data_train_3)\n",
    "data_train_3=data_train_3[data_train_3.perf.isin([0,1])]\n",
    "X_train_3 = dfm.transform(data_train_3)\n",
    "y_train_3 = data_train_3['perf']\n",
    "X_train_3 = data_train_3.drop(\"perf\",axis=1)\n",
    "print(data_train_3.shape)\n",
    "print(X_train_3.shape)\n",
    "print(data_train_3.perf.value_counts())#查看训练集好坏分布\n",
    "# %%time\n",
    "modelWithCv(model, X_train_3, y_train_3, 2)\n",
    "LGBM_pre=dfm.transform(data_part3)\n",
    "pre_prob_3 = pd.DataFrame(model.predict_proba(data_part3[varlist])[:,1], columns = ['predprob'])\n",
    "pre_prob_3['ytrue'] = data_part3['perf'].values"
   ]
  },
  {
   "cell_type": "code",
   "execution_count": 135,
   "metadata": {},
   "outputs": [
    {
     "name": "stdout",
     "output_type": "stream",
     "text": [
      "[]\n",
      "(88000, 889)\n",
      "(88000, 888)\n",
      "0    49962\n",
      "1    38038\n",
      "Name: perf, dtype: int64\n"
     ]
    },
    {
     "name": "stderr",
     "output_type": "stream",
     "text": [
      "/opt/anaconda3/lib/python3.6/site-packages/sklearn/preprocessing/label.py:151: DeprecationWarning: The truth value of an empty array is ambiguous. Returning False, but in future this will result in an error. Use `array.size > 0` to check that an array is not empty.\n",
      "  if diff:\n"
     ]
    },
    {
     "name": "stdout",
     "output_type": "stream",
     "text": [
      "--AUC Score (Train): 0.798516\n",
      "class metrics:\n",
      "             precision    recall  f1-score   support\n",
      "\n",
      "          0       0.78      0.70      0.74     49962\n",
      "          1       0.66      0.74      0.70     38038\n",
      "\n",
      "avg / total       0.73      0.72      0.72     88000\n",
      "\n",
      "--CV Score : Mean - 0.6896962 | Std - 0.008211518 | Min - 0.6814847 | Max - 0.6979077\n"
     ]
    }
   ],
   "source": [
    "continuousDomain, categoricalDomain = continuous_categorical(data_train_4)\n",
    "# %%time\n",
    "dfm.fit(data_train_4)\n",
    "data_train_4=data_train_4[data_train_4.perf.isin([0,1])]\n",
    "X_train_4 = dfm.transform(data_train_4)\n",
    "y_train_4 = data_train_4['perf']\n",
    "X_train_4 = data_train_4.drop(\"perf\",axis=1)\n",
    "print(data_train_4.shape)\n",
    "print(X_train_4.shape)\n",
    "print(data_train_4.perf.value_counts())#查看训练集好坏分布\n",
    "# %%time\n",
    "modelWithCv(model, X_train_4, y_train_4, 2)\n",
    "LGBM_pre=dfm.transform(data_part4)\n",
    "pre_prob_4 = pd.DataFrame(model.predict_proba(data_part4[varlist])[:,1], columns = ['predprob'])\n",
    "pre_prob_4['ytrue'] = data_part4['perf'].values"
   ]
  },
  {
   "cell_type": "code",
   "execution_count": 136,
   "metadata": {},
   "outputs": [
    {
     "name": "stdout",
     "output_type": "stream",
     "text": [
      "[]\n",
      "(88000, 889)\n",
      "(88000, 888)\n",
      "1    55175\n",
      "0    32825\n",
      "Name: perf, dtype: int64\n"
     ]
    },
    {
     "name": "stderr",
     "output_type": "stream",
     "text": [
      "/opt/anaconda3/lib/python3.6/site-packages/sklearn/preprocessing/label.py:151: DeprecationWarning: The truth value of an empty array is ambiguous. Returning False, but in future this will result in an error. Use `array.size > 0` to check that an array is not empty.\n",
      "  if diff:\n"
     ]
    },
    {
     "name": "stdout",
     "output_type": "stream",
     "text": [
      "--AUC Score (Train): 0.806732\n",
      "class metrics:\n",
      "             precision    recall  f1-score   support\n",
      "\n",
      "          0       0.59      0.78      0.67     32825\n",
      "          1       0.84      0.68      0.75     55175\n",
      "\n",
      "avg / total       0.74      0.72      0.72     88000\n",
      "\n",
      "--CV Score : Mean - 0.7087652 | Std - 0.02228781 | Min - 0.6864774 | Max - 0.731053\n"
     ]
    }
   ],
   "source": [
    "continuousDomain, categoricalDomain = continuous_categorical(data_train_5)\n",
    "# %%time\n",
    "dfm.fit(data_train_5)\n",
    "data_train_5=data_train_5[data_train_5.perf.isin([0,1])]\n",
    "X_train_5 = dfm.transform(data_train_5)\n",
    "y_train_5 = data_train_5['perf']\n",
    "X_train_5 = data_train_5.drop(\"perf\",axis=1)\n",
    "print(data_train_5.shape)\n",
    "print(X_train_5.shape)\n",
    "print(data_train_5.perf.value_counts())#查看训练集好坏分布\n",
    "# %%time\n",
    "modelWithCv(model, X_train_5, y_train_5, 2)\n",
    "LGBM_pre=dfm.transform(data_part5)\n",
    "pre_prob_5 = pd.DataFrame(model.predict_proba(data_part5[varlist])[:,1], columns = ['predprob'])\n",
    "pre_prob_5['ytrue'] = data_part5['perf'].values"
   ]
  },
  {
   "cell_type": "code",
   "execution_count": 138,
   "metadata": {
    "collapsed": true
   },
   "outputs": [],
   "source": [
    "pre_prob = pd.concat([pre_prob_1,pre_prob_2,pre_prob_3,pre_prob_4,pre_prob_5])"
   ]
  },
  {
   "cell_type": "code",
   "execution_count": 472,
   "metadata": {},
   "outputs": [
    {
     "data": {
      "text/html": [
       "<div>\n",
       "<style>\n",
       "    .dataframe thead tr:only-child th {\n",
       "        text-align: right;\n",
       "    }\n",
       "\n",
       "    .dataframe thead th {\n",
       "        text-align: left;\n",
       "    }\n",
       "\n",
       "    .dataframe tbody tr th {\n",
       "        vertical-align: top;\n",
       "    }\n",
       "</style>\n",
       "<table border=\"1\" class=\"dataframe\">\n",
       "  <thead>\n",
       "    <tr style=\"text-align: right;\">\n",
       "      <th></th>\n",
       "      <th>LGBMprob</th>\n",
       "      <th>ytrue</th>\n",
       "      <th>ugid</th>\n",
       "    </tr>\n",
       "  </thead>\n",
       "  <tbody>\n",
       "    <tr>\n",
       "      <th>0</th>\n",
       "      <td>0.570982</td>\n",
       "      <td>1</td>\n",
       "      <td>F057901F-8D71-48FA-A325-72C09C80F4EE</td>\n",
       "    </tr>\n",
       "    <tr>\n",
       "      <th>1</th>\n",
       "      <td>0.713520</td>\n",
       "      <td>1</td>\n",
       "      <td>C8CC8F55-5154-456C-BAF4-A5BCF2C7DB8A</td>\n",
       "    </tr>\n",
       "    <tr>\n",
       "      <th>2</th>\n",
       "      <td>0.492890</td>\n",
       "      <td>1</td>\n",
       "      <td>738D23ED-7699-4D17-B4EC-824F5D7E9DA6</td>\n",
       "    </tr>\n",
       "    <tr>\n",
       "      <th>3</th>\n",
       "      <td>0.474496</td>\n",
       "      <td>1</td>\n",
       "      <td>0FA4D224-399E-4F6F-862F-793A926C118C</td>\n",
       "    </tr>\n",
       "    <tr>\n",
       "      <th>4</th>\n",
       "      <td>0.385701</td>\n",
       "      <td>1</td>\n",
       "      <td>6BD48AED-06CA-476C-ACA9-18E5EF76A397</td>\n",
       "    </tr>\n",
       "    <tr>\n",
       "      <th>5</th>\n",
       "      <td>0.681351</td>\n",
       "      <td>1</td>\n",
       "      <td>21B2CB99-318D-4C1C-B11F-A1BC2AF39956</td>\n",
       "    </tr>\n",
       "    <tr>\n",
       "      <th>6</th>\n",
       "      <td>0.509754</td>\n",
       "      <td>1</td>\n",
       "      <td>DF8FB05D-A63F-4855-9AC6-A00F773B2BA0</td>\n",
       "    </tr>\n",
       "    <tr>\n",
       "      <th>7</th>\n",
       "      <td>0.830998</td>\n",
       "      <td>1</td>\n",
       "      <td>FA803EF8-3BA0-41BE-AD64-4C5F5FCFEC2B</td>\n",
       "    </tr>\n",
       "    <tr>\n",
       "      <th>8</th>\n",
       "      <td>0.390248</td>\n",
       "      <td>1</td>\n",
       "      <td>3FE8D925-A402-4DD0-AF67-4225E5B6CB52</td>\n",
       "    </tr>\n",
       "    <tr>\n",
       "      <th>9</th>\n",
       "      <td>0.654634</td>\n",
       "      <td>1</td>\n",
       "      <td>2C67ABD4-0F2F-4AB8-86D8-CDA8C2A32B46</td>\n",
       "    </tr>\n",
       "    <tr>\n",
       "      <th>10</th>\n",
       "      <td>0.782417</td>\n",
       "      <td>1</td>\n",
       "      <td>93946BE0-0F79-474F-B43C-0E54FB93EC90</td>\n",
       "    </tr>\n",
       "    <tr>\n",
       "      <th>11</th>\n",
       "      <td>0.938555</td>\n",
       "      <td>1</td>\n",
       "      <td>019047AF-C887-448D-AEC8-7645CBA1CA4A</td>\n",
       "    </tr>\n",
       "    <tr>\n",
       "      <th>12</th>\n",
       "      <td>0.745858</td>\n",
       "      <td>1</td>\n",
       "      <td>7A6C54D1-97E7-46DB-87EC-AEF09E282022</td>\n",
       "    </tr>\n",
       "    <tr>\n",
       "      <th>13</th>\n",
       "      <td>0.706248</td>\n",
       "      <td>1</td>\n",
       "      <td>E204C798-028D-4581-AD16-F3B050D1771F</td>\n",
       "    </tr>\n",
       "    <tr>\n",
       "      <th>14</th>\n",
       "      <td>0.727036</td>\n",
       "      <td>1</td>\n",
       "      <td>92D641B9-5F89-4943-B8BF-0814040475C6</td>\n",
       "    </tr>\n",
       "    <tr>\n",
       "      <th>15</th>\n",
       "      <td>0.821169</td>\n",
       "      <td>1</td>\n",
       "      <td>3B4A5533-B18A-4D6F-99BD-ABB9F33700EB</td>\n",
       "    </tr>\n",
       "    <tr>\n",
       "      <th>16</th>\n",
       "      <td>0.596029</td>\n",
       "      <td>1</td>\n",
       "      <td>E743AB3B-431C-4808-807D-68F7BF008DCA</td>\n",
       "    </tr>\n",
       "    <tr>\n",
       "      <th>17</th>\n",
       "      <td>0.404735</td>\n",
       "      <td>1</td>\n",
       "      <td>8BAABF18-6930-41DB-AD08-918D81B5AFD3</td>\n",
       "    </tr>\n",
       "    <tr>\n",
       "      <th>18</th>\n",
       "      <td>0.683936</td>\n",
       "      <td>1</td>\n",
       "      <td>1672EC41-16A1-43A2-AD08-324F1397274B</td>\n",
       "    </tr>\n",
       "    <tr>\n",
       "      <th>19</th>\n",
       "      <td>0.709487</td>\n",
       "      <td>1</td>\n",
       "      <td>C5646D4C-5CD7-44BA-9861-D5452A2ACF5A</td>\n",
       "    </tr>\n",
       "    <tr>\n",
       "      <th>20</th>\n",
       "      <td>0.473911</td>\n",
       "      <td>1</td>\n",
       "      <td>7C55EA16-C2A5-425A-AF5E-5D4DA774652B</td>\n",
       "    </tr>\n",
       "    <tr>\n",
       "      <th>21</th>\n",
       "      <td>0.257483</td>\n",
       "      <td>1</td>\n",
       "      <td>62F05B95-E3A4-476E-8131-471086770575</td>\n",
       "    </tr>\n",
       "    <tr>\n",
       "      <th>22</th>\n",
       "      <td>0.627772</td>\n",
       "      <td>1</td>\n",
       "      <td>E78CE0DB-F5D3-4A10-8420-3AD3EB5D2945</td>\n",
       "    </tr>\n",
       "    <tr>\n",
       "      <th>23</th>\n",
       "      <td>0.445076</td>\n",
       "      <td>1</td>\n",
       "      <td>B4EF84DC-DA28-4D71-8D85-57688FD79BD5</td>\n",
       "    </tr>\n",
       "    <tr>\n",
       "      <th>24</th>\n",
       "      <td>0.669329</td>\n",
       "      <td>1</td>\n",
       "      <td>391FBF92-4B15-4BD4-86A1-DE7EE42052D9</td>\n",
       "    </tr>\n",
       "    <tr>\n",
       "      <th>25</th>\n",
       "      <td>0.706855</td>\n",
       "      <td>1</td>\n",
       "      <td>426DC9FF-8511-4052-A78F-7C333BFF74AC</td>\n",
       "    </tr>\n",
       "    <tr>\n",
       "      <th>26</th>\n",
       "      <td>0.516716</td>\n",
       "      <td>1</td>\n",
       "      <td>081D1B48-63FB-4E06-B2C1-256D149DB9CF</td>\n",
       "    </tr>\n",
       "    <tr>\n",
       "      <th>27</th>\n",
       "      <td>0.734074</td>\n",
       "      <td>1</td>\n",
       "      <td>9814C2C9-6B2C-45C2-B213-C76993706A0A</td>\n",
       "    </tr>\n",
       "    <tr>\n",
       "      <th>28</th>\n",
       "      <td>0.446204</td>\n",
       "      <td>1</td>\n",
       "      <td>5E74AFBB-0189-45D5-B701-FB058DB348E9</td>\n",
       "    </tr>\n",
       "    <tr>\n",
       "      <th>29</th>\n",
       "      <td>0.577772</td>\n",
       "      <td>1</td>\n",
       "      <td>E28BBA83-2F1E-4C59-B409-7B2A666D2BBA</td>\n",
       "    </tr>\n",
       "    <tr>\n",
       "      <th>...</th>\n",
       "      <td>...</td>\n",
       "      <td>...</td>\n",
       "      <td>...</td>\n",
       "    </tr>\n",
       "    <tr>\n",
       "      <th>21970</th>\n",
       "      <td>0.895387</td>\n",
       "      <td>0</td>\n",
       "      <td>4E4FDAF2-9F83-4BB2-B86F-1BB79455596B</td>\n",
       "    </tr>\n",
       "    <tr>\n",
       "      <th>21971</th>\n",
       "      <td>0.806621</td>\n",
       "      <td>0</td>\n",
       "      <td>CD16F3C0-EF35-4381-B8DF-27347EBBC952</td>\n",
       "    </tr>\n",
       "    <tr>\n",
       "      <th>21972</th>\n",
       "      <td>0.772102</td>\n",
       "      <td>0</td>\n",
       "      <td>C74B21AC-DB1B-492E-8E0F-CB06F9A271CB</td>\n",
       "    </tr>\n",
       "    <tr>\n",
       "      <th>21973</th>\n",
       "      <td>0.976043</td>\n",
       "      <td>0</td>\n",
       "      <td>4DEA23E4-A54F-4097-8BEF-F8575094C55A</td>\n",
       "    </tr>\n",
       "    <tr>\n",
       "      <th>21974</th>\n",
       "      <td>0.839102</td>\n",
       "      <td>0</td>\n",
       "      <td>49CB87C1-73A2-473C-95B0-751F6BE366CC</td>\n",
       "    </tr>\n",
       "    <tr>\n",
       "      <th>21975</th>\n",
       "      <td>0.876778</td>\n",
       "      <td>0</td>\n",
       "      <td>97F1567A-6CE8-4F3F-87CB-C6DAE59B1959</td>\n",
       "    </tr>\n",
       "    <tr>\n",
       "      <th>21976</th>\n",
       "      <td>0.577619</td>\n",
       "      <td>0</td>\n",
       "      <td>99C96BB7-4966-4F40-946B-FBBD4509330A</td>\n",
       "    </tr>\n",
       "    <tr>\n",
       "      <th>21977</th>\n",
       "      <td>0.893315</td>\n",
       "      <td>0</td>\n",
       "      <td>53B894AC-15EE-4E89-8263-FEB0F9E83251</td>\n",
       "    </tr>\n",
       "    <tr>\n",
       "      <th>21978</th>\n",
       "      <td>0.772029</td>\n",
       "      <td>0</td>\n",
       "      <td>ADCBAF56-C2FD-4A75-9433-8F0512CF03FC</td>\n",
       "    </tr>\n",
       "    <tr>\n",
       "      <th>21979</th>\n",
       "      <td>0.759634</td>\n",
       "      <td>0</td>\n",
       "      <td>A6EC23AD-A97C-47EC-897E-91C9A0E8C2C1</td>\n",
       "    </tr>\n",
       "    <tr>\n",
       "      <th>21980</th>\n",
       "      <td>0.807010</td>\n",
       "      <td>0</td>\n",
       "      <td>F0DF870D-4AD5-4D44-98A5-33EF8B4C03F0</td>\n",
       "    </tr>\n",
       "    <tr>\n",
       "      <th>21981</th>\n",
       "      <td>0.705501</td>\n",
       "      <td>0</td>\n",
       "      <td>62F79F2B-2A11-4B94-ACF4-B9E780C66008</td>\n",
       "    </tr>\n",
       "    <tr>\n",
       "      <th>21982</th>\n",
       "      <td>0.483010</td>\n",
       "      <td>0</td>\n",
       "      <td>465D4C0F-F05F-41BE-ACDB-D9CA93E2138B</td>\n",
       "    </tr>\n",
       "    <tr>\n",
       "      <th>21983</th>\n",
       "      <td>0.889870</td>\n",
       "      <td>0</td>\n",
       "      <td>9394A3AC-8942-44BB-88F5-521B0135DF07</td>\n",
       "    </tr>\n",
       "    <tr>\n",
       "      <th>21984</th>\n",
       "      <td>0.829349</td>\n",
       "      <td>0</td>\n",
       "      <td>D5249B24-F9C3-4BAD-B7D7-C50DE18D194B</td>\n",
       "    </tr>\n",
       "    <tr>\n",
       "      <th>21985</th>\n",
       "      <td>0.824753</td>\n",
       "      <td>0</td>\n",
       "      <td>D4FFFFD1-B53E-4D06-9B20-BB60DE70DDE4</td>\n",
       "    </tr>\n",
       "    <tr>\n",
       "      <th>21986</th>\n",
       "      <td>0.525269</td>\n",
       "      <td>0</td>\n",
       "      <td>27C422DF-2F81-4574-AF39-9C69B3D167F3</td>\n",
       "    </tr>\n",
       "    <tr>\n",
       "      <th>21987</th>\n",
       "      <td>0.825723</td>\n",
       "      <td>0</td>\n",
       "      <td>268DF2EF-AD84-48DE-AA36-147CC122264F</td>\n",
       "    </tr>\n",
       "    <tr>\n",
       "      <th>21988</th>\n",
       "      <td>0.932276</td>\n",
       "      <td>0</td>\n",
       "      <td>1DA02A21-0514-4D68-B86D-A390BE3B2B75</td>\n",
       "    </tr>\n",
       "    <tr>\n",
       "      <th>21989</th>\n",
       "      <td>0.247820</td>\n",
       "      <td>0</td>\n",
       "      <td>C0FC7F86-ACFF-43BF-ACD5-1BC3DD9288D6</td>\n",
       "    </tr>\n",
       "    <tr>\n",
       "      <th>21990</th>\n",
       "      <td>0.721041</td>\n",
       "      <td>0</td>\n",
       "      <td>BBFBF9D1-E1FA-4086-87B4-CECE851A02DC</td>\n",
       "    </tr>\n",
       "    <tr>\n",
       "      <th>21991</th>\n",
       "      <td>0.750464</td>\n",
       "      <td>0</td>\n",
       "      <td>6DE0C5F4-1C18-4143-8217-E365DE409DCE</td>\n",
       "    </tr>\n",
       "    <tr>\n",
       "      <th>21992</th>\n",
       "      <td>0.903691</td>\n",
       "      <td>0</td>\n",
       "      <td>379FFC8C-57C5-417E-942E-8B8CC29E7AC9</td>\n",
       "    </tr>\n",
       "    <tr>\n",
       "      <th>21993</th>\n",
       "      <td>0.896095</td>\n",
       "      <td>0</td>\n",
       "      <td>88073C5C-6534-4111-89AF-F78418A9734F</td>\n",
       "    </tr>\n",
       "    <tr>\n",
       "      <th>21994</th>\n",
       "      <td>0.224745</td>\n",
       "      <td>0</td>\n",
       "      <td>E257AD65-CE04-42BC-8DE8-075B179CF89A</td>\n",
       "    </tr>\n",
       "    <tr>\n",
       "      <th>21995</th>\n",
       "      <td>0.737723</td>\n",
       "      <td>0</td>\n",
       "      <td>C104F774-759A-4C8A-AF16-93A1C32E3CEF</td>\n",
       "    </tr>\n",
       "    <tr>\n",
       "      <th>21996</th>\n",
       "      <td>0.849344</td>\n",
       "      <td>0</td>\n",
       "      <td>51885C95-8E94-4D32-BEED-75EA7E866560</td>\n",
       "    </tr>\n",
       "    <tr>\n",
       "      <th>21997</th>\n",
       "      <td>0.802895</td>\n",
       "      <td>0</td>\n",
       "      <td>99AE4D4F-CAC0-4A18-B8E1-DF17EF6DA3C8</td>\n",
       "    </tr>\n",
       "    <tr>\n",
       "      <th>21998</th>\n",
       "      <td>0.561698</td>\n",
       "      <td>0</td>\n",
       "      <td>01EE68E2-62DD-461A-9D94-66BC9A62AE0D</td>\n",
       "    </tr>\n",
       "    <tr>\n",
       "      <th>21999</th>\n",
       "      <td>0.840549</td>\n",
       "      <td>0</td>\n",
       "      <td>578E79BD-0BBC-4198-B27A-93316AB329C4</td>\n",
       "    </tr>\n",
       "  </tbody>\n",
       "</table>\n",
       "<p>110000 rows × 3 columns</p>\n",
       "</div>"
      ],
      "text/plain": [
       "       LGBMprob  ytrue                                  ugid\n",
       "0      0.570982      1  F057901F-8D71-48FA-A325-72C09C80F4EE\n",
       "1      0.713520      1  C8CC8F55-5154-456C-BAF4-A5BCF2C7DB8A\n",
       "2      0.492890      1  738D23ED-7699-4D17-B4EC-824F5D7E9DA6\n",
       "3      0.474496      1  0FA4D224-399E-4F6F-862F-793A926C118C\n",
       "4      0.385701      1  6BD48AED-06CA-476C-ACA9-18E5EF76A397\n",
       "5      0.681351      1  21B2CB99-318D-4C1C-B11F-A1BC2AF39956\n",
       "6      0.509754      1  DF8FB05D-A63F-4855-9AC6-A00F773B2BA0\n",
       "7      0.830998      1  FA803EF8-3BA0-41BE-AD64-4C5F5FCFEC2B\n",
       "8      0.390248      1  3FE8D925-A402-4DD0-AF67-4225E5B6CB52\n",
       "9      0.654634      1  2C67ABD4-0F2F-4AB8-86D8-CDA8C2A32B46\n",
       "10     0.782417      1  93946BE0-0F79-474F-B43C-0E54FB93EC90\n",
       "11     0.938555      1  019047AF-C887-448D-AEC8-7645CBA1CA4A\n",
       "12     0.745858      1  7A6C54D1-97E7-46DB-87EC-AEF09E282022\n",
       "13     0.706248      1  E204C798-028D-4581-AD16-F3B050D1771F\n",
       "14     0.727036      1  92D641B9-5F89-4943-B8BF-0814040475C6\n",
       "15     0.821169      1  3B4A5533-B18A-4D6F-99BD-ABB9F33700EB\n",
       "16     0.596029      1  E743AB3B-431C-4808-807D-68F7BF008DCA\n",
       "17     0.404735      1  8BAABF18-6930-41DB-AD08-918D81B5AFD3\n",
       "18     0.683936      1  1672EC41-16A1-43A2-AD08-324F1397274B\n",
       "19     0.709487      1  C5646D4C-5CD7-44BA-9861-D5452A2ACF5A\n",
       "20     0.473911      1  7C55EA16-C2A5-425A-AF5E-5D4DA774652B\n",
       "21     0.257483      1  62F05B95-E3A4-476E-8131-471086770575\n",
       "22     0.627772      1  E78CE0DB-F5D3-4A10-8420-3AD3EB5D2945\n",
       "23     0.445076      1  B4EF84DC-DA28-4D71-8D85-57688FD79BD5\n",
       "24     0.669329      1  391FBF92-4B15-4BD4-86A1-DE7EE42052D9\n",
       "25     0.706855      1  426DC9FF-8511-4052-A78F-7C333BFF74AC\n",
       "26     0.516716      1  081D1B48-63FB-4E06-B2C1-256D149DB9CF\n",
       "27     0.734074      1  9814C2C9-6B2C-45C2-B213-C76993706A0A\n",
       "28     0.446204      1  5E74AFBB-0189-45D5-B701-FB058DB348E9\n",
       "29     0.577772      1  E28BBA83-2F1E-4C59-B409-7B2A666D2BBA\n",
       "...         ...    ...                                   ...\n",
       "21970  0.895387      0  4E4FDAF2-9F83-4BB2-B86F-1BB79455596B\n",
       "21971  0.806621      0  CD16F3C0-EF35-4381-B8DF-27347EBBC952\n",
       "21972  0.772102      0  C74B21AC-DB1B-492E-8E0F-CB06F9A271CB\n",
       "21973  0.976043      0  4DEA23E4-A54F-4097-8BEF-F8575094C55A\n",
       "21974  0.839102      0  49CB87C1-73A2-473C-95B0-751F6BE366CC\n",
       "21975  0.876778      0  97F1567A-6CE8-4F3F-87CB-C6DAE59B1959\n",
       "21976  0.577619      0  99C96BB7-4966-4F40-946B-FBBD4509330A\n",
       "21977  0.893315      0  53B894AC-15EE-4E89-8263-FEB0F9E83251\n",
       "21978  0.772029      0  ADCBAF56-C2FD-4A75-9433-8F0512CF03FC\n",
       "21979  0.759634      0  A6EC23AD-A97C-47EC-897E-91C9A0E8C2C1\n",
       "21980  0.807010      0  F0DF870D-4AD5-4D44-98A5-33EF8B4C03F0\n",
       "21981  0.705501      0  62F79F2B-2A11-4B94-ACF4-B9E780C66008\n",
       "21982  0.483010      0  465D4C0F-F05F-41BE-ACDB-D9CA93E2138B\n",
       "21983  0.889870      0  9394A3AC-8942-44BB-88F5-521B0135DF07\n",
       "21984  0.829349      0  D5249B24-F9C3-4BAD-B7D7-C50DE18D194B\n",
       "21985  0.824753      0  D4FFFFD1-B53E-4D06-9B20-BB60DE70DDE4\n",
       "21986  0.525269      0  27C422DF-2F81-4574-AF39-9C69B3D167F3\n",
       "21987  0.825723      0  268DF2EF-AD84-48DE-AA36-147CC122264F\n",
       "21988  0.932276      0  1DA02A21-0514-4D68-B86D-A390BE3B2B75\n",
       "21989  0.247820      0  C0FC7F86-ACFF-43BF-ACD5-1BC3DD9288D6\n",
       "21990  0.721041      0  BBFBF9D1-E1FA-4086-87B4-CECE851A02DC\n",
       "21991  0.750464      0  6DE0C5F4-1C18-4143-8217-E365DE409DCE\n",
       "21992  0.903691      0  379FFC8C-57C5-417E-942E-8B8CC29E7AC9\n",
       "21993  0.896095      0  88073C5C-6534-4111-89AF-F78418A9734F\n",
       "21994  0.224745      0  E257AD65-CE04-42BC-8DE8-075B179CF89A\n",
       "21995  0.737723      0  C104F774-759A-4C8A-AF16-93A1C32E3CEF\n",
       "21996  0.849344      0  51885C95-8E94-4D32-BEED-75EA7E866560\n",
       "21997  0.802895      0  99AE4D4F-CAC0-4A18-B8E1-DF17EF6DA3C8\n",
       "21998  0.561698      0  01EE68E2-62DD-461A-9D94-66BC9A62AE0D\n",
       "21999  0.840549      0  578E79BD-0BBC-4198-B27A-93316AB329C4\n",
       "\n",
       "[110000 rows x 3 columns]"
      ]
     },
     "execution_count": 472,
     "metadata": {},
     "output_type": "execute_result"
    }
   ],
   "source": [
    "pre_prob"
   ]
  },
  {
   "cell_type": "code",
   "execution_count": 151,
   "metadata": {
    "collapsed": true
   },
   "outputs": [],
   "source": [
    "LGBM_prob = pre_prob"
   ]
  },
  {
   "cell_type": "code",
   "execution_count": 152,
   "metadata": {
    "collapsed": true
   },
   "outputs": [],
   "source": [
    "LGBM_prob['ugid'] = '0'"
   ]
  },
  {
   "cell_type": "code",
   "execution_count": 153,
   "metadata": {
    "collapsed": true
   },
   "outputs": [],
   "source": [
    "for i in range(len(LGBM_prob)):\n",
    "    LGBM_prob.iat[i,2] = fasttext_stacking_train.iat[i,0]"
   ]
  },
  {
   "cell_type": "code",
   "execution_count": 156,
   "metadata": {
    "collapsed": true
   },
   "outputs": [],
   "source": [
    "# LGBM_prob = LGBM_prob.columns.rename({'prebprod':'LGBMprob'})"
   ]
  },
  {
   "cell_type": "code",
   "execution_count": 159,
   "metadata": {
    "collapsed": true
   },
   "outputs": [],
   "source": [
    "LGBM_prob.rename(columns={'predprob':'LGBMprob'},inplace=True)"
   ]
  },
  {
   "cell_type": "code",
   "execution_count": 163,
   "metadata": {
    "collapsed": true
   },
   "outputs": [],
   "source": [
    "# LGBM_prob\n",
    "all_feature_train = pd.merge(fasttext_stacking_train,LGBM_prob,how = 'left',on=['ugid'])"
   ]
  },
  {
   "cell_type": "code",
   "execution_count": 165,
   "metadata": {
    "collapsed": true
   },
   "outputs": [],
   "source": [
    "all_feature_train.rename(columns={'prob':'fasttextprob'},inplace=True)"
   ]
  },
  {
   "cell_type": "code",
   "execution_count": 166,
   "metadata": {},
   "outputs": [
    {
     "data": {
      "text/html": [
       "<div>\n",
       "<style>\n",
       "    .dataframe thead tr:only-child th {\n",
       "        text-align: right;\n",
       "    }\n",
       "\n",
       "    .dataframe thead th {\n",
       "        text-align: left;\n",
       "    }\n",
       "\n",
       "    .dataframe tbody tr th {\n",
       "        vertical-align: top;\n",
       "    }\n",
       "</style>\n",
       "<table border=\"1\" class=\"dataframe\">\n",
       "  <thead>\n",
       "    <tr style=\"text-align: right;\">\n",
       "      <th></th>\n",
       "      <th>ugid</th>\n",
       "      <th>perf</th>\n",
       "      <th>fasttextprob</th>\n",
       "      <th>LGBMprob</th>\n",
       "      <th>ytrue</th>\n",
       "    </tr>\n",
       "  </thead>\n",
       "  <tbody>\n",
       "    <tr>\n",
       "      <th>0</th>\n",
       "      <td>F057901F-8D71-48FA-A325-72C09C80F4EE</td>\n",
       "      <td>1</td>\n",
       "      <td>0.557485</td>\n",
       "      <td>0.570982</td>\n",
       "      <td>1</td>\n",
       "    </tr>\n",
       "    <tr>\n",
       "      <th>1</th>\n",
       "      <td>C8CC8F55-5154-456C-BAF4-A5BCF2C7DB8A</td>\n",
       "      <td>1</td>\n",
       "      <td>0.680937</td>\n",
       "      <td>0.713520</td>\n",
       "      <td>1</td>\n",
       "    </tr>\n",
       "    <tr>\n",
       "      <th>2</th>\n",
       "      <td>738D23ED-7699-4D17-B4EC-824F5D7E9DA6</td>\n",
       "      <td>1</td>\n",
       "      <td>0.577731</td>\n",
       "      <td>0.492890</td>\n",
       "      <td>1</td>\n",
       "    </tr>\n",
       "    <tr>\n",
       "      <th>3</th>\n",
       "      <td>0FA4D224-399E-4F6F-862F-793A926C118C</td>\n",
       "      <td>1</td>\n",
       "      <td>0.417429</td>\n",
       "      <td>0.474496</td>\n",
       "      <td>1</td>\n",
       "    </tr>\n",
       "    <tr>\n",
       "      <th>4</th>\n",
       "      <td>6BD48AED-06CA-476C-ACA9-18E5EF76A397</td>\n",
       "      <td>1</td>\n",
       "      <td>0.499721</td>\n",
       "      <td>0.385701</td>\n",
       "      <td>1</td>\n",
       "    </tr>\n",
       "  </tbody>\n",
       "</table>\n",
       "</div>"
      ],
      "text/plain": [
       "                                   ugid  perf  fasttextprob  LGBMprob  ytrue\n",
       "0  F057901F-8D71-48FA-A325-72C09C80F4EE     1      0.557485  0.570982      1\n",
       "1  C8CC8F55-5154-456C-BAF4-A5BCF2C7DB8A     1      0.680937  0.713520      1\n",
       "2  738D23ED-7699-4D17-B4EC-824F5D7E9DA6     1      0.577731  0.492890      1\n",
       "3  0FA4D224-399E-4F6F-862F-793A926C118C     1      0.417429  0.474496      1\n",
       "4  6BD48AED-06CA-476C-ACA9-18E5EF76A397     1      0.499721  0.385701      1"
      ]
     },
     "execution_count": 166,
     "metadata": {},
     "output_type": "execute_result"
    }
   ],
   "source": [
    "all_feature_train.head()"
   ]
  },
  {
   "cell_type": "code",
   "execution_count": 168,
   "metadata": {
    "collapsed": true
   },
   "outputs": [],
   "source": [
    "del all_feature_train['ytrue']"
   ]
  },
  {
   "cell_type": "code",
   "execution_count": 177,
   "metadata": {},
   "outputs": [
    {
     "data": {
      "text/html": [
       "<div>\n",
       "<style>\n",
       "    .dataframe thead tr:only-child th {\n",
       "        text-align: right;\n",
       "    }\n",
       "\n",
       "    .dataframe thead th {\n",
       "        text-align: left;\n",
       "    }\n",
       "\n",
       "    .dataframe tbody tr th {\n",
       "        vertical-align: top;\n",
       "    }\n",
       "</style>\n",
       "<table border=\"1\" class=\"dataframe\">\n",
       "  <thead>\n",
       "    <tr style=\"text-align: right;\">\n",
       "      <th></th>\n",
       "      <th>ugid</th>\n",
       "      <th>perf</th>\n",
       "      <th>fasttextprob</th>\n",
       "      <th>LGBMprob</th>\n",
       "    </tr>\n",
       "  </thead>\n",
       "  <tbody>\n",
       "    <tr>\n",
       "      <th>0</th>\n",
       "      <td>F057901F-8D71-48FA-A325-72C09C80F4EE</td>\n",
       "      <td>1</td>\n",
       "      <td>0.557485</td>\n",
       "      <td>0.570982</td>\n",
       "    </tr>\n",
       "    <tr>\n",
       "      <th>1</th>\n",
       "      <td>C8CC8F55-5154-456C-BAF4-A5BCF2C7DB8A</td>\n",
       "      <td>1</td>\n",
       "      <td>0.680937</td>\n",
       "      <td>0.713520</td>\n",
       "    </tr>\n",
       "    <tr>\n",
       "      <th>2</th>\n",
       "      <td>738D23ED-7699-4D17-B4EC-824F5D7E9DA6</td>\n",
       "      <td>1</td>\n",
       "      <td>0.577731</td>\n",
       "      <td>0.492890</td>\n",
       "    </tr>\n",
       "    <tr>\n",
       "      <th>3</th>\n",
       "      <td>0FA4D224-399E-4F6F-862F-793A926C118C</td>\n",
       "      <td>1</td>\n",
       "      <td>0.417429</td>\n",
       "      <td>0.474496</td>\n",
       "    </tr>\n",
       "    <tr>\n",
       "      <th>4</th>\n",
       "      <td>6BD48AED-06CA-476C-ACA9-18E5EF76A397</td>\n",
       "      <td>1</td>\n",
       "      <td>0.499721</td>\n",
       "      <td>0.385701</td>\n",
       "    </tr>\n",
       "  </tbody>\n",
       "</table>\n",
       "</div>"
      ],
      "text/plain": [
       "                                   ugid  perf  fasttextprob  LGBMprob\n",
       "0  F057901F-8D71-48FA-A325-72C09C80F4EE     1      0.557485  0.570982\n",
       "1  C8CC8F55-5154-456C-BAF4-A5BCF2C7DB8A     1      0.680937  0.713520\n",
       "2  738D23ED-7699-4D17-B4EC-824F5D7E9DA6     1      0.577731  0.492890\n",
       "3  0FA4D224-399E-4F6F-862F-793A926C118C     1      0.417429  0.474496\n",
       "4  6BD48AED-06CA-476C-ACA9-18E5EF76A397     1      0.499721  0.385701"
      ]
     },
     "execution_count": 177,
     "metadata": {},
     "output_type": "execute_result"
    }
   ],
   "source": [
    "all_feature_train.head()"
   ]
  },
  {
   "cell_type": "code",
   "execution_count": 171,
   "metadata": {
    "collapsed": true
   },
   "outputs": [],
   "source": [
    "data = pd.read_csv('data/all_lda.csv')"
   ]
  },
  {
   "cell_type": "code",
   "execution_count": 200,
   "metadata": {
    "collapsed": true
   },
   "outputs": [],
   "source": [
    "# data"
   ]
  },
  {
   "cell_type": "code",
   "execution_count": 175,
   "metadata": {
    "collapsed": true
   },
   "outputs": [],
   "source": [
    "data_lda = data[['ugid', 't_01','t_02','t_03','t_04','t_05','t_06','t_07','t_08','t_09','t_10','t_11','t_12','t_13','t_14','t_15','t_16',\n",
    "                't_17','t_18','t_19','t_20','t_21','t_22','t_23','t_24','t_25','t_26','t_27','t_28','t_29','t_30','t_31','t_32','t_33',\n",
    "                't_34','t_35','t_36','t_37','t_38','t_39','t_40','t_41','t_42','t_43','t_44','t_45','t_46','t_47','t_48','t_49','t_50',\n",
    "                't_51','t_52','t_53','t_54','t_55']]"
   ]
  },
  {
   "cell_type": "code",
   "execution_count": 178,
   "metadata": {
    "collapsed": true
   },
   "outputs": [],
   "source": [
    "all_feature_train = pd.merge(all_feature_train,data_lda,how='left',on=['ugid'])"
   ]
  },
  {
   "cell_type": "code",
   "execution_count": 180,
   "metadata": {},
   "outputs": [
    {
     "data": {
      "text/html": [
       "<div>\n",
       "<style>\n",
       "    .dataframe thead tr:only-child th {\n",
       "        text-align: right;\n",
       "    }\n",
       "\n",
       "    .dataframe thead th {\n",
       "        text-align: left;\n",
       "    }\n",
       "\n",
       "    .dataframe tbody tr th {\n",
       "        vertical-align: top;\n",
       "    }\n",
       "</style>\n",
       "<table border=\"1\" class=\"dataframe\">\n",
       "  <thead>\n",
       "    <tr style=\"text-align: right;\">\n",
       "      <th></th>\n",
       "      <th>ugid</th>\n",
       "      <th>perf</th>\n",
       "      <th>fasttextprob</th>\n",
       "      <th>LGBMprob</th>\n",
       "      <th>t_01</th>\n",
       "      <th>t_02</th>\n",
       "      <th>t_03</th>\n",
       "      <th>t_04</th>\n",
       "      <th>t_05</th>\n",
       "      <th>t_06</th>\n",
       "      <th>...</th>\n",
       "      <th>t_46</th>\n",
       "      <th>t_47</th>\n",
       "      <th>t_48</th>\n",
       "      <th>t_49</th>\n",
       "      <th>t_50</th>\n",
       "      <th>t_51</th>\n",
       "      <th>t_52</th>\n",
       "      <th>t_53</th>\n",
       "      <th>t_54</th>\n",
       "      <th>t_55</th>\n",
       "    </tr>\n",
       "  </thead>\n",
       "  <tbody>\n",
       "    <tr>\n",
       "      <th>0</th>\n",
       "      <td>F057901F-8D71-48FA-A325-72C09C80F4EE</td>\n",
       "      <td>1</td>\n",
       "      <td>0.557485</td>\n",
       "      <td>0.570982</td>\n",
       "      <td>0.000000</td>\n",
       "      <td>0.016449</td>\n",
       "      <td>0.013396</td>\n",
       "      <td>0.0</td>\n",
       "      <td>0.0</td>\n",
       "      <td>0.0</td>\n",
       "      <td>...</td>\n",
       "      <td>0.000000</td>\n",
       "      <td>0.000000</td>\n",
       "      <td>0.12843</td>\n",
       "      <td>0.067970</td>\n",
       "      <td>0.197278</td>\n",
       "      <td>0.0</td>\n",
       "      <td>0.000000</td>\n",
       "      <td>0.0</td>\n",
       "      <td>0.033082</td>\n",
       "      <td>0.0</td>\n",
       "    </tr>\n",
       "    <tr>\n",
       "      <th>1</th>\n",
       "      <td>C8CC8F55-5154-456C-BAF4-A5BCF2C7DB8A</td>\n",
       "      <td>1</td>\n",
       "      <td>0.680937</td>\n",
       "      <td>0.713520</td>\n",
       "      <td>0.000000</td>\n",
       "      <td>0.020694</td>\n",
       "      <td>0.000000</td>\n",
       "      <td>0.0</td>\n",
       "      <td>0.0</td>\n",
       "      <td>0.0</td>\n",
       "      <td>...</td>\n",
       "      <td>0.042431</td>\n",
       "      <td>0.025291</td>\n",
       "      <td>0.00000</td>\n",
       "      <td>0.021013</td>\n",
       "      <td>0.000000</td>\n",
       "      <td>0.0</td>\n",
       "      <td>0.025704</td>\n",
       "      <td>0.0</td>\n",
       "      <td>0.015074</td>\n",
       "      <td>0.0</td>\n",
       "    </tr>\n",
       "    <tr>\n",
       "      <th>2</th>\n",
       "      <td>738D23ED-7699-4D17-B4EC-824F5D7E9DA6</td>\n",
       "      <td>1</td>\n",
       "      <td>0.577731</td>\n",
       "      <td>0.492890</td>\n",
       "      <td>0.000000</td>\n",
       "      <td>0.000000</td>\n",
       "      <td>0.000000</td>\n",
       "      <td>0.0</td>\n",
       "      <td>0.0</td>\n",
       "      <td>0.0</td>\n",
       "      <td>...</td>\n",
       "      <td>0.000000</td>\n",
       "      <td>0.000000</td>\n",
       "      <td>0.00000</td>\n",
       "      <td>0.279011</td>\n",
       "      <td>0.104774</td>\n",
       "      <td>0.0</td>\n",
       "      <td>0.000000</td>\n",
       "      <td>0.0</td>\n",
       "      <td>0.000000</td>\n",
       "      <td>0.0</td>\n",
       "    </tr>\n",
       "    <tr>\n",
       "      <th>3</th>\n",
       "      <td>0FA4D224-399E-4F6F-862F-793A926C118C</td>\n",
       "      <td>1</td>\n",
       "      <td>0.417429</td>\n",
       "      <td>0.474496</td>\n",
       "      <td>0.000000</td>\n",
       "      <td>0.000000</td>\n",
       "      <td>0.000000</td>\n",
       "      <td>0.0</td>\n",
       "      <td>0.0</td>\n",
       "      <td>0.0</td>\n",
       "      <td>...</td>\n",
       "      <td>0.000000</td>\n",
       "      <td>0.000000</td>\n",
       "      <td>0.11948</td>\n",
       "      <td>0.000000</td>\n",
       "      <td>0.012662</td>\n",
       "      <td>0.0</td>\n",
       "      <td>0.000000</td>\n",
       "      <td>0.0</td>\n",
       "      <td>0.000000</td>\n",
       "      <td>0.0</td>\n",
       "    </tr>\n",
       "    <tr>\n",
       "      <th>4</th>\n",
       "      <td>6BD48AED-06CA-476C-ACA9-18E5EF76A397</td>\n",
       "      <td>1</td>\n",
       "      <td>0.499721</td>\n",
       "      <td>0.385701</td>\n",
       "      <td>0.112462</td>\n",
       "      <td>0.000000</td>\n",
       "      <td>0.054512</td>\n",
       "      <td>0.0</td>\n",
       "      <td>0.0</td>\n",
       "      <td>0.0</td>\n",
       "      <td>...</td>\n",
       "      <td>0.000000</td>\n",
       "      <td>0.000000</td>\n",
       "      <td>0.00000</td>\n",
       "      <td>0.036828</td>\n",
       "      <td>0.086126</td>\n",
       "      <td>0.0</td>\n",
       "      <td>0.000000</td>\n",
       "      <td>0.0</td>\n",
       "      <td>0.048314</td>\n",
       "      <td>0.0</td>\n",
       "    </tr>\n",
       "  </tbody>\n",
       "</table>\n",
       "<p>5 rows × 59 columns</p>\n",
       "</div>"
      ],
      "text/plain": [
       "                                   ugid  perf  fasttextprob  LGBMprob  \\\n",
       "0  F057901F-8D71-48FA-A325-72C09C80F4EE     1      0.557485  0.570982   \n",
       "1  C8CC8F55-5154-456C-BAF4-A5BCF2C7DB8A     1      0.680937  0.713520   \n",
       "2  738D23ED-7699-4D17-B4EC-824F5D7E9DA6     1      0.577731  0.492890   \n",
       "3  0FA4D224-399E-4F6F-862F-793A926C118C     1      0.417429  0.474496   \n",
       "4  6BD48AED-06CA-476C-ACA9-18E5EF76A397     1      0.499721  0.385701   \n",
       "\n",
       "       t_01      t_02      t_03  t_04  t_05  t_06  ...       t_46      t_47  \\\n",
       "0  0.000000  0.016449  0.013396   0.0   0.0   0.0  ...   0.000000  0.000000   \n",
       "1  0.000000  0.020694  0.000000   0.0   0.0   0.0  ...   0.042431  0.025291   \n",
       "2  0.000000  0.000000  0.000000   0.0   0.0   0.0  ...   0.000000  0.000000   \n",
       "3  0.000000  0.000000  0.000000   0.0   0.0   0.0  ...   0.000000  0.000000   \n",
       "4  0.112462  0.000000  0.054512   0.0   0.0   0.0  ...   0.000000  0.000000   \n",
       "\n",
       "      t_48      t_49      t_50  t_51      t_52  t_53      t_54  t_55  \n",
       "0  0.12843  0.067970  0.197278   0.0  0.000000   0.0  0.033082   0.0  \n",
       "1  0.00000  0.021013  0.000000   0.0  0.025704   0.0  0.015074   0.0  \n",
       "2  0.00000  0.279011  0.104774   0.0  0.000000   0.0  0.000000   0.0  \n",
       "3  0.11948  0.000000  0.012662   0.0  0.000000   0.0  0.000000   0.0  \n",
       "4  0.00000  0.036828  0.086126   0.0  0.000000   0.0  0.048314   0.0  \n",
       "\n",
       "[5 rows x 59 columns]"
      ]
     },
     "execution_count": 180,
     "metadata": {},
     "output_type": "execute_result"
    }
   ],
   "source": [
    "all_feature_train.head()"
   ]
  },
  {
   "cell_type": "code",
   "execution_count": 181,
   "metadata": {},
   "outputs": [
    {
     "data": {
      "text/plain": [
       "110000"
      ]
     },
     "execution_count": 181,
     "metadata": {},
     "output_type": "execute_result"
    }
   ],
   "source": [
    "len(all_feature_train)"
   ]
  },
  {
   "cell_type": "code",
   "execution_count": 182,
   "metadata": {
    "collapsed": true
   },
   "outputs": [],
   "source": [
    "del all_feature_train['ugid']"
   ]
  },
  {
   "cell_type": "code",
   "execution_count": 183,
   "metadata": {},
   "outputs": [
    {
     "data": {
      "text/html": [
       "<div>\n",
       "<style>\n",
       "    .dataframe thead tr:only-child th {\n",
       "        text-align: right;\n",
       "    }\n",
       "\n",
       "    .dataframe thead th {\n",
       "        text-align: left;\n",
       "    }\n",
       "\n",
       "    .dataframe tbody tr th {\n",
       "        vertical-align: top;\n",
       "    }\n",
       "</style>\n",
       "<table border=\"1\" class=\"dataframe\">\n",
       "  <thead>\n",
       "    <tr style=\"text-align: right;\">\n",
       "      <th></th>\n",
       "      <th>perf</th>\n",
       "      <th>fasttextprob</th>\n",
       "      <th>LGBMprob</th>\n",
       "      <th>t_01</th>\n",
       "      <th>t_02</th>\n",
       "      <th>t_03</th>\n",
       "      <th>t_04</th>\n",
       "      <th>t_05</th>\n",
       "      <th>t_06</th>\n",
       "      <th>t_07</th>\n",
       "      <th>...</th>\n",
       "      <th>t_46</th>\n",
       "      <th>t_47</th>\n",
       "      <th>t_48</th>\n",
       "      <th>t_49</th>\n",
       "      <th>t_50</th>\n",
       "      <th>t_51</th>\n",
       "      <th>t_52</th>\n",
       "      <th>t_53</th>\n",
       "      <th>t_54</th>\n",
       "      <th>t_55</th>\n",
       "    </tr>\n",
       "  </thead>\n",
       "  <tbody>\n",
       "    <tr>\n",
       "      <th>0</th>\n",
       "      <td>1</td>\n",
       "      <td>0.557485</td>\n",
       "      <td>0.570982</td>\n",
       "      <td>0.000000</td>\n",
       "      <td>0.016449</td>\n",
       "      <td>0.013396</td>\n",
       "      <td>0.0</td>\n",
       "      <td>0.0</td>\n",
       "      <td>0.0</td>\n",
       "      <td>0.0</td>\n",
       "      <td>...</td>\n",
       "      <td>0.000000</td>\n",
       "      <td>0.000000</td>\n",
       "      <td>0.12843</td>\n",
       "      <td>0.067970</td>\n",
       "      <td>0.197278</td>\n",
       "      <td>0.0</td>\n",
       "      <td>0.000000</td>\n",
       "      <td>0.0</td>\n",
       "      <td>0.033082</td>\n",
       "      <td>0.0</td>\n",
       "    </tr>\n",
       "    <tr>\n",
       "      <th>1</th>\n",
       "      <td>1</td>\n",
       "      <td>0.680937</td>\n",
       "      <td>0.713520</td>\n",
       "      <td>0.000000</td>\n",
       "      <td>0.020694</td>\n",
       "      <td>0.000000</td>\n",
       "      <td>0.0</td>\n",
       "      <td>0.0</td>\n",
       "      <td>0.0</td>\n",
       "      <td>0.0</td>\n",
       "      <td>...</td>\n",
       "      <td>0.042431</td>\n",
       "      <td>0.025291</td>\n",
       "      <td>0.00000</td>\n",
       "      <td>0.021013</td>\n",
       "      <td>0.000000</td>\n",
       "      <td>0.0</td>\n",
       "      <td>0.025704</td>\n",
       "      <td>0.0</td>\n",
       "      <td>0.015074</td>\n",
       "      <td>0.0</td>\n",
       "    </tr>\n",
       "    <tr>\n",
       "      <th>2</th>\n",
       "      <td>1</td>\n",
       "      <td>0.577731</td>\n",
       "      <td>0.492890</td>\n",
       "      <td>0.000000</td>\n",
       "      <td>0.000000</td>\n",
       "      <td>0.000000</td>\n",
       "      <td>0.0</td>\n",
       "      <td>0.0</td>\n",
       "      <td>0.0</td>\n",
       "      <td>0.0</td>\n",
       "      <td>...</td>\n",
       "      <td>0.000000</td>\n",
       "      <td>0.000000</td>\n",
       "      <td>0.00000</td>\n",
       "      <td>0.279011</td>\n",
       "      <td>0.104774</td>\n",
       "      <td>0.0</td>\n",
       "      <td>0.000000</td>\n",
       "      <td>0.0</td>\n",
       "      <td>0.000000</td>\n",
       "      <td>0.0</td>\n",
       "    </tr>\n",
       "    <tr>\n",
       "      <th>3</th>\n",
       "      <td>1</td>\n",
       "      <td>0.417429</td>\n",
       "      <td>0.474496</td>\n",
       "      <td>0.000000</td>\n",
       "      <td>0.000000</td>\n",
       "      <td>0.000000</td>\n",
       "      <td>0.0</td>\n",
       "      <td>0.0</td>\n",
       "      <td>0.0</td>\n",
       "      <td>0.0</td>\n",
       "      <td>...</td>\n",
       "      <td>0.000000</td>\n",
       "      <td>0.000000</td>\n",
       "      <td>0.11948</td>\n",
       "      <td>0.000000</td>\n",
       "      <td>0.012662</td>\n",
       "      <td>0.0</td>\n",
       "      <td>0.000000</td>\n",
       "      <td>0.0</td>\n",
       "      <td>0.000000</td>\n",
       "      <td>0.0</td>\n",
       "    </tr>\n",
       "    <tr>\n",
       "      <th>4</th>\n",
       "      <td>1</td>\n",
       "      <td>0.499721</td>\n",
       "      <td>0.385701</td>\n",
       "      <td>0.112462</td>\n",
       "      <td>0.000000</td>\n",
       "      <td>0.054512</td>\n",
       "      <td>0.0</td>\n",
       "      <td>0.0</td>\n",
       "      <td>0.0</td>\n",
       "      <td>0.0</td>\n",
       "      <td>...</td>\n",
       "      <td>0.000000</td>\n",
       "      <td>0.000000</td>\n",
       "      <td>0.00000</td>\n",
       "      <td>0.036828</td>\n",
       "      <td>0.086126</td>\n",
       "      <td>0.0</td>\n",
       "      <td>0.000000</td>\n",
       "      <td>0.0</td>\n",
       "      <td>0.048314</td>\n",
       "      <td>0.0</td>\n",
       "    </tr>\n",
       "  </tbody>\n",
       "</table>\n",
       "<p>5 rows × 58 columns</p>\n",
       "</div>"
      ],
      "text/plain": [
       "   perf  fasttextprob  LGBMprob      t_01      t_02      t_03  t_04  t_05  \\\n",
       "0     1      0.557485  0.570982  0.000000  0.016449  0.013396   0.0   0.0   \n",
       "1     1      0.680937  0.713520  0.000000  0.020694  0.000000   0.0   0.0   \n",
       "2     1      0.577731  0.492890  0.000000  0.000000  0.000000   0.0   0.0   \n",
       "3     1      0.417429  0.474496  0.000000  0.000000  0.000000   0.0   0.0   \n",
       "4     1      0.499721  0.385701  0.112462  0.000000  0.054512   0.0   0.0   \n",
       "\n",
       "   t_06  t_07  ...       t_46      t_47     t_48      t_49      t_50  t_51  \\\n",
       "0   0.0   0.0  ...   0.000000  0.000000  0.12843  0.067970  0.197278   0.0   \n",
       "1   0.0   0.0  ...   0.042431  0.025291  0.00000  0.021013  0.000000   0.0   \n",
       "2   0.0   0.0  ...   0.000000  0.000000  0.00000  0.279011  0.104774   0.0   \n",
       "3   0.0   0.0  ...   0.000000  0.000000  0.11948  0.000000  0.012662   0.0   \n",
       "4   0.0   0.0  ...   0.000000  0.000000  0.00000  0.036828  0.086126   0.0   \n",
       "\n",
       "       t_52  t_53      t_54  t_55  \n",
       "0  0.000000   0.0  0.033082   0.0  \n",
       "1  0.025704   0.0  0.015074   0.0  \n",
       "2  0.000000   0.0  0.000000   0.0  \n",
       "3  0.000000   0.0  0.000000   0.0  \n",
       "4  0.000000   0.0  0.048314   0.0  \n",
       "\n",
       "[5 rows x 58 columns]"
      ]
     },
     "execution_count": 183,
     "metadata": {},
     "output_type": "execute_result"
    }
   ],
   "source": [
    "all_feature_train.head()"
   ]
  },
  {
   "cell_type": "code",
   "execution_count": 325,
   "metadata": {
    "collapsed": true
   },
   "outputs": [],
   "source": [
    "feature_list = [[0.0 for i in range(len(all_feature_train.columns)-1)] for j in range(len(all_feature_train))]\n",
    "for i in range(len(feature_list)):\n",
    "    for j in range(len(feature_list[0])):\n",
    "        if j>=55:\n",
    "            feature_list[i][j]=all_feature_train.iat[i,j-54]\n",
    "        else:\n",
    "            feature_list[i][j]=all_feature_train.iat[i,j+3]"
   ]
  },
  {
   "cell_type": "code",
   "execution_count": 327,
   "metadata": {
    "collapsed": true
   },
   "outputs": [],
   "source": [
    "# # feature_list[0]\n",
    "# feature_list = [[0.0 for i in range(len(all_feature_train.columns)-1)] for j in range(len(all_feature_train))]\n",
    "# for i in range(len(feature_list)):\n",
    "#     for j in range(len(feature_list[0])):\n",
    "#         if j>=55:\n",
    "#             feature_list[i][j]=all_feature_train.iat[i,j-54]\n",
    "#         else:\n",
    "#             feature_list[i][j]=all_feature_train.iat[i,j+3]\n",
    "            \n",
    "# perf_list = [0.0 for i in range(len(all_feature_train))]\n",
    "# for i in range(len(perf_list)):\n",
    "#     perf_list[i]=all_feature_train.iat[i,0]\n",
    "\n",
    "# feature_list = np.array(feature_list)\n",
    "# perf_list = np.array(perf_list)\n",
    "# train_p_lr =  LR_model.predict_proba(feature_list)"
   ]
  },
  {
   "cell_type": "code",
   "execution_count": 188,
   "metadata": {
    "collapsed": true
   },
   "outputs": [],
   "source": [
    "perf_list = [0.0 for i in range(len(all_feature_train))]\n",
    "for i in range(len(perf_list)):\n",
    "    perf_list[i]=all_feature_train.iat[i,0]"
   ]
  },
  {
   "cell_type": "code",
   "execution_count": 190,
   "metadata": {},
   "outputs": [
    {
     "data": {
      "text/plain": [
       "0"
      ]
     },
     "execution_count": 190,
     "metadata": {},
     "output_type": "execute_result"
    }
   ],
   "source": [
    "perf_list[-1]"
   ]
  },
  {
   "cell_type": "code",
   "execution_count": 328,
   "metadata": {
    "collapsed": true
   },
   "outputs": [],
   "source": [
    "import numpy as np\n",
    "feature_list = np.array(feature_list)\n",
    "perf_list = np.array(perf_list)"
   ]
  },
  {
   "cell_type": "code",
   "execution_count": 192,
   "metadata": {
    "collapsed": true
   },
   "outputs": [],
   "source": [
    "from sklearn.linear_model import LogisticRegression"
   ]
  },
  {
   "cell_type": "code",
   "execution_count": 193,
   "metadata": {
    "collapsed": true
   },
   "outputs": [],
   "source": [
    "LR_classifier = LogisticRegression()"
   ]
  },
  {
   "cell_type": "code",
   "execution_count": 329,
   "metadata": {
    "collapsed": true
   },
   "outputs": [],
   "source": [
    "LR_model = LR_classifier.fit(feature_list,perf_list)"
   ]
  },
  {
   "cell_type": "code",
   "execution_count": 330,
   "metadata": {
    "collapsed": true
   },
   "outputs": [],
   "source": [
    "train_p_lr =  LR_model.predict_proba(feature_list)"
   ]
  },
  {
   "cell_type": "code",
   "execution_count": 331,
   "metadata": {},
   "outputs": [
    {
     "data": {
      "text/plain": [
       "array([[0.47708802, 0.52291198],\n",
       "       [0.21386642, 0.78613358],\n",
       "       [0.20118937, 0.79881063],\n",
       "       ...,\n",
       "       [0.91837616, 0.08162384],\n",
       "       [0.52007556, 0.47992444],\n",
       "       [0.53981431, 0.46018569]])"
      ]
     },
     "execution_count": 331,
     "metadata": {},
     "output_type": "execute_result"
    }
   ],
   "source": [
    "train_p_lr"
   ]
  },
  {
   "cell_type": "code",
   "execution_count": 198,
   "metadata": {
    "collapsed": true
   },
   "outputs": [],
   "source": [
    "train_prob_lr = []\n",
    "for i in range(len(train_p_lr)):\n",
    "    train_p_lr = list(train_p_lr)\n",
    "    train_prob_lr.append(train_p_lr[i][1])"
   ]
  },
  {
   "cell_type": "code",
   "execution_count": 199,
   "metadata": {
    "collapsed": true
   },
   "outputs": [],
   "source": [
    "train_prob_lr = np.array(train_prob_lr)"
   ]
  },
  {
   "cell_type": "code",
   "execution_count": null,
   "metadata": {
    "collapsed": true
   },
   "outputs": [],
   "source": []
  },
  {
   "cell_type": "code",
   "execution_count": null,
   "metadata": {
    "collapsed": true
   },
   "outputs": [],
   "source": []
  },
  {
   "cell_type": "code",
   "execution_count": null,
   "metadata": {
    "collapsed": true
   },
   "outputs": [],
   "source": []
  },
  {
   "cell_type": "markdown",
   "metadata": {},
   "source": [
    "# 全量样本训练fasttext and LGBM"
   ]
  },
  {
   "cell_type": "code",
   "execution_count": 202,
   "metadata": {
    "collapsed": true
   },
   "outputs": [],
   "source": [
    "stacking_classifier_all= fastText.train_supervised(\"data/fasttext_order_nflod_train.txt\",lr = 0.1,epoch=10,wordNgrams=3,\n",
    "                                                 verbose=2,minCount=1,label=\"__label__\"\n",
    "                                                      ,pretrainedVectors='/data/fengkong/zh_300.vec'\n",
    "                                                     )\n"
   ]
  },
  {
   "cell_type": "code",
   "execution_count": 203,
   "metadata": {
    "collapsed": true
   },
   "outputs": [],
   "source": [
    "stacking_classifier_all.save_model('stacking_classifier_all.bin')"
   ]
  },
  {
   "cell_type": "code",
   "execution_count": 204,
   "metadata": {
    "collapsed": true
   },
   "outputs": [],
   "source": [
    "LGBM_all = pd.read_csv('data/all_lda.csv')"
   ]
  },
  {
   "cell_type": "code",
   "execution_count": 206,
   "metadata": {},
   "outputs": [
    {
     "data": {
      "text/html": [
       "<div>\n",
       "<style>\n",
       "    .dataframe thead tr:only-child th {\n",
       "        text-align: right;\n",
       "    }\n",
       "\n",
       "    .dataframe thead th {\n",
       "        text-align: left;\n",
       "    }\n",
       "\n",
       "    .dataframe tbody tr th {\n",
       "        vertical-align: top;\n",
       "    }\n",
       "</style>\n",
       "<table border=\"1\" class=\"dataframe\">\n",
       "  <thead>\n",
       "    <tr style=\"text-align: right;\">\n",
       "      <th></th>\n",
       "      <th>ugid</th>\n",
       "      <th>token_id_x</th>\n",
       "      <th>TO9</th>\n",
       "      <th>TO10</th>\n",
       "      <th>TO52</th>\n",
       "      <th>TO51</th>\n",
       "      <th>TO17</th>\n",
       "      <th>TO54</th>\n",
       "      <th>TO27</th>\n",
       "      <th>TO28</th>\n",
       "      <th>...</th>\n",
       "      <th>t_46</th>\n",
       "      <th>t_47</th>\n",
       "      <th>t_48</th>\n",
       "      <th>t_49</th>\n",
       "      <th>t_50</th>\n",
       "      <th>t_51</th>\n",
       "      <th>t_52</th>\n",
       "      <th>t_53</th>\n",
       "      <th>t_54</th>\n",
       "      <th>t_55</th>\n",
       "    </tr>\n",
       "  </thead>\n",
       "  <tbody>\n",
       "    <tr>\n",
       "      <th>0</th>\n",
       "      <td>00023820-A8FB-4D41-B32F-730DDF50A0D6</td>\n",
       "      <td>9d9d6e9fa578461baf4af42a89c0f18b1490688626618_21</td>\n",
       "      <td>2665</td>\n",
       "      <td>1196</td>\n",
       "      <td>81809</td>\n",
       "      <td>190207</td>\n",
       "      <td>1469</td>\n",
       "      <td>108398</td>\n",
       "      <td>227</td>\n",
       "      <td>62</td>\n",
       "      <td>...</td>\n",
       "      <td>0.105423</td>\n",
       "      <td>0.0</td>\n",
       "      <td>0.011697</td>\n",
       "      <td>0.000000</td>\n",
       "      <td>0.022512</td>\n",
       "      <td>0.0</td>\n",
       "      <td>0.0</td>\n",
       "      <td>0.000000</td>\n",
       "      <td>0.0</td>\n",
       "      <td>0.0</td>\n",
       "    </tr>\n",
       "    <tr>\n",
       "      <th>1</th>\n",
       "      <td>00024CEF-E433-4679-B85E-2237CF46A2B2</td>\n",
       "      <td>7d4e87d01f44479296e43124b4a979461488774175767_21</td>\n",
       "      <td>3672</td>\n",
       "      <td>2149</td>\n",
       "      <td>131490</td>\n",
       "      <td>234504</td>\n",
       "      <td>1523</td>\n",
       "      <td>103014</td>\n",
       "      <td>899</td>\n",
       "      <td>161</td>\n",
       "      <td>...</td>\n",
       "      <td>0.012968</td>\n",
       "      <td>0.0</td>\n",
       "      <td>0.000000</td>\n",
       "      <td>0.102615</td>\n",
       "      <td>0.014539</td>\n",
       "      <td>0.0</td>\n",
       "      <td>0.0</td>\n",
       "      <td>0.016099</td>\n",
       "      <td>0.0</td>\n",
       "      <td>0.0</td>\n",
       "    </tr>\n",
       "    <tr>\n",
       "      <th>2</th>\n",
       "      <td>00029D99-AF35-4F00-B807-26BC79D67644</td>\n",
       "      <td>0e12589f3754414789ffd45ee5281d351484010021705_21</td>\n",
       "      <td>1016</td>\n",
       "      <td>573</td>\n",
       "      <td>30339</td>\n",
       "      <td>55707</td>\n",
       "      <td>443</td>\n",
       "      <td>25368</td>\n",
       "      <td>133</td>\n",
       "      <td>0</td>\n",
       "      <td>...</td>\n",
       "      <td>0.000000</td>\n",
       "      <td>0.0</td>\n",
       "      <td>0.000000</td>\n",
       "      <td>0.477374</td>\n",
       "      <td>0.000000</td>\n",
       "      <td>0.0</td>\n",
       "      <td>0.0</td>\n",
       "      <td>0.000000</td>\n",
       "      <td>0.0</td>\n",
       "      <td>0.0</td>\n",
       "    </tr>\n",
       "  </tbody>\n",
       "</table>\n",
       "<p>3 rows × 950 columns</p>\n",
       "</div>"
      ],
      "text/plain": [
       "                                   ugid  \\\n",
       "0  00023820-A8FB-4D41-B32F-730DDF50A0D6   \n",
       "1  00024CEF-E433-4679-B85E-2237CF46A2B2   \n",
       "2  00029D99-AF35-4F00-B807-26BC79D67644   \n",
       "\n",
       "                                         token_id_x   TO9  TO10    TO52  \\\n",
       "0  9d9d6e9fa578461baf4af42a89c0f18b1490688626618_21  2665  1196   81809   \n",
       "1  7d4e87d01f44479296e43124b4a979461488774175767_21  3672  2149  131490   \n",
       "2  0e12589f3754414789ffd45ee5281d351484010021705_21  1016   573   30339   \n",
       "\n",
       "     TO51  TO17    TO54  TO27  TO28  ...       t_46  t_47      t_48      t_49  \\\n",
       "0  190207  1469  108398   227    62  ...   0.105423   0.0  0.011697  0.000000   \n",
       "1  234504  1523  103014   899   161  ...   0.012968   0.0  0.000000  0.102615   \n",
       "2   55707   443   25368   133     0  ...   0.000000   0.0  0.000000  0.477374   \n",
       "\n",
       "       t_50  t_51  t_52      t_53  t_54  t_55  \n",
       "0  0.022512   0.0   0.0  0.000000   0.0   0.0  \n",
       "1  0.014539   0.0   0.0  0.016099   0.0   0.0  \n",
       "2  0.000000   0.0   0.0  0.000000   0.0   0.0  \n",
       "\n",
       "[3 rows x 950 columns]"
      ]
     },
     "execution_count": 206,
     "metadata": {},
     "output_type": "execute_result"
    }
   ],
   "source": [
    "LGBM_all.head(3)"
   ]
  },
  {
   "cell_type": "code",
   "execution_count": 208,
   "metadata": {
    "collapsed": true
   },
   "outputs": [],
   "source": [
    "d_list = [ 't_01','t_02','t_03','t_04','t_05','t_06','t_07','t_08','t_09','t_10','t_11','t_12','t_13','t_14','t_15','t_16','t_17','t_18','t_19',\n",
    " 't_20','t_21','t_22','t_23','t_24','t_25','t_26','t_27','t_28','t_29','t_30','t_31','t_32','t_33','t_34','t_35','t_36','t_37','t_38','t_39',\n",
    " 't_40','t_41','t_42','t_43','t_44','t_45','t_46','t_47','t_48','t_49','t_50','t_51','t_52','t_53','t_54','t_55','b','token_id_x',\n",
    "          'first_trans_time','crawler_time','token_id_y','token_id']\n",
    "LGBM_all.replace(np.inf, np.nan, inplace=True)\n",
    "LGBM_all.replace(-99998,np.nan, inplace=True)\n",
    "LGBM_all.replace(-99999976,np.nan, inplace=True)\n",
    "LGBM_all.replace(-9999979,np.nan, inplace=True)\n",
    "LGBM_all.replace(-9999976,np.nan, inplace=True)\n",
    "LGBM_all.replace(-999973,np.nan, inplace=True)\n",
    "LGBM_all.replace(-999976,np.nan, inplace=True)\n",
    "LGBM_all.replace(9999,np.nan, inplace=True)\n",
    "LGBM_all = LGBM_all.replace('01. 坏',0)\n",
    "LGBM_all = LGBM_all.replace('05. 好',1)"
   ]
  },
  {
   "cell_type": "code",
   "execution_count": 211,
   "metadata": {
    "collapsed": true
   },
   "outputs": [],
   "source": [
    "# LGBM_all = LGBM_all.drop()\n",
    "LGBM_all =LGBM_all.drop(d_list,axis=1)\n",
    "LGBM_train = pd.merge(fasttext_stacking_train,LGBM_all,how = 'left',on = ['ugid'])"
   ]
  },
  {
   "cell_type": "code",
   "execution_count": 213,
   "metadata": {
    "collapsed": true
   },
   "outputs": [],
   "source": [
    "del LGBM_train['prob']"
   ]
  },
  {
   "cell_type": "code",
   "execution_count": 215,
   "metadata": {
    "collapsed": true
   },
   "outputs": [],
   "source": [
    "del LGBM_train['ugid']"
   ]
  },
  {
   "cell_type": "code",
   "execution_count": 216,
   "metadata": {
    "collapsed": true
   },
   "outputs": [],
   "source": [
    "LGBM_model = LGBMClassifier(boosting_type='gbdt', colsample_bytree=0.82622520164901361,\n",
    "        drop_rate=0.5, is_unbalance=True,\n",
    "        learning_rate=0.03, max_bin=10, max_depth=5,\n",
    "        max_drop=50, min_child_samples=1200, min_child_weight=4,\n",
    "        min_split_gain=0.01500339778285961, n_estimators=490, nthread=-1,\n",
    "        num_leaves=128, objective='binary', reg_alpha=20, reg_lambda=100,\n",
    "        scale_pos_weight=1, seed=27, sigmoid=1.0, silent=True,\n",
    "        skip_drop=0.5, subsample=0.7, subsample_for_bin=30000,\n",
    "        subsample_freq=3, uniform_drop=False, xgboost_dart_mode=False)"
   ]
  },
  {
   "cell_type": "code",
   "execution_count": 217,
   "metadata": {},
   "outputs": [
    {
     "name": "stdout",
     "output_type": "stream",
     "text": [
      "[]\n",
      "(110000, 889)\n",
      "(110000, 888)\n",
      "1    57158\n",
      "0    52842\n",
      "Name: perf, dtype: int64\n"
     ]
    },
    {
     "name": "stderr",
     "output_type": "stream",
     "text": [
      "/opt/anaconda3/lib/python3.6/site-packages/sklearn/preprocessing/label.py:151: DeprecationWarning: The truth value of an empty array is ambiguous. Returning False, but in future this will result in an error. Use `array.size > 0` to check that an array is not empty.\n",
      "  if diff:\n"
     ]
    },
    {
     "name": "stdout",
     "output_type": "stream",
     "text": [
      "--AUC Score (Train): 0.752918\n",
      "class metrics:\n",
      "             precision    recall  f1-score   support\n",
      "\n",
      "          0       0.67      0.70      0.68     52842\n",
      "          1       0.71      0.67      0.69     57158\n",
      "\n",
      "avg / total       0.69      0.69      0.69    110000\n",
      "\n",
      "--CV Score : Mean - 0.7235973 | Std - 0.002005526 | Min - 0.7215918 | Max - 0.7256028\n"
     ]
    }
   ],
   "source": [
    "continuousDomain, categoricalDomain = continuous_categorical(LGBM_train)\n",
    "# %%time\n",
    "dfm.fit(LGBM_train)\n",
    "LGBM_train=LGBM_train[LGBM_train.perf.isin([0,1])]\n",
    "X_train_all = dfm.transform(LGBM_train)\n",
    "y_train_all = LGBM_train['perf']\n",
    "X_train_all = LGBM_train.drop(\"perf\",axis=1)\n",
    "print(LGBM_train.shape)\n",
    "print(X_train_all.shape)\n",
    "print(LGBM_train.perf.value_counts())#查看训练集好坏分布\n",
    "# %%time\n",
    "modelWithCv(LGBM_model, X_train_all, y_train_all, 2)\n",
    "# LGBM_pre=dfm.transform(data_part4)\n",
    "# pre_prob_4 = pd.DataFrame(model.predict_proba(data_part4[varlist])[:,1], columns = ['predprob'])\n",
    "# pre_prob_4['ytrue'] = data_part4['perf'].values"
   ]
  },
  {
   "cell_type": "markdown",
   "metadata": {},
   "source": [
    "# 测试集构造"
   ]
  },
  {
   "cell_type": "code",
   "execution_count": 239,
   "metadata": {
    "collapsed": true
   },
   "outputs": [],
   "source": [
    "LGBM_test = pd.read_csv('data/all_lda.csv')"
   ]
  },
  {
   "cell_type": "code",
   "execution_count": 220,
   "metadata": {
    "collapsed": true
   },
   "outputs": [],
   "source": [
    "statcing_test = pd.read_csv('data/fasttext_stacking_test_ugid.csv')"
   ]
  },
  {
   "cell_type": "code",
   "execution_count": 222,
   "metadata": {},
   "outputs": [
    {
     "data": {
      "text/html": [
       "<div>\n",
       "<style>\n",
       "    .dataframe thead tr:only-child th {\n",
       "        text-align: right;\n",
       "    }\n",
       "\n",
       "    .dataframe thead th {\n",
       "        text-align: left;\n",
       "    }\n",
       "\n",
       "    .dataframe tbody tr th {\n",
       "        vertical-align: top;\n",
       "    }\n",
       "</style>\n",
       "<table border=\"1\" class=\"dataframe\">\n",
       "  <thead>\n",
       "    <tr style=\"text-align: right;\">\n",
       "      <th></th>\n",
       "      <th>ugid</th>\n",
       "      <th>perf</th>\n",
       "    </tr>\n",
       "  </thead>\n",
       "  <tbody>\n",
       "    <tr>\n",
       "      <th>0</th>\n",
       "      <td>927AC671-32D7-410F-B02D-58F559F06D47</td>\n",
       "      <td>1</td>\n",
       "    </tr>\n",
       "    <tr>\n",
       "      <th>1</th>\n",
       "      <td>6CF977D7-94B3-48B3-8519-3FEB55C4679E</td>\n",
       "      <td>1</td>\n",
       "    </tr>\n",
       "  </tbody>\n",
       "</table>\n",
       "</div>"
      ],
      "text/plain": [
       "                                   ugid  perf\n",
       "0  927AC671-32D7-410F-B02D-58F559F06D47     1\n",
       "1  6CF977D7-94B3-48B3-8519-3FEB55C4679E     1"
      ]
     },
     "execution_count": 222,
     "metadata": {},
     "output_type": "execute_result"
    }
   ],
   "source": [
    "statcing_test.head(2)"
   ]
  },
  {
   "cell_type": "code",
   "execution_count": 240,
   "metadata": {
    "collapsed": true
   },
   "outputs": [],
   "source": [
    "LGBM_test = pd.merge(statcing_test,LGBM_test,how= 'left',on=['ugid'])"
   ]
  },
  {
   "cell_type": "code",
   "execution_count": 243,
   "metadata": {
    "collapsed": true
   },
   "outputs": [],
   "source": [
    "LDA_list = ['ugid','perf', 't_01','t_02','t_03','t_04','t_05','t_06','t_07','t_08','t_09','t_10','t_11','t_12','t_13','t_14','t_15','t_16','t_17','t_18','t_19',\n",
    " 't_20','t_21','t_22','t_23','t_24','t_25','t_26','t_27','t_28','t_29','t_30','t_31','t_32','t_33','t_34','t_35','t_36','t_37','t_38','t_39',\n",
    " 't_40','t_41','t_42','t_43','t_44','t_45','t_46','t_47','t_48','t_49','t_50','t_51','t_52','t_53','t_54','t_55']"
   ]
  },
  {
   "cell_type": "code",
   "execution_count": 244,
   "metadata": {
    "collapsed": true
   },
   "outputs": [],
   "source": [
    "LDA_test = LGBM_test[LDA_list]"
   ]
  },
  {
   "cell_type": "code",
   "execution_count": 245,
   "metadata": {},
   "outputs": [
    {
     "data": {
      "text/html": [
       "<div>\n",
       "<style>\n",
       "    .dataframe thead tr:only-child th {\n",
       "        text-align: right;\n",
       "    }\n",
       "\n",
       "    .dataframe thead th {\n",
       "        text-align: left;\n",
       "    }\n",
       "\n",
       "    .dataframe tbody tr th {\n",
       "        vertical-align: top;\n",
       "    }\n",
       "</style>\n",
       "<table border=\"1\" class=\"dataframe\">\n",
       "  <thead>\n",
       "    <tr style=\"text-align: right;\">\n",
       "      <th></th>\n",
       "      <th>ugid</th>\n",
       "      <th>perf</th>\n",
       "      <th>t_01</th>\n",
       "      <th>t_02</th>\n",
       "      <th>t_03</th>\n",
       "      <th>t_04</th>\n",
       "      <th>t_05</th>\n",
       "      <th>t_06</th>\n",
       "      <th>t_07</th>\n",
       "      <th>t_08</th>\n",
       "      <th>...</th>\n",
       "      <th>t_46</th>\n",
       "      <th>t_47</th>\n",
       "      <th>t_48</th>\n",
       "      <th>t_49</th>\n",
       "      <th>t_50</th>\n",
       "      <th>t_51</th>\n",
       "      <th>t_52</th>\n",
       "      <th>t_53</th>\n",
       "      <th>t_54</th>\n",
       "      <th>t_55</th>\n",
       "    </tr>\n",
       "  </thead>\n",
       "  <tbody>\n",
       "    <tr>\n",
       "      <th>0</th>\n",
       "      <td>927AC671-32D7-410F-B02D-58F559F06D47</td>\n",
       "      <td>1</td>\n",
       "      <td>0.0</td>\n",
       "      <td>0.000000</td>\n",
       "      <td>0.061334</td>\n",
       "      <td>0.0</td>\n",
       "      <td>0.0</td>\n",
       "      <td>0.0</td>\n",
       "      <td>0.0</td>\n",
       "      <td>0.010595</td>\n",
       "      <td>...</td>\n",
       "      <td>0.284003</td>\n",
       "      <td>0.0</td>\n",
       "      <td>0.051326</td>\n",
       "      <td>0.000000</td>\n",
       "      <td>0.015801</td>\n",
       "      <td>0.0</td>\n",
       "      <td>0.0</td>\n",
       "      <td>0.0</td>\n",
       "      <td>0.0</td>\n",
       "      <td>0.0</td>\n",
       "    </tr>\n",
       "    <tr>\n",
       "      <th>1</th>\n",
       "      <td>6CF977D7-94B3-48B3-8519-3FEB55C4679E</td>\n",
       "      <td>1</td>\n",
       "      <td>0.0</td>\n",
       "      <td>0.015329</td>\n",
       "      <td>0.000000</td>\n",
       "      <td>0.0</td>\n",
       "      <td>0.0</td>\n",
       "      <td>0.0</td>\n",
       "      <td>0.0</td>\n",
       "      <td>0.026255</td>\n",
       "      <td>...</td>\n",
       "      <td>0.000000</td>\n",
       "      <td>0.0</td>\n",
       "      <td>0.000000</td>\n",
       "      <td>0.016084</td>\n",
       "      <td>0.018555</td>\n",
       "      <td>0.0</td>\n",
       "      <td>0.0</td>\n",
       "      <td>0.0</td>\n",
       "      <td>0.0</td>\n",
       "      <td>0.0</td>\n",
       "    </tr>\n",
       "  </tbody>\n",
       "</table>\n",
       "<p>2 rows × 57 columns</p>\n",
       "</div>"
      ],
      "text/plain": [
       "                                   ugid  perf  t_01      t_02      t_03  t_04  \\\n",
       "0  927AC671-32D7-410F-B02D-58F559F06D47     1   0.0  0.000000  0.061334   0.0   \n",
       "1  6CF977D7-94B3-48B3-8519-3FEB55C4679E     1   0.0  0.015329  0.000000   0.0   \n",
       "\n",
       "   t_05  t_06  t_07      t_08  ...       t_46  t_47      t_48      t_49  \\\n",
       "0   0.0   0.0   0.0  0.010595  ...   0.284003   0.0  0.051326  0.000000   \n",
       "1   0.0   0.0   0.0  0.026255  ...   0.000000   0.0  0.000000  0.016084   \n",
       "\n",
       "       t_50  t_51  t_52  t_53  t_54  t_55  \n",
       "0  0.015801   0.0   0.0   0.0   0.0   0.0  \n",
       "1  0.018555   0.0   0.0   0.0   0.0   0.0  \n",
       "\n",
       "[2 rows x 57 columns]"
      ]
     },
     "execution_count": 245,
     "metadata": {},
     "output_type": "execute_result"
    }
   ],
   "source": [
    "LDA_test.head(2)"
   ]
  },
  {
   "cell_type": "code",
   "execution_count": 246,
   "metadata": {
    "collapsed": true
   },
   "outputs": [],
   "source": [
    "LGBM_test =LGBM_test.drop(d_list,axis=1)"
   ]
  },
  {
   "cell_type": "code",
   "execution_count": 247,
   "metadata": {},
   "outputs": [
    {
     "data": {
      "text/html": [
       "<div>\n",
       "<style>\n",
       "    .dataframe thead tr:only-child th {\n",
       "        text-align: right;\n",
       "    }\n",
       "\n",
       "    .dataframe thead th {\n",
       "        text-align: left;\n",
       "    }\n",
       "\n",
       "    .dataframe tbody tr th {\n",
       "        vertical-align: top;\n",
       "    }\n",
       "</style>\n",
       "<table border=\"1\" class=\"dataframe\">\n",
       "  <thead>\n",
       "    <tr style=\"text-align: right;\">\n",
       "      <th></th>\n",
       "      <th>ugid</th>\n",
       "      <th>perf</th>\n",
       "      <th>TO9</th>\n",
       "      <th>TO10</th>\n",
       "      <th>TO52</th>\n",
       "      <th>TO51</th>\n",
       "      <th>TO17</th>\n",
       "      <th>TO54</th>\n",
       "      <th>TO27</th>\n",
       "      <th>TO28</th>\n",
       "      <th>...</th>\n",
       "      <th>TB246</th>\n",
       "      <th>TB252</th>\n",
       "      <th>TB265</th>\n",
       "      <th>TB297</th>\n",
       "      <th>TB296</th>\n",
       "      <th>TO414_y</th>\n",
       "      <th>TO415_y</th>\n",
       "      <th>TO416_y</th>\n",
       "      <th>TO417_y</th>\n",
       "      <th>TO418_y</th>\n",
       "    </tr>\n",
       "  </thead>\n",
       "  <tbody>\n",
       "    <tr>\n",
       "      <th>0</th>\n",
       "      <td>927AC671-32D7-410F-B02D-58F559F06D47</td>\n",
       "      <td>1</td>\n",
       "      <td>941</td>\n",
       "      <td>551</td>\n",
       "      <td>48588</td>\n",
       "      <td>69378</td>\n",
       "      <td>390</td>\n",
       "      <td>20790</td>\n",
       "      <td>163</td>\n",
       "      <td>57</td>\n",
       "      <td>...</td>\n",
       "      <td>53</td>\n",
       "      <td>22</td>\n",
       "      <td>41</td>\n",
       "      <td>1</td>\n",
       "      <td>10</td>\n",
       "      <td>NaN</td>\n",
       "      <td>NaN</td>\n",
       "      <td>NaN</td>\n",
       "      <td>NaN</td>\n",
       "      <td>NaN</td>\n",
       "    </tr>\n",
       "    <tr>\n",
       "      <th>1</th>\n",
       "      <td>6CF977D7-94B3-48B3-8519-3FEB55C4679E</td>\n",
       "      <td>1</td>\n",
       "      <td>950</td>\n",
       "      <td>405</td>\n",
       "      <td>34072</td>\n",
       "      <td>92170</td>\n",
       "      <td>545</td>\n",
       "      <td>58098</td>\n",
       "      <td>358</td>\n",
       "      <td>87</td>\n",
       "      <td>...</td>\n",
       "      <td>0</td>\n",
       "      <td>0</td>\n",
       "      <td>100</td>\n",
       "      <td>3</td>\n",
       "      <td>34</td>\n",
       "      <td>NaN</td>\n",
       "      <td>NaN</td>\n",
       "      <td>NaN</td>\n",
       "      <td>NaN</td>\n",
       "      <td>NaN</td>\n",
       "    </tr>\n",
       "  </tbody>\n",
       "</table>\n",
       "<p>2 rows × 890 columns</p>\n",
       "</div>"
      ],
      "text/plain": [
       "                                   ugid  perf  TO9  TO10   TO52   TO51  TO17  \\\n",
       "0  927AC671-32D7-410F-B02D-58F559F06D47     1  941   551  48588  69378   390   \n",
       "1  6CF977D7-94B3-48B3-8519-3FEB55C4679E     1  950   405  34072  92170   545   \n",
       "\n",
       "    TO54  TO27  TO28   ...     TB246  TB252  TB265  TB297  TB296  TO414_y  \\\n",
       "0  20790   163    57   ...        53     22     41      1     10      NaN   \n",
       "1  58098   358    87   ...         0      0    100      3     34      NaN   \n",
       "\n",
       "   TO415_y  TO416_y  TO417_y  TO418_y  \n",
       "0      NaN      NaN      NaN      NaN  \n",
       "1      NaN      NaN      NaN      NaN  \n",
       "\n",
       "[2 rows x 890 columns]"
      ]
     },
     "execution_count": 247,
     "metadata": {},
     "output_type": "execute_result"
    }
   ],
   "source": [
    "LGBM_test.head(2)"
   ]
  },
  {
   "cell_type": "code",
   "execution_count": 248,
   "metadata": {
    "collapsed": true
   },
   "outputs": [],
   "source": [
    "LGBM_test_final = LGBM_test.drop(['ugid','perf'],axis=1)"
   ]
  },
  {
   "cell_type": "code",
   "execution_count": 249,
   "metadata": {},
   "outputs": [
    {
     "data": {
      "text/html": [
       "<div>\n",
       "<style>\n",
       "    .dataframe thead tr:only-child th {\n",
       "        text-align: right;\n",
       "    }\n",
       "\n",
       "    .dataframe thead th {\n",
       "        text-align: left;\n",
       "    }\n",
       "\n",
       "    .dataframe tbody tr th {\n",
       "        vertical-align: top;\n",
       "    }\n",
       "</style>\n",
       "<table border=\"1\" class=\"dataframe\">\n",
       "  <thead>\n",
       "    <tr style=\"text-align: right;\">\n",
       "      <th></th>\n",
       "      <th>TO9</th>\n",
       "      <th>TO10</th>\n",
       "      <th>TO52</th>\n",
       "      <th>TO51</th>\n",
       "      <th>TO17</th>\n",
       "      <th>TO54</th>\n",
       "      <th>TO27</th>\n",
       "      <th>TO28</th>\n",
       "      <th>TO29</th>\n",
       "      <th>TO34</th>\n",
       "      <th>...</th>\n",
       "      <th>TB246</th>\n",
       "      <th>TB252</th>\n",
       "      <th>TB265</th>\n",
       "      <th>TB297</th>\n",
       "      <th>TB296</th>\n",
       "      <th>TO414_y</th>\n",
       "      <th>TO415_y</th>\n",
       "      <th>TO416_y</th>\n",
       "      <th>TO417_y</th>\n",
       "      <th>TO418_y</th>\n",
       "    </tr>\n",
       "  </thead>\n",
       "  <tbody>\n",
       "    <tr>\n",
       "      <th>0</th>\n",
       "      <td>941</td>\n",
       "      <td>551</td>\n",
       "      <td>48588</td>\n",
       "      <td>69378</td>\n",
       "      <td>390</td>\n",
       "      <td>20790</td>\n",
       "      <td>163</td>\n",
       "      <td>57</td>\n",
       "      <td>478</td>\n",
       "      <td>218</td>\n",
       "      <td>...</td>\n",
       "      <td>53</td>\n",
       "      <td>22</td>\n",
       "      <td>41</td>\n",
       "      <td>1</td>\n",
       "      <td>10</td>\n",
       "      <td>NaN</td>\n",
       "      <td>NaN</td>\n",
       "      <td>NaN</td>\n",
       "      <td>NaN</td>\n",
       "      <td>NaN</td>\n",
       "    </tr>\n",
       "    <tr>\n",
       "      <th>1</th>\n",
       "      <td>950</td>\n",
       "      <td>405</td>\n",
       "      <td>34072</td>\n",
       "      <td>92170</td>\n",
       "      <td>545</td>\n",
       "      <td>58098</td>\n",
       "      <td>358</td>\n",
       "      <td>87</td>\n",
       "      <td>747</td>\n",
       "      <td>269</td>\n",
       "      <td>...</td>\n",
       "      <td>0</td>\n",
       "      <td>0</td>\n",
       "      <td>100</td>\n",
       "      <td>3</td>\n",
       "      <td>34</td>\n",
       "      <td>NaN</td>\n",
       "      <td>NaN</td>\n",
       "      <td>NaN</td>\n",
       "      <td>NaN</td>\n",
       "      <td>NaN</td>\n",
       "    </tr>\n",
       "  </tbody>\n",
       "</table>\n",
       "<p>2 rows × 888 columns</p>\n",
       "</div>"
      ],
      "text/plain": [
       "   TO9  TO10   TO52   TO51  TO17   TO54  TO27  TO28  TO29  TO34   ...     \\\n",
       "0  941   551  48588  69378   390  20790   163    57   478   218   ...      \n",
       "1  950   405  34072  92170   545  58098   358    87   747   269   ...      \n",
       "\n",
       "   TB246  TB252  TB265  TB297  TB296  TO414_y  TO415_y  TO416_y  TO417_y  \\\n",
       "0     53     22     41      1     10      NaN      NaN      NaN      NaN   \n",
       "1      0      0    100      3     34      NaN      NaN      NaN      NaN   \n",
       "\n",
       "   TO418_y  \n",
       "0      NaN  \n",
       "1      NaN  \n",
       "\n",
       "[2 rows x 888 columns]"
      ]
     },
     "execution_count": 249,
     "metadata": {},
     "output_type": "execute_result"
    }
   ],
   "source": [
    "LGBM_test_final.head(2)"
   ]
  },
  {
   "cell_type": "code",
   "execution_count": 250,
   "metadata": {
    "collapsed": true
   },
   "outputs": [],
   "source": [
    "LGBM_test_final.replace(np.inf, np.nan, inplace=True)\n",
    "LGBM_test_final.replace(-99998,np.nan, inplace=True)\n",
    "LGBM_test_final.replace(-99999976,np.nan, inplace=True)\n",
    "LGBM_test_final.replace(-9999979,np.nan, inplace=True)\n",
    "LGBM_test_final.replace(-9999976,np.nan, inplace=True)\n",
    "LGBM_test_final.replace(-999973,np.nan, inplace=True)\n",
    "LGBM_test_final.replace(-999976,np.nan, inplace=True)\n",
    "LGBM_test_final.replace(9999,np.nan, inplace=True)\n",
    "LGBM_test_final = LGBM_test_final.replace('01. 坏',0)\n",
    "LGBM_test_final = LGBM_test_final.replace('05. 好',1)"
   ]
  },
  {
   "cell_type": "code",
   "execution_count": 253,
   "metadata": {
    "collapsed": true
   },
   "outputs": [],
   "source": [
    "LGBM_test_prob = pd.DataFrame(model.predict_proba(LGBM_test_final[varlist])[:,1], columns = ['LGBMprob'])\n",
    "# LGBM_test_prob['ytrue'] = LGBM_test['perf'].values"
   ]
  },
  {
   "cell_type": "code",
   "execution_count": 255,
   "metadata": {
    "collapsed": true
   },
   "outputs": [],
   "source": [
    "LGBM_test_prob['ugid']='0'"
   ]
  },
  {
   "cell_type": "code",
   "execution_count": 256,
   "metadata": {
    "collapsed": true
   },
   "outputs": [],
   "source": [
    "stacking_test = LDA_test"
   ]
  },
  {
   "cell_type": "code",
   "execution_count": 258,
   "metadata": {},
   "outputs": [
    {
     "name": "stderr",
     "output_type": "stream",
     "text": [
      "/opt/anaconda3/lib/python3.6/site-packages/ipykernel_launcher.py:1: SettingWithCopyWarning: \n",
      "A value is trying to be set on a copy of a slice from a DataFrame.\n",
      "Try using .loc[row_indexer,col_indexer] = value instead\n",
      "\n",
      "See the caveats in the documentation: http://pandas.pydata.org/pandas-docs/stable/indexing.html#indexing-view-versus-copy\n",
      "  \"\"\"Entry point for launching an IPython kernel.\n"
     ]
    }
   ],
   "source": [
    "stacking_test['LGBMprob'] = 0.0\n",
    "for i in range(len(stacking_test)):\n",
    "    stacking_test.iat[i,57] = LGBM_test_prob.iat[i,0]"
   ]
  },
  {
   "cell_type": "code",
   "execution_count": 262,
   "metadata": {},
   "outputs": [
    {
     "name": "stderr",
     "output_type": "stream",
     "text": [
      "/opt/anaconda3/lib/python3.6/site-packages/ipykernel_launcher.py:1: SettingWithCopyWarning: \n",
      "A value is trying to be set on a copy of a slice from a DataFrame.\n",
      "Try using .loc[row_indexer,col_indexer] = value instead\n",
      "\n",
      "See the caveats in the documentation: http://pandas.pydata.org/pandas-docs/stable/indexing.html#indexing-view-versus-copy\n",
      "  \"\"\"Entry point for launching an IPython kernel.\n"
     ]
    }
   ],
   "source": [
    "stacking_test['fasttextprob'] = 0.0"
   ]
  },
  {
   "cell_type": "code",
   "execution_count": 263,
   "metadata": {
    "collapsed": true
   },
   "outputs": [],
   "source": [
    "fasttext_test_p = pd.read_table('data/prob_stacking_test.txt',sep=' ',names=name)\n",
    "fasttext_test_p.replace('__label__0',0, inplace=True)\n",
    "fasttext_test_p.replace('__label__1',1, inplace=True)\n",
    "for i in range(len(fasttext_test_p)):\n",
    "    if fasttext_test_p.iat[i,0]==0:\n",
    "        fasttext_test_p.iat[i,1] = 1-fasttext_test_p.iat[i,1]"
   ]
  },
  {
   "cell_type": "code",
   "execution_count": 265,
   "metadata": {},
   "outputs": [
    {
     "data": {
      "text/html": [
       "<div>\n",
       "<style>\n",
       "    .dataframe thead tr:only-child th {\n",
       "        text-align: right;\n",
       "    }\n",
       "\n",
       "    .dataframe thead th {\n",
       "        text-align: left;\n",
       "    }\n",
       "\n",
       "    .dataframe tbody tr th {\n",
       "        vertical-align: top;\n",
       "    }\n",
       "</style>\n",
       "<table border=\"1\" class=\"dataframe\">\n",
       "  <thead>\n",
       "    <tr style=\"text-align: right;\">\n",
       "      <th></th>\n",
       "      <th>label</th>\n",
       "      <th>prob</th>\n",
       "    </tr>\n",
       "  </thead>\n",
       "  <tbody>\n",
       "    <tr>\n",
       "      <th>0</th>\n",
       "      <td>1</td>\n",
       "      <td>0.581150</td>\n",
       "    </tr>\n",
       "    <tr>\n",
       "      <th>1</th>\n",
       "      <td>1</td>\n",
       "      <td>0.535918</td>\n",
       "    </tr>\n",
       "  </tbody>\n",
       "</table>\n",
       "</div>"
      ],
      "text/plain": [
       "   label      prob\n",
       "0      1  0.581150\n",
       "1      1  0.535918"
      ]
     },
     "execution_count": 265,
     "metadata": {},
     "output_type": "execute_result"
    }
   ],
   "source": [
    "fasttext_test_p.head(2)"
   ]
  },
  {
   "cell_type": "code",
   "execution_count": 266,
   "metadata": {},
   "outputs": [
    {
     "data": {
      "text/plain": [
       "4218"
      ]
     },
     "execution_count": 266,
     "metadata": {},
     "output_type": "execute_result"
    }
   ],
   "source": [
    "len(fasttext_test_p)"
   ]
  },
  {
   "cell_type": "code",
   "execution_count": 267,
   "metadata": {
    "collapsed": true
   },
   "outputs": [],
   "source": [
    "for i in range(len(stacking_test)):\n",
    "    stacking_test.iat[i,58] = fasttext_test_p.iat[i,1]"
   ]
  },
  {
   "cell_type": "code",
   "execution_count": 269,
   "metadata": {},
   "outputs": [
    {
     "data": {
      "text/html": [
       "<div>\n",
       "<style>\n",
       "    .dataframe thead tr:only-child th {\n",
       "        text-align: right;\n",
       "    }\n",
       "\n",
       "    .dataframe thead th {\n",
       "        text-align: left;\n",
       "    }\n",
       "\n",
       "    .dataframe tbody tr th {\n",
       "        vertical-align: top;\n",
       "    }\n",
       "</style>\n",
       "<table border=\"1\" class=\"dataframe\">\n",
       "  <thead>\n",
       "    <tr style=\"text-align: right;\">\n",
       "      <th></th>\n",
       "      <th>ugid</th>\n",
       "      <th>perf</th>\n",
       "      <th>t_01</th>\n",
       "      <th>t_02</th>\n",
       "      <th>t_03</th>\n",
       "      <th>t_04</th>\n",
       "      <th>t_05</th>\n",
       "      <th>t_06</th>\n",
       "      <th>t_07</th>\n",
       "      <th>t_08</th>\n",
       "      <th>...</th>\n",
       "      <th>t_48</th>\n",
       "      <th>t_49</th>\n",
       "      <th>t_50</th>\n",
       "      <th>t_51</th>\n",
       "      <th>t_52</th>\n",
       "      <th>t_53</th>\n",
       "      <th>t_54</th>\n",
       "      <th>t_55</th>\n",
       "      <th>LGBMprob</th>\n",
       "      <th>fasttextprob</th>\n",
       "    </tr>\n",
       "  </thead>\n",
       "  <tbody>\n",
       "    <tr>\n",
       "      <th>0</th>\n",
       "      <td>927AC671-32D7-410F-B02D-58F559F06D47</td>\n",
       "      <td>1</td>\n",
       "      <td>0.0</td>\n",
       "      <td>0.000000</td>\n",
       "      <td>0.061334</td>\n",
       "      <td>0.0</td>\n",
       "      <td>0.0</td>\n",
       "      <td>0.0</td>\n",
       "      <td>0.0</td>\n",
       "      <td>0.010595</td>\n",
       "      <td>...</td>\n",
       "      <td>0.051326</td>\n",
       "      <td>0.000000</td>\n",
       "      <td>0.015801</td>\n",
       "      <td>0.0</td>\n",
       "      <td>0.0</td>\n",
       "      <td>0.0</td>\n",
       "      <td>0.0</td>\n",
       "      <td>0.0</td>\n",
       "      <td>0.387674</td>\n",
       "      <td>0.581150</td>\n",
       "    </tr>\n",
       "    <tr>\n",
       "      <th>1</th>\n",
       "      <td>6CF977D7-94B3-48B3-8519-3FEB55C4679E</td>\n",
       "      <td>1</td>\n",
       "      <td>0.0</td>\n",
       "      <td>0.015329</td>\n",
       "      <td>0.000000</td>\n",
       "      <td>0.0</td>\n",
       "      <td>0.0</td>\n",
       "      <td>0.0</td>\n",
       "      <td>0.0</td>\n",
       "      <td>0.026255</td>\n",
       "      <td>...</td>\n",
       "      <td>0.000000</td>\n",
       "      <td>0.016084</td>\n",
       "      <td>0.018555</td>\n",
       "      <td>0.0</td>\n",
       "      <td>0.0</td>\n",
       "      <td>0.0</td>\n",
       "      <td>0.0</td>\n",
       "      <td>0.0</td>\n",
       "      <td>0.346658</td>\n",
       "      <td>0.535918</td>\n",
       "    </tr>\n",
       "  </tbody>\n",
       "</table>\n",
       "<p>2 rows × 59 columns</p>\n",
       "</div>"
      ],
      "text/plain": [
       "                                   ugid  perf  t_01      t_02      t_03  t_04  \\\n",
       "0  927AC671-32D7-410F-B02D-58F559F06D47     1   0.0  0.000000  0.061334   0.0   \n",
       "1  6CF977D7-94B3-48B3-8519-3FEB55C4679E     1   0.0  0.015329  0.000000   0.0   \n",
       "\n",
       "   t_05  t_06  t_07      t_08      ...           t_48      t_49      t_50  \\\n",
       "0   0.0   0.0   0.0  0.010595      ...       0.051326  0.000000  0.015801   \n",
       "1   0.0   0.0   0.0  0.026255      ...       0.000000  0.016084  0.018555   \n",
       "\n",
       "   t_51  t_52  t_53  t_54  t_55  LGBMprob  fasttextprob  \n",
       "0   0.0   0.0   0.0   0.0   0.0  0.387674      0.581150  \n",
       "1   0.0   0.0   0.0   0.0   0.0  0.346658      0.535918  \n",
       "\n",
       "[2 rows x 59 columns]"
      ]
     },
     "execution_count": 269,
     "metadata": {},
     "output_type": "execute_result"
    }
   ],
   "source": [
    "stacking_test.head(2)"
   ]
  },
  {
   "cell_type": "markdown",
   "metadata": {},
   "source": [
    "# yanzhengji"
   ]
  },
  {
   "cell_type": "code",
   "execution_count": 270,
   "metadata": {
    "collapsed": true
   },
   "outputs": [],
   "source": [
    "pre_all = pd.read_csv('data/pre_all_lda.csv')"
   ]
  },
  {
   "cell_type": "code",
   "execution_count": 284,
   "metadata": {
    "collapsed": true
   },
   "outputs": [],
   "source": [
    "# LDA_pre = pre_all[LDA_list]\n",
    "pre_all.rename(columns={'target':'perf'},inplace=True)"
   ]
  },
  {
   "cell_type": "code",
   "execution_count": 285,
   "metadata": {
    "collapsed": true
   },
   "outputs": [],
   "source": [
    "LDA_pre = pre_all[LDA_list]"
   ]
  },
  {
   "cell_type": "code",
   "execution_count": 302,
   "metadata": {},
   "outputs": [
    {
     "data": {
      "text/html": [
       "<div>\n",
       "<style>\n",
       "    .dataframe thead tr:only-child th {\n",
       "        text-align: right;\n",
       "    }\n",
       "\n",
       "    .dataframe thead th {\n",
       "        text-align: left;\n",
       "    }\n",
       "\n",
       "    .dataframe tbody tr th {\n",
       "        vertical-align: top;\n",
       "    }\n",
       "</style>\n",
       "<table border=\"1\" class=\"dataframe\">\n",
       "  <thead>\n",
       "    <tr style=\"text-align: right;\">\n",
       "      <th></th>\n",
       "      <th>ugid</th>\n",
       "      <th>perf</th>\n",
       "      <th>t_01</th>\n",
       "      <th>t_02</th>\n",
       "      <th>t_03</th>\n",
       "      <th>t_04</th>\n",
       "      <th>t_05</th>\n",
       "      <th>t_06</th>\n",
       "      <th>t_07</th>\n",
       "      <th>t_08</th>\n",
       "      <th>...</th>\n",
       "      <th>t_46</th>\n",
       "      <th>t_47</th>\n",
       "      <th>t_48</th>\n",
       "      <th>t_49</th>\n",
       "      <th>t_50</th>\n",
       "      <th>t_51</th>\n",
       "      <th>t_52</th>\n",
       "      <th>t_53</th>\n",
       "      <th>t_54</th>\n",
       "      <th>t_55</th>\n",
       "    </tr>\n",
       "  </thead>\n",
       "  <tbody>\n",
       "    <tr>\n",
       "      <th>0</th>\n",
       "      <td>0002630E-3398-488A-9E38-7BCE4EE63CFD</td>\n",
       "      <td>1</td>\n",
       "      <td>0.016735</td>\n",
       "      <td>0.000000</td>\n",
       "      <td>0.0</td>\n",
       "      <td>0.000000</td>\n",
       "      <td>0.0</td>\n",
       "      <td>0.0</td>\n",
       "      <td>0.0</td>\n",
       "      <td>0.000000</td>\n",
       "      <td>...</td>\n",
       "      <td>0.050075</td>\n",
       "      <td>0.0</td>\n",
       "      <td>0.0</td>\n",
       "      <td>0.124379</td>\n",
       "      <td>0.031253</td>\n",
       "      <td>0.0</td>\n",
       "      <td>0.0</td>\n",
       "      <td>0.0</td>\n",
       "      <td>0.052202</td>\n",
       "      <td>0.0</td>\n",
       "    </tr>\n",
       "    <tr>\n",
       "      <th>1</th>\n",
       "      <td>000266B7-5EF4-4A21-94DD-7C60851C032C</td>\n",
       "      <td>1</td>\n",
       "      <td>0.000000</td>\n",
       "      <td>0.108373</td>\n",
       "      <td>0.0</td>\n",
       "      <td>0.019228</td>\n",
       "      <td>0.0</td>\n",
       "      <td>0.0</td>\n",
       "      <td>0.0</td>\n",
       "      <td>0.023378</td>\n",
       "      <td>...</td>\n",
       "      <td>0.000000</td>\n",
       "      <td>0.0</td>\n",
       "      <td>0.0</td>\n",
       "      <td>0.034451</td>\n",
       "      <td>0.000000</td>\n",
       "      <td>0.0</td>\n",
       "      <td>0.0</td>\n",
       "      <td>0.0</td>\n",
       "      <td>0.163911</td>\n",
       "      <td>0.0</td>\n",
       "    </tr>\n",
       "  </tbody>\n",
       "</table>\n",
       "<p>2 rows × 57 columns</p>\n",
       "</div>"
      ],
      "text/plain": [
       "                                   ugid  perf      t_01      t_02  t_03  \\\n",
       "0  0002630E-3398-488A-9E38-7BCE4EE63CFD     1  0.016735  0.000000   0.0   \n",
       "1  000266B7-5EF4-4A21-94DD-7C60851C032C     1  0.000000  0.108373   0.0   \n",
       "\n",
       "       t_04  t_05  t_06  t_07      t_08  ...       t_46  t_47  t_48      t_49  \\\n",
       "0  0.000000   0.0   0.0   0.0  0.000000  ...   0.050075   0.0   0.0  0.124379   \n",
       "1  0.019228   0.0   0.0   0.0  0.023378  ...   0.000000   0.0   0.0  0.034451   \n",
       "\n",
       "       t_50  t_51  t_52  t_53      t_54  t_55  \n",
       "0  0.031253   0.0   0.0   0.0  0.052202   0.0  \n",
       "1  0.000000   0.0   0.0   0.0  0.163911   0.0  \n",
       "\n",
       "[2 rows x 57 columns]"
      ]
     },
     "execution_count": 302,
     "metadata": {},
     "output_type": "execute_result"
    }
   ],
   "source": [
    "LDA_pre.head(2)"
   ]
  },
  {
   "cell_type": "code",
   "execution_count": 309,
   "metadata": {
    "collapsed": true
   },
   "outputs": [],
   "source": [
    "d_list_1 = [ 't_01','t_02','t_03','t_04','t_05','t_06','t_07','t_08','t_09','t_10','t_11','t_12','t_13','t_14','t_15','t_16','t_17','t_18','t_19',\n",
    " 't_20','t_21','t_22','t_23','t_24','t_25','t_26','t_27','t_28','t_29','t_30','t_31','t_32','t_33','t_34','t_35','t_36','t_37','t_38','t_39',\n",
    " 't_40','t_41','t_42','t_43','t_44','t_45','t_46','t_47','t_48','t_49','t_50','t_51','t_52','t_53','t_54','t_55','perf','token_id_x',\n",
    "          'token_id_y','token_id']\n",
    "LGBM_pre_final = pre_all.drop(d_list_1,axis=1)"
   ]
  },
  {
   "cell_type": "code",
   "execution_count": 310,
   "metadata": {},
   "outputs": [
    {
     "data": {
      "text/html": [
       "<div>\n",
       "<style>\n",
       "    .dataframe thead tr:only-child th {\n",
       "        text-align: right;\n",
       "    }\n",
       "\n",
       "    .dataframe thead th {\n",
       "        text-align: left;\n",
       "    }\n",
       "\n",
       "    .dataframe tbody tr th {\n",
       "        vertical-align: top;\n",
       "    }\n",
       "</style>\n",
       "<table border=\"1\" class=\"dataframe\">\n",
       "  <thead>\n",
       "    <tr style=\"text-align: right;\">\n",
       "      <th></th>\n",
       "      <th>ugid</th>\n",
       "      <th>TB1</th>\n",
       "      <th>TB5</th>\n",
       "      <th>TB9</th>\n",
       "      <th>TB3</th>\n",
       "      <th>TB7</th>\n",
       "      <th>TB11</th>\n",
       "      <th>TB2</th>\n",
       "      <th>TB6</th>\n",
       "      <th>TB10</th>\n",
       "      <th>...</th>\n",
       "      <th>TO209</th>\n",
       "      <th>TO212</th>\n",
       "      <th>TO201</th>\n",
       "      <th>TO214</th>\n",
       "      <th>TO205</th>\n",
       "      <th>TO218</th>\n",
       "      <th>TO208</th>\n",
       "      <th>TO221</th>\n",
       "      <th>TO198</th>\n",
       "      <th>TO211</th>\n",
       "    </tr>\n",
       "  </thead>\n",
       "  <tbody>\n",
       "    <tr>\n",
       "      <th>0</th>\n",
       "      <td>0002630E-3398-488A-9E38-7BCE4EE63CFD</td>\n",
       "      <td>282</td>\n",
       "      <td>210</td>\n",
       "      <td>142</td>\n",
       "      <td>0</td>\n",
       "      <td>0</td>\n",
       "      <td>0</td>\n",
       "      <td>76</td>\n",
       "      <td>38.0</td>\n",
       "      <td>25.0</td>\n",
       "      <td>...</td>\n",
       "      <td>4</td>\n",
       "      <td>4</td>\n",
       "      <td>82</td>\n",
       "      <td>82</td>\n",
       "      <td>64</td>\n",
       "      <td>68</td>\n",
       "      <td>55</td>\n",
       "      <td>54</td>\n",
       "      <td>44</td>\n",
       "      <td>46</td>\n",
       "    </tr>\n",
       "    <tr>\n",
       "      <th>1</th>\n",
       "      <td>000266B7-5EF4-4A21-94DD-7C60851C032C</td>\n",
       "      <td>1870</td>\n",
       "      <td>1320</td>\n",
       "      <td>700</td>\n",
       "      <td>0</td>\n",
       "      <td>0</td>\n",
       "      <td>0</td>\n",
       "      <td>180</td>\n",
       "      <td>317.0</td>\n",
       "      <td>517.0</td>\n",
       "      <td>...</td>\n",
       "      <td>27</td>\n",
       "      <td>19</td>\n",
       "      <td>82</td>\n",
       "      <td>90</td>\n",
       "      <td>68</td>\n",
       "      <td>79</td>\n",
       "      <td>52</td>\n",
       "      <td>70</td>\n",
       "      <td>46</td>\n",
       "      <td>66</td>\n",
       "    </tr>\n",
       "  </tbody>\n",
       "</table>\n",
       "<p>2 rows × 893 columns</p>\n",
       "</div>"
      ],
      "text/plain": [
       "                                   ugid   TB1   TB5  TB9  TB3  TB7  TB11  TB2  \\\n",
       "0  0002630E-3398-488A-9E38-7BCE4EE63CFD   282   210  142    0    0     0   76   \n",
       "1  000266B7-5EF4-4A21-94DD-7C60851C032C  1870  1320  700    0    0     0  180   \n",
       "\n",
       "     TB6   TB10  ...    TO209  TO212  TO201  TO214  TO205  TO218  TO208  \\\n",
       "0   38.0   25.0  ...        4      4     82     82     64     68     55   \n",
       "1  317.0  517.0  ...       27     19     82     90     68     79     52   \n",
       "\n",
       "   TO221  TO198  TO211  \n",
       "0     54     44     46  \n",
       "1     70     46     66  \n",
       "\n",
       "[2 rows x 893 columns]"
      ]
     },
     "execution_count": 310,
     "metadata": {},
     "output_type": "execute_result"
    }
   ],
   "source": [
    "LGBM_pre_final.head(2)"
   ]
  },
  {
   "cell_type": "code",
   "execution_count": 312,
   "metadata": {
    "collapsed": true
   },
   "outputs": [],
   "source": [
    "LGBM_pre_final.replace(np.inf, np.nan, inplace=True)\n",
    "LGBM_pre_final.replace(-99998,np.nan, inplace=True)\n",
    "LGBM_pre_final.replace(-99999976,np.nan, inplace=True)\n",
    "LGBM_pre_final.replace(-9999979,np.nan, inplace=True)\n",
    "LGBM_pre_final.replace(-9999976,np.nan, inplace=True)\n",
    "LGBM_pre_final.replace(-999973,np.nan, inplace=True)\n",
    "LGBM_pre_final.replace(-999976,np.nan, inplace=True)\n",
    "LGBM_pre_final.replace(9999,np.nan, inplace=True)\n",
    "LGBM_pre_final = LGBM_pre_final.replace('01. 坏',0)\n",
    "LGBM_pre_final = LGBM_pre_final.replace('05. 好',1)"
   ]
  },
  {
   "cell_type": "code",
   "execution_count": 313,
   "metadata": {
    "collapsed": true
   },
   "outputs": [],
   "source": [
    "LGBM_pre_prob = pd.DataFrame(LGBM_model.predict_proba(LGBM_pre_final[varlist])[:,1], columns = ['LGBMprob'])"
   ]
  },
  {
   "cell_type": "code",
   "execution_count": 315,
   "metadata": {
    "collapsed": true
   },
   "outputs": [],
   "source": [
    "# LGBM_pre_prob"
   ]
  },
  {
   "cell_type": "code",
   "execution_count": 316,
   "metadata": {
    "collapsed": true
   },
   "outputs": [],
   "source": [
    "stacking_pre = LDA_pre"
   ]
  },
  {
   "cell_type": "code",
   "execution_count": 317,
   "metadata": {},
   "outputs": [
    {
     "data": {
      "text/plain": [
       "57"
      ]
     },
     "execution_count": 317,
     "metadata": {},
     "output_type": "execute_result"
    }
   ],
   "source": [
    "len(stacking_pre.columns)"
   ]
  },
  {
   "cell_type": "code",
   "execution_count": 319,
   "metadata": {},
   "outputs": [
    {
     "name": "stderr",
     "output_type": "stream",
     "text": [
      "/opt/anaconda3/lib/python3.6/site-packages/ipykernel_launcher.py:1: SettingWithCopyWarning: \n",
      "A value is trying to be set on a copy of a slice from a DataFrame.\n",
      "Try using .loc[row_indexer,col_indexer] = value instead\n",
      "\n",
      "See the caveats in the documentation: http://pandas.pydata.org/pandas-docs/stable/indexing.html#indexing-view-versus-copy\n",
      "  \"\"\"Entry point for launching an IPython kernel.\n"
     ]
    }
   ],
   "source": [
    "stacking_pre['LGBMprob']=0.0\n",
    "for i in range(len(stacking_pre)):\n",
    "    stacking_pre.iat[i,57] = LGBM_pre_prob.iat[i,0]"
   ]
  },
  {
   "cell_type": "code",
   "execution_count": 320,
   "metadata": {},
   "outputs": [
    {
     "data": {
      "text/html": [
       "<div>\n",
       "<style>\n",
       "    .dataframe thead tr:only-child th {\n",
       "        text-align: right;\n",
       "    }\n",
       "\n",
       "    .dataframe thead th {\n",
       "        text-align: left;\n",
       "    }\n",
       "\n",
       "    .dataframe tbody tr th {\n",
       "        vertical-align: top;\n",
       "    }\n",
       "</style>\n",
       "<table border=\"1\" class=\"dataframe\">\n",
       "  <thead>\n",
       "    <tr style=\"text-align: right;\">\n",
       "      <th></th>\n",
       "      <th>ugid</th>\n",
       "      <th>perf</th>\n",
       "      <th>t_01</th>\n",
       "      <th>t_02</th>\n",
       "      <th>t_03</th>\n",
       "      <th>t_04</th>\n",
       "      <th>t_05</th>\n",
       "      <th>t_06</th>\n",
       "      <th>t_07</th>\n",
       "      <th>t_08</th>\n",
       "      <th>...</th>\n",
       "      <th>t_47</th>\n",
       "      <th>t_48</th>\n",
       "      <th>t_49</th>\n",
       "      <th>t_50</th>\n",
       "      <th>t_51</th>\n",
       "      <th>t_52</th>\n",
       "      <th>t_53</th>\n",
       "      <th>t_54</th>\n",
       "      <th>t_55</th>\n",
       "      <th>LGBMprob</th>\n",
       "    </tr>\n",
       "  </thead>\n",
       "  <tbody>\n",
       "    <tr>\n",
       "      <th>0</th>\n",
       "      <td>0002630E-3398-488A-9E38-7BCE4EE63CFD</td>\n",
       "      <td>1</td>\n",
       "      <td>0.016735</td>\n",
       "      <td>0.000000</td>\n",
       "      <td>0.0</td>\n",
       "      <td>0.000000</td>\n",
       "      <td>0.0</td>\n",
       "      <td>0.0</td>\n",
       "      <td>0.0</td>\n",
       "      <td>0.000000</td>\n",
       "      <td>...</td>\n",
       "      <td>0.0</td>\n",
       "      <td>0.0</td>\n",
       "      <td>0.124379</td>\n",
       "      <td>0.031253</td>\n",
       "      <td>0.0</td>\n",
       "      <td>0.0</td>\n",
       "      <td>0.0</td>\n",
       "      <td>0.052202</td>\n",
       "      <td>0.0</td>\n",
       "      <td>0.641823</td>\n",
       "    </tr>\n",
       "    <tr>\n",
       "      <th>1</th>\n",
       "      <td>000266B7-5EF4-4A21-94DD-7C60851C032C</td>\n",
       "      <td>1</td>\n",
       "      <td>0.000000</td>\n",
       "      <td>0.108373</td>\n",
       "      <td>0.0</td>\n",
       "      <td>0.019228</td>\n",
       "      <td>0.0</td>\n",
       "      <td>0.0</td>\n",
       "      <td>0.0</td>\n",
       "      <td>0.023378</td>\n",
       "      <td>...</td>\n",
       "      <td>0.0</td>\n",
       "      <td>0.0</td>\n",
       "      <td>0.034451</td>\n",
       "      <td>0.000000</td>\n",
       "      <td>0.0</td>\n",
       "      <td>0.0</td>\n",
       "      <td>0.0</td>\n",
       "      <td>0.163911</td>\n",
       "      <td>0.0</td>\n",
       "      <td>0.742942</td>\n",
       "    </tr>\n",
       "  </tbody>\n",
       "</table>\n",
       "<p>2 rows × 58 columns</p>\n",
       "</div>"
      ],
      "text/plain": [
       "                                   ugid  perf      t_01      t_02  t_03  \\\n",
       "0  0002630E-3398-488A-9E38-7BCE4EE63CFD     1  0.016735  0.000000   0.0   \n",
       "1  000266B7-5EF4-4A21-94DD-7C60851C032C     1  0.000000  0.108373   0.0   \n",
       "\n",
       "       t_04  t_05  t_06  t_07      t_08    ...     t_47  t_48      t_49  \\\n",
       "0  0.000000   0.0   0.0   0.0  0.000000    ...      0.0   0.0  0.124379   \n",
       "1  0.019228   0.0   0.0   0.0  0.023378    ...      0.0   0.0  0.034451   \n",
       "\n",
       "       t_50  t_51  t_52  t_53      t_54  t_55  LGBMprob  \n",
       "0  0.031253   0.0   0.0   0.0  0.052202   0.0  0.641823  \n",
       "1  0.000000   0.0   0.0   0.0  0.163911   0.0  0.742942  \n",
       "\n",
       "[2 rows x 58 columns]"
      ]
     },
     "execution_count": 320,
     "metadata": {},
     "output_type": "execute_result"
    }
   ],
   "source": [
    "stacking_pre.head(2)"
   ]
  },
  {
   "cell_type": "code",
   "execution_count": 287,
   "metadata": {
    "collapsed": true
   },
   "outputs": [],
   "source": [
    "fasttext_pre_p = pd.read_table('data/prob_stacking_pre.txt',sep=' ',names=name)\n",
    "fasttext_pre_p.replace('__label__0',0, inplace=True)\n",
    "fasttext_pre_p.replace('__label__1',1, inplace=True)\n",
    "for i in range(len(fasttext_pre_p)):\n",
    "    if fasttext_pre_p.iat[i,0]==0:\n",
    "        fasttext_pre_p.iat[i,1] = 1-fasttext_pre_p.iat[i,1]"
   ]
  },
  {
   "cell_type": "code",
   "execution_count": 289,
   "metadata": {},
   "outputs": [
    {
     "data": {
      "text/plain": [
       "22007"
      ]
     },
     "execution_count": 289,
     "metadata": {},
     "output_type": "execute_result"
    }
   ],
   "source": [
    "len(fasttext_pre_p)"
   ]
  },
  {
   "cell_type": "code",
   "execution_count": 290,
   "metadata": {},
   "outputs": [
    {
     "data": {
      "text/plain": [
       "21965"
      ]
     },
     "execution_count": 290,
     "metadata": {},
     "output_type": "execute_result"
    }
   ],
   "source": [
    "len(LDA_pre)"
   ]
  },
  {
   "cell_type": "code",
   "execution_count": 295,
   "metadata": {
    "collapsed": true
   },
   "outputs": [],
   "source": [
    "fasttext_tmp = pd.read_csv('data/all_pre_tb.csv')"
   ]
  },
  {
   "cell_type": "code",
   "execution_count": 296,
   "metadata": {},
   "outputs": [
    {
     "data": {
      "text/plain": [
       "22007"
      ]
     },
     "execution_count": 296,
     "metadata": {},
     "output_type": "execute_result"
    }
   ],
   "source": [
    "len(fasttext_tmp)"
   ]
  },
  {
   "cell_type": "code",
   "execution_count": 297,
   "metadata": {
    "collapsed": true
   },
   "outputs": [],
   "source": [
    "fasttext_pre_p['ugid']='0'"
   ]
  },
  {
   "cell_type": "code",
   "execution_count": 300,
   "metadata": {
    "collapsed": true
   },
   "outputs": [],
   "source": [
    "for i in range(len(fasttext_pre_p)):\n",
    "    fasttext_pre_p.iat[i,2]=fasttext_tmp.iat[i,0]"
   ]
  },
  {
   "cell_type": "code",
   "execution_count": 303,
   "metadata": {
    "collapsed": true
   },
   "outputs": [],
   "source": [
    "fasttext_pre_p.rename(columns={'prob':'fasttextprob'},inplace=True)"
   ]
  },
  {
   "cell_type": "code",
   "execution_count": 305,
   "metadata": {
    "collapsed": true
   },
   "outputs": [],
   "source": [
    "del fasttext_pre_p['label']"
   ]
  },
  {
   "cell_type": "code",
   "execution_count": 322,
   "metadata": {
    "collapsed": true
   },
   "outputs": [],
   "source": [
    "stacking_pre = pd.merge(stacking_pre,fasttext_pre_p,how='left',on=['ugid'])"
   ]
  },
  {
   "cell_type": "code",
   "execution_count": 324,
   "metadata": {},
   "outputs": [
    {
     "data": {
      "text/html": [
       "<div>\n",
       "<style>\n",
       "    .dataframe thead tr:only-child th {\n",
       "        text-align: right;\n",
       "    }\n",
       "\n",
       "    .dataframe thead th {\n",
       "        text-align: left;\n",
       "    }\n",
       "\n",
       "    .dataframe tbody tr th {\n",
       "        vertical-align: top;\n",
       "    }\n",
       "</style>\n",
       "<table border=\"1\" class=\"dataframe\">\n",
       "  <thead>\n",
       "    <tr style=\"text-align: right;\">\n",
       "      <th></th>\n",
       "      <th>ugid</th>\n",
       "      <th>perf</th>\n",
       "      <th>t_01</th>\n",
       "      <th>t_02</th>\n",
       "      <th>t_03</th>\n",
       "      <th>t_04</th>\n",
       "      <th>t_05</th>\n",
       "      <th>t_06</th>\n",
       "      <th>t_07</th>\n",
       "      <th>t_08</th>\n",
       "      <th>...</th>\n",
       "      <th>t_48</th>\n",
       "      <th>t_49</th>\n",
       "      <th>t_50</th>\n",
       "      <th>t_51</th>\n",
       "      <th>t_52</th>\n",
       "      <th>t_53</th>\n",
       "      <th>t_54</th>\n",
       "      <th>t_55</th>\n",
       "      <th>LGBMprob</th>\n",
       "      <th>fasttextprob</th>\n",
       "    </tr>\n",
       "  </thead>\n",
       "  <tbody>\n",
       "    <tr>\n",
       "      <th>0</th>\n",
       "      <td>0002630E-3398-488A-9E38-7BCE4EE63CFD</td>\n",
       "      <td>1</td>\n",
       "      <td>0.016735</td>\n",
       "      <td>0.000000</td>\n",
       "      <td>0.0</td>\n",
       "      <td>0.000000</td>\n",
       "      <td>0.0</td>\n",
       "      <td>0.0</td>\n",
       "      <td>0.0</td>\n",
       "      <td>0.000000</td>\n",
       "      <td>...</td>\n",
       "      <td>0.0</td>\n",
       "      <td>0.124379</td>\n",
       "      <td>0.031253</td>\n",
       "      <td>0.0</td>\n",
       "      <td>0.0</td>\n",
       "      <td>0.0</td>\n",
       "      <td>0.052202</td>\n",
       "      <td>0.0</td>\n",
       "      <td>0.641823</td>\n",
       "      <td>0.813885</td>\n",
       "    </tr>\n",
       "    <tr>\n",
       "      <th>1</th>\n",
       "      <td>000266B7-5EF4-4A21-94DD-7C60851C032C</td>\n",
       "      <td>1</td>\n",
       "      <td>0.000000</td>\n",
       "      <td>0.108373</td>\n",
       "      <td>0.0</td>\n",
       "      <td>0.019228</td>\n",
       "      <td>0.0</td>\n",
       "      <td>0.0</td>\n",
       "      <td>0.0</td>\n",
       "      <td>0.023378</td>\n",
       "      <td>...</td>\n",
       "      <td>0.0</td>\n",
       "      <td>0.034451</td>\n",
       "      <td>0.000000</td>\n",
       "      <td>0.0</td>\n",
       "      <td>0.0</td>\n",
       "      <td>0.0</td>\n",
       "      <td>0.163911</td>\n",
       "      <td>0.0</td>\n",
       "      <td>0.742942</td>\n",
       "      <td>0.520379</td>\n",
       "    </tr>\n",
       "  </tbody>\n",
       "</table>\n",
       "<p>2 rows × 59 columns</p>\n",
       "</div>"
      ],
      "text/plain": [
       "                                   ugid  perf      t_01      t_02  t_03  \\\n",
       "0  0002630E-3398-488A-9E38-7BCE4EE63CFD     1  0.016735  0.000000   0.0   \n",
       "1  000266B7-5EF4-4A21-94DD-7C60851C032C     1  0.000000  0.108373   0.0   \n",
       "\n",
       "       t_04  t_05  t_06  t_07      t_08      ...       t_48      t_49  \\\n",
       "0  0.000000   0.0   0.0   0.0  0.000000      ...        0.0  0.124379   \n",
       "1  0.019228   0.0   0.0   0.0  0.023378      ...        0.0  0.034451   \n",
       "\n",
       "       t_50  t_51  t_52  t_53      t_54  t_55  LGBMprob  fasttextprob  \n",
       "0  0.031253   0.0   0.0   0.0  0.052202   0.0  0.641823      0.813885  \n",
       "1  0.000000   0.0   0.0   0.0  0.163911   0.0  0.742942      0.520379  \n",
       "\n",
       "[2 rows x 59 columns]"
      ]
     },
     "execution_count": 324,
     "metadata": {},
     "output_type": "execute_result"
    }
   ],
   "source": [
    "stacking_pre.head(2)"
   ]
  },
  {
   "cell_type": "markdown",
   "metadata": {},
   "source": [
    "# stacking"
   ]
  },
  {
   "cell_type": "code",
   "execution_count": 473,
   "metadata": {},
   "outputs": [
    {
     "data": {
      "text/html": [
       "<div>\n",
       "<style>\n",
       "    .dataframe thead tr:only-child th {\n",
       "        text-align: right;\n",
       "    }\n",
       "\n",
       "    .dataframe thead th {\n",
       "        text-align: left;\n",
       "    }\n",
       "\n",
       "    .dataframe tbody tr th {\n",
       "        vertical-align: top;\n",
       "    }\n",
       "</style>\n",
       "<table border=\"1\" class=\"dataframe\">\n",
       "  <thead>\n",
       "    <tr style=\"text-align: right;\">\n",
       "      <th></th>\n",
       "      <th>perf</th>\n",
       "      <th>fasttextprob</th>\n",
       "      <th>LGBMprob</th>\n",
       "      <th>t_01</th>\n",
       "      <th>t_02</th>\n",
       "      <th>t_03</th>\n",
       "      <th>t_04</th>\n",
       "      <th>t_05</th>\n",
       "      <th>t_06</th>\n",
       "      <th>t_07</th>\n",
       "      <th>...</th>\n",
       "      <th>t_46</th>\n",
       "      <th>t_47</th>\n",
       "      <th>t_48</th>\n",
       "      <th>t_49</th>\n",
       "      <th>t_50</th>\n",
       "      <th>t_51</th>\n",
       "      <th>t_52</th>\n",
       "      <th>t_53</th>\n",
       "      <th>t_54</th>\n",
       "      <th>t_55</th>\n",
       "    </tr>\n",
       "  </thead>\n",
       "  <tbody>\n",
       "    <tr>\n",
       "      <th>0</th>\n",
       "      <td>1</td>\n",
       "      <td>0.557485</td>\n",
       "      <td>0.570982</td>\n",
       "      <td>0.0</td>\n",
       "      <td>0.016449</td>\n",
       "      <td>0.013396</td>\n",
       "      <td>0.0</td>\n",
       "      <td>0.0</td>\n",
       "      <td>0.0</td>\n",
       "      <td>0.0</td>\n",
       "      <td>...</td>\n",
       "      <td>0.000000</td>\n",
       "      <td>0.000000</td>\n",
       "      <td>0.12843</td>\n",
       "      <td>0.067970</td>\n",
       "      <td>0.197278</td>\n",
       "      <td>0.0</td>\n",
       "      <td>0.000000</td>\n",
       "      <td>0.0</td>\n",
       "      <td>0.033082</td>\n",
       "      <td>0.0</td>\n",
       "    </tr>\n",
       "    <tr>\n",
       "      <th>1</th>\n",
       "      <td>1</td>\n",
       "      <td>0.680937</td>\n",
       "      <td>0.713520</td>\n",
       "      <td>0.0</td>\n",
       "      <td>0.020694</td>\n",
       "      <td>0.000000</td>\n",
       "      <td>0.0</td>\n",
       "      <td>0.0</td>\n",
       "      <td>0.0</td>\n",
       "      <td>0.0</td>\n",
       "      <td>...</td>\n",
       "      <td>0.042431</td>\n",
       "      <td>0.025291</td>\n",
       "      <td>0.00000</td>\n",
       "      <td>0.021013</td>\n",
       "      <td>0.000000</td>\n",
       "      <td>0.0</td>\n",
       "      <td>0.025704</td>\n",
       "      <td>0.0</td>\n",
       "      <td>0.015074</td>\n",
       "      <td>0.0</td>\n",
       "    </tr>\n",
       "  </tbody>\n",
       "</table>\n",
       "<p>2 rows × 58 columns</p>\n",
       "</div>"
      ],
      "text/plain": [
       "   perf  fasttextprob  LGBMprob  t_01      t_02      t_03  t_04  t_05  t_06  \\\n",
       "0     1      0.557485  0.570982   0.0  0.016449  0.013396   0.0   0.0   0.0   \n",
       "1     1      0.680937  0.713520   0.0  0.020694  0.000000   0.0   0.0   0.0   \n",
       "\n",
       "   t_07  ...       t_46      t_47     t_48      t_49      t_50  t_51  \\\n",
       "0   0.0  ...   0.000000  0.000000  0.12843  0.067970  0.197278   0.0   \n",
       "1   0.0  ...   0.042431  0.025291  0.00000  0.021013  0.000000   0.0   \n",
       "\n",
       "       t_52  t_53      t_54  t_55  \n",
       "0  0.000000   0.0  0.033082   0.0  \n",
       "1  0.025704   0.0  0.015074   0.0  \n",
       "\n",
       "[2 rows x 58 columns]"
      ]
     },
     "execution_count": 473,
     "metadata": {},
     "output_type": "execute_result"
    }
   ],
   "source": [
    "all_feature_train.head(2)"
   ]
  },
  {
   "cell_type": "code",
   "execution_count": 423,
   "metadata": {
    "collapsed": true
   },
   "outputs": [],
   "source": [
    "# feature_list[0]\n",
    "train_feature_list = [[0.0 for i in range(len(all_feature_train.columns)-1)] for j in range(len(all_feature_train))]\n",
    "for i in range(len(train_feature_list)):\n",
    "    train_feature_list[i][56] = all_feature_train.iat[i,1]\n",
    "    for j in range(len(train_feature_list[0])):\n",
    "        \n",
    "        if j==55:\n",
    "            train_feature_list[i][j]=all_feature_train.iat[i,2]\n",
    "        elif j==56:\n",
    "            pass\n",
    "#             train_feature_list[i][j]=a\n",
    "        else:\n",
    "            train_feature_list[i][j]=all_feature_train.iat[i,j+3]\n",
    "            \n",
    "train_perf_list = [0.0 for i in range(len(all_feature_train))]\n",
    "for i in range(len(perf_list)):\n",
    "    train_perf_list[i]=all_feature_train.iat[i,0]\n",
    "\n",
    "train_feature_list = np.array(train_feature_list)\n",
    "train_perf_list = np.array(train_perf_list)\n"
   ]
  },
  {
   "cell_type": "code",
   "execution_count": 489,
   "metadata": {
    "collapsed": true
   },
   "outputs": [],
   "source": [
    "# all_feature_train"
   ]
  },
  {
   "cell_type": "code",
   "execution_count": 424,
   "metadata": {},
   "outputs": [
    {
     "data": {
      "text/plain": [
       "array([[0.        , 0.01644889, 0.013396  , ..., 0.        , 0.57098211,\n",
       "        0.557485  ],\n",
       "       [0.        , 0.0206943 , 0.        , ..., 0.        , 0.71352023,\n",
       "        0.680937  ],\n",
       "       [0.        , 0.        , 0.        , ..., 0.        , 0.49289007,\n",
       "        0.577731  ],\n",
       "       ...,\n",
       "       [0.        , 0.        , 0.        , ..., 0.        , 0.80289517,\n",
       "        0.958458  ],\n",
       "       [0.        , 0.01020074, 0.01576707, ..., 0.27298394, 0.56169792,\n",
       "        0.408105  ],\n",
       "       [0.        , 0.        , 0.        , ..., 0.21212959, 0.84054936,\n",
       "        0.793897  ]])"
      ]
     },
     "execution_count": 424,
     "metadata": {},
     "output_type": "execute_result"
    }
   ],
   "source": [
    "train_feature_list"
   ]
  },
  {
   "cell_type": "code",
   "execution_count": 425,
   "metadata": {
    "collapsed": true
   },
   "outputs": [],
   "source": [
    "LR_model = LR_classifier.fit(train_feature_list,train_perf_list)\n",
    "train_p_lr =  LR_model.predict_proba(train_feature_list)"
   ]
  },
  {
   "cell_type": "code",
   "execution_count": 426,
   "metadata": {
    "collapsed": true
   },
   "outputs": [],
   "source": [
    "train_prob_lr = []\n",
    "for i in range(len(train_p_lr)):\n",
    "    train_p_lr = list(train_p_lr)\n",
    "    train_prob_lr.append(train_p_lr[i][1])"
   ]
  },
  {
   "cell_type": "code",
   "execution_count": 381,
   "metadata": {
    "collapsed": true
   },
   "outputs": [],
   "source": [
    "test_feature_list = [[0.0 for i in range(len(stacking_test.columns)-2)] for j in range(len(stacking_test))]\n",
    "for i in range(len(test_feature_list)):\n",
    "    for j in range(len(test_feature_list[0])):\n",
    "#         if j>=55:\n",
    "#             train_feature_list[i][j]=all_feature_train.iat[i,j-54]\n",
    "#         else:\n",
    "        test_feature_list[i][j]=stacking_test.iat[i,j+2]\n",
    "            \n",
    "test_perf_list = [0.0 for i in range(len(stacking_test))]\n",
    "for i in range(len(stacking_test)):\n",
    "    test_perf_list[i]=stacking_test.iat[i,1]\n",
    "\n",
    "test_feature_list = np.array(test_feature_list)\n",
    "test_perf_list = np.array(test_perf_list)\n",
    "# test_p_lr =  LR_model.predict_proba(test_feature_list)"
   ]
  },
  {
   "cell_type": "code",
   "execution_count": 442,
   "metadata": {
    "collapsed": true
   },
   "outputs": [],
   "source": []
  },
  {
   "cell_type": "code",
   "execution_count": 382,
   "metadata": {},
   "outputs": [
    {
     "data": {
      "text/plain": [
       "57"
      ]
     },
     "execution_count": 382,
     "metadata": {},
     "output_type": "execute_result"
    }
   ],
   "source": [
    "len(test_feature_list[0])"
   ]
  },
  {
   "cell_type": "code",
   "execution_count": 427,
   "metadata": {},
   "outputs": [
    {
     "data": {
      "text/plain": [
       "array([[0.        , 0.        , 0.0613337 , ..., 0.        , 0.3876737 ,\n",
       "        0.58115   ],\n",
       "       [0.        , 0.01532902, 0.        , ..., 0.        , 0.34665785,\n",
       "        0.535918  ],\n",
       "       [0.        , 0.        , 0.        , ..., 0.        , 0.6767622 ,\n",
       "        0.521575  ],\n",
       "       ...,\n",
       "       [0.        , 0.        , 0.05521894, ..., 0.        , 0.49567562,\n",
       "        0.563919  ],\n",
       "       [0.        , 0.03252479, 0.        , ..., 0.        , 0.54655994,\n",
       "        0.405772  ],\n",
       "       [0.        , 0.        , 0.        , ..., 0.        , 0.44136123,\n",
       "        0.464549  ]])"
      ]
     },
     "execution_count": 427,
     "metadata": {},
     "output_type": "execute_result"
    }
   ],
   "source": [
    "test_feature_list"
   ]
  },
  {
   "cell_type": "code",
   "execution_count": 400,
   "metadata": {},
   "outputs": [
    {
     "data": {
      "text/html": [
       "<div>\n",
       "<style>\n",
       "    .dataframe thead tr:only-child th {\n",
       "        text-align: right;\n",
       "    }\n",
       "\n",
       "    .dataframe thead th {\n",
       "        text-align: left;\n",
       "    }\n",
       "\n",
       "    .dataframe tbody tr th {\n",
       "        vertical-align: top;\n",
       "    }\n",
       "</style>\n",
       "<table border=\"1\" class=\"dataframe\">\n",
       "  <thead>\n",
       "    <tr style=\"text-align: right;\">\n",
       "      <th></th>\n",
       "      <th>ugid</th>\n",
       "      <th>perf</th>\n",
       "      <th>t_01</th>\n",
       "      <th>t_02</th>\n",
       "      <th>t_03</th>\n",
       "      <th>t_04</th>\n",
       "      <th>t_05</th>\n",
       "      <th>t_06</th>\n",
       "      <th>t_07</th>\n",
       "      <th>t_08</th>\n",
       "      <th>...</th>\n",
       "      <th>t_48</th>\n",
       "      <th>t_49</th>\n",
       "      <th>t_50</th>\n",
       "      <th>t_51</th>\n",
       "      <th>t_52</th>\n",
       "      <th>t_53</th>\n",
       "      <th>t_54</th>\n",
       "      <th>t_55</th>\n",
       "      <th>LGBMprob</th>\n",
       "      <th>fasttextprob</th>\n",
       "    </tr>\n",
       "  </thead>\n",
       "  <tbody>\n",
       "    <tr>\n",
       "      <th>0</th>\n",
       "      <td>927AC671-32D7-410F-B02D-58F559F06D47</td>\n",
       "      <td>1</td>\n",
       "      <td>0.0</td>\n",
       "      <td>0.0</td>\n",
       "      <td>0.061334</td>\n",
       "      <td>0.0</td>\n",
       "      <td>0.0</td>\n",
       "      <td>0.0</td>\n",
       "      <td>0.0</td>\n",
       "      <td>0.010595</td>\n",
       "      <td>...</td>\n",
       "      <td>0.051326</td>\n",
       "      <td>0.0</td>\n",
       "      <td>0.015801</td>\n",
       "      <td>0.0</td>\n",
       "      <td>0.0</td>\n",
       "      <td>0.0</td>\n",
       "      <td>0.0</td>\n",
       "      <td>0.0</td>\n",
       "      <td>0.387674</td>\n",
       "      <td>0.58115</td>\n",
       "    </tr>\n",
       "  </tbody>\n",
       "</table>\n",
       "<p>1 rows × 59 columns</p>\n",
       "</div>"
      ],
      "text/plain": [
       "                                   ugid  perf  t_01  t_02      t_03  t_04  \\\n",
       "0  927AC671-32D7-410F-B02D-58F559F06D47     1   0.0   0.0  0.061334   0.0   \n",
       "\n",
       "   t_05  t_06  t_07      t_08      ...           t_48  t_49      t_50  t_51  \\\n",
       "0   0.0   0.0   0.0  0.010595      ...       0.051326   0.0  0.015801   0.0   \n",
       "\n",
       "   t_52  t_53  t_54  t_55  LGBMprob  fasttextprob  \n",
       "0   0.0   0.0   0.0   0.0  0.387674       0.58115  \n",
       "\n",
       "[1 rows x 59 columns]"
      ]
     },
     "execution_count": 400,
     "metadata": {},
     "output_type": "execute_result"
    }
   ],
   "source": [
    "stacking_test.head(1)"
   ]
  },
  {
   "cell_type": "code",
   "execution_count": 446,
   "metadata": {
    "collapsed": true
   },
   "outputs": [],
   "source": [
    "test_prob_lr = []\n",
    "for i in range(len(test_p_lr)):\n",
    "    test_p_lr = list(test_p_lr)\n",
    "    test_prob_lr.append(test_p_lr[i][1])"
   ]
  },
  {
   "cell_type": "code",
   "execution_count": 385,
   "metadata": {
    "collapsed": true
   },
   "outputs": [],
   "source": [
    "pre_feature_list = [[0.0 for i in range(len(stacking_pre.columns)-2)] for j in range(len(stacking_pre))]\n",
    "for i in range(len(pre_feature_list)):\n",
    "    for j in range(len(pre_feature_list[0])):\n",
    "#         if j>=55:\n",
    "#             train_feature_list[i][j]=all_feature_train.iat[i,j-54]\n",
    "#         else:\n",
    "        pre_feature_list[i][j]=stacking_pre.iat[i,j+2]\n",
    "            \n",
    "pre_perf_list = [0.0 for i in range(len(stacking_pre))]\n",
    "for i in range(len(stacking_pre)):\n",
    "    pre_perf_list[i]=stacking_pre.iat[i,1]\n",
    "\n",
    "pre_feature_list = np.array(pre_feature_list)\n",
    "pre_perf_list = np.array(pre_perf_list)\n",
    "# pre_p_lr =  LR_model.predict_proba(pre_feature_list)"
   ]
  },
  {
   "cell_type": "code",
   "execution_count": 444,
   "metadata": {
    "collapsed": true
   },
   "outputs": [],
   "source": []
  },
  {
   "cell_type": "code",
   "execution_count": 445,
   "metadata": {
    "collapsed": true
   },
   "outputs": [],
   "source": [
    "pre_prob_lr = []\n",
    "for i in range(len(pre_p_lr)):\n",
    "    pre_p_lr = list(pre_p_lr)\n",
    "    pre_prob_lr.append(pre_p_lr[i][1])"
   ]
  },
  {
   "cell_type": "code",
   "execution_count": 387,
   "metadata": {
    "collapsed": true
   },
   "outputs": [],
   "source": [
    "from project_demo.tools.evaluate import *"
   ]
  },
  {
   "cell_type": "code",
   "execution_count": 448,
   "metadata": {
    "collapsed": true
   },
   "outputs": [],
   "source": [
    "train_prob_lr = np.array(train_prob_lr)\n",
    "test_prob_lr = np.array(test_prob_lr)\n",
    "pre_prob_lr = np.array(pre_prob_lr)"
   ]
  },
  {
   "cell_type": "code",
   "execution_count": 389,
   "metadata": {},
   "outputs": [
    {
     "name": "stdout",
     "output_type": "stream",
     "text": [
      "110000\n",
      "4218\n",
      "21965\n"
     ]
    }
   ],
   "source": [
    "print(len(train_prob_lr))\n",
    "print(len(test_prob_lr))\n",
    "print(len(pre_prob_lr))"
   ]
  },
  {
   "cell_type": "code",
   "execution_count": 433,
   "metadata": {},
   "outputs": [
    {
     "data": {
      "text/plain": [
       "0.3311677356108103"
      ]
     },
     "execution_count": 433,
     "metadata": {},
     "output_type": "execute_result"
    }
   ],
   "source": [
    "cal_ks_scipy(train_prob_lr,train_perf_list)"
   ]
  },
  {
   "cell_type": "code",
   "execution_count": 449,
   "metadata": {},
   "outputs": [
    {
     "data": {
      "text/plain": [
       "0.3085082445276498"
      ]
     },
     "execution_count": 449,
     "metadata": {},
     "output_type": "execute_result"
    }
   ],
   "source": [
    "cal_ks_scipy(test_prob_lr,test_perf_list)"
   ]
  },
  {
   "cell_type": "code",
   "execution_count": 450,
   "metadata": {},
   "outputs": [
    {
     "data": {
      "text/plain": [
       "0.3184402894615438"
      ]
     },
     "execution_count": 450,
     "metadata": {},
     "output_type": "execute_result"
    }
   ],
   "source": [
    "cal_ks_scipy(pre_prob_lr,pre_perf_list)"
   ]
  },
  {
   "cell_type": "code",
   "execution_count": 355,
   "metadata": {
    "collapsed": true
   },
   "outputs": [],
   "source": [
    "LGBM_model_out = LGBMClassifier(boosting_type='gbdt', colsample_bytree=0.82622520164901361,\n",
    "        drop_rate=0.5, is_unbalance=True,\n",
    "        learning_rate=0.025, max_bin=4, max_depth=3,\n",
    "        max_drop=50, min_child_samples=120, min_child_weight=3,\n",
    "        min_split_gain=0.028, n_estimators=705, nthread=-1,\n",
    "        num_leaves=128, objective='binary', reg_alpha=30, reg_lambda=150,\n",
    "        scale_pos_weight=1, seed=27, sigmoid=1.0, silent=True,\n",
    "        skip_drop=0.5, subsample=0.7, subsample_for_bin=30000,\n",
    "        subsample_freq=3, uniform_drop=False, xgboost_dart_mode=False)"
   ]
  },
  {
   "cell_type": "code",
   "execution_count": 393,
   "metadata": {
    "collapsed": true
   },
   "outputs": [],
   "source": [
    "LGBM_model = LGBM_model_out.fit(train_feature_list,train_perf_list)\n",
    "train_p_lr =  LGBM_model.predict_proba(train_feature_list)\n",
    "test_p_lr =  LGBM_model.predict_proba(test_feature_list)\n",
    "pre_p_lr =  LGBM_model.predict_proba(pre_feature_list)"
   ]
  },
  {
   "cell_type": "code",
   "execution_count": 406,
   "metadata": {
    "collapsed": true
   },
   "outputs": [],
   "source": [
    "train_prob_lr = []\n",
    "for i in range(len(train_p_lr)):\n",
    "    train_p_lr = list(train_p_lr)\n",
    "    train_prob_lr.append(train_p_lr[i][1])\n",
    "test_prob_lr = []\n",
    "for i in range(len(test_p_lr)):\n",
    "    test_p_lr = list(test_p_lr)\n",
    "    test_prob_lr.append(test_p_lr[i][1])\n",
    "pre_prob_lr = []\n",
    "for i in range(len(pre_p_lr)):\n",
    "    pre_p_lr = list(pre_p_lr)\n",
    "    pre_prob_lr.append(pre_p_lr[i][1])"
   ]
  },
  {
   "cell_type": "code",
   "execution_count": 407,
   "metadata": {
    "collapsed": true
   },
   "outputs": [],
   "source": [
    "train_prob_lr = np.array(train_prob_lr)\n",
    "test_prob_lr = np.array(test_prob_lr)\n",
    "pre_prob_lr = np.array(pre_prob_lr)"
   ]
  },
  {
   "cell_type": "code",
   "execution_count": 401,
   "metadata": {
    "collapsed": true
   },
   "outputs": [],
   "source": [
    "from sklearn.ensemble import AdaBoostClassifier"
   ]
  },
  {
   "cell_type": "code",
   "execution_count": 479,
   "metadata": {
    "collapsed": true
   },
   "outputs": [],
   "source": [
    "clf = AdaBoostClassifier(\n",
    "#     LGBM_model_out,algorithm=\"SAMME\", \n",
    "                         n_estimators=100,learning_rate=0.8)"
   ]
  },
  {
   "cell_type": "code",
   "execution_count": 405,
   "metadata": {
    "collapsed": true
   },
   "outputs": [],
   "source": []
  },
  {
   "cell_type": "code",
   "execution_count": 438,
   "metadata": {
    "collapsed": true
   },
   "outputs": [],
   "source": [
    "train_feature_1 = train_feature_list[:,-2:len(train_feature_list[0]+1)]"
   ]
  },
  {
   "cell_type": "code",
   "execution_count": 474,
   "metadata": {},
   "outputs": [
    {
     "data": {
      "text/plain": [
       "array([[0.57098211, 0.557485  ],\n",
       "       [0.71352023, 0.680937  ],\n",
       "       [0.49289007, 0.577731  ],\n",
       "       ...,\n",
       "       [0.80289517, 0.958458  ],\n",
       "       [0.56169792, 0.408105  ],\n",
       "       [0.84054936, 0.793897  ]])"
      ]
     },
     "execution_count": 474,
     "metadata": {},
     "output_type": "execute_result"
    }
   ],
   "source": [
    "train_feature_1"
   ]
  },
  {
   "cell_type": "code",
   "execution_count": 439,
   "metadata": {},
   "outputs": [
    {
     "data": {
      "text/plain": [
       "array([[0.3876737 , 0.58115   ],\n",
       "       [0.34665785, 0.535918  ],\n",
       "       [0.6767622 , 0.521575  ],\n",
       "       ...,\n",
       "       [0.49567562, 0.563919  ],\n",
       "       [0.54655994, 0.405772  ],\n",
       "       [0.44136123, 0.464549  ]])"
      ]
     },
     "execution_count": 439,
     "metadata": {},
     "output_type": "execute_result"
    }
   ],
   "source": [
    "test_featrue_1 = test_feature_list[:,-2:len(test_feature_list[0]+1)]\n",
    "test_featrue_1"
   ]
  },
  {
   "cell_type": "code",
   "execution_count": 440,
   "metadata": {},
   "outputs": [
    {
     "data": {
      "text/plain": [
       "array([[0.64182289, 0.813885  ],\n",
       "       [0.74294153, 0.520379  ],\n",
       "       [0.64043813, 0.500048  ],\n",
       "       ...,\n",
       "       [0.20059281, 0.111104  ],\n",
       "       [0.63668573, 0.714329  ],\n",
       "       [0.21752431, 0.606806  ]])"
      ]
     },
     "execution_count": 440,
     "metadata": {},
     "output_type": "execute_result"
    }
   ],
   "source": [
    "pre_featrue_1 = pre_feature_list[:,-2:len(pre_feature_list[0]+1)]\n",
    "test_featrue_1"
   ]
  },
  {
   "cell_type": "code",
   "execution_count": 441,
   "metadata": {
    "collapsed": true
   },
   "outputs": [],
   "source": [
    "LR_model = LR_classifier.fit(train_feature_1,train_perf_list)\n",
    "train_p_lr =  LR_model.predict_proba(train_feature_1)\n",
    "test_p_lr =  LR_model.predict_proba(test_featrue_1)\n",
    "pre_p_lr =  LR_model.predict_proba(pre_featrue_1)"
   ]
  },
  {
   "cell_type": "code",
   "execution_count": 480,
   "metadata": {
    "collapsed": true
   },
   "outputs": [],
   "source": [
    "# ada_model = clf.fit(train_feature_1,train_perf_list)\n",
    "# train_p_lr =  ada_model.predict_proba(train_feature_1)\n",
    "# test_p_lr =  ada_model.predict_proba(test_featrue_1)\n",
    "# pre_p_lr =  ada_model.predict_proba(pre_featrue_1)"
   ]
  },
  {
   "cell_type": "code",
   "execution_count": 490,
   "metadata": {
    "collapsed": true
   },
   "outputs": [],
   "source": [
    "# train_p_lr"
   ]
  },
  {
   "cell_type": "code",
   "execution_count": 491,
   "metadata": {
    "collapsed": true
   },
   "outputs": [],
   "source": [
    "# test_p_lr"
   ]
  },
  {
   "cell_type": "code",
   "execution_count": 492,
   "metadata": {
    "collapsed": true
   },
   "outputs": [],
   "source": [
    "# pre_p_lr"
   ]
  },
  {
   "cell_type": "code",
   "execution_count": 493,
   "metadata": {
    "collapsed": true
   },
   "outputs": [],
   "source": [
    "train_prob_lr = []\n",
    "for i in range(len(train_p_lr)):\n",
    "    train_p_lr = list(train_p_lr)\n",
    "    train_prob_lr.append(train_p_lr[i][1])\n",
    "test_prob_lr = []\n",
    "for i in range(len(test_p_lr)):\n",
    "    test_p_lr = list(test_p_lr)\n",
    "    test_prob_lr.append(test_p_lr[i][1])\n",
    "pre_prob_lr = []\n",
    "for i in range(len(pre_p_lr)):\n",
    "    pre_p_lr = list(pre_p_lr)\n",
    "    pre_prob_lr.append(pre_p_lr[i][1])"
   ]
  },
  {
   "cell_type": "code",
   "execution_count": 494,
   "metadata": {
    "collapsed": true
   },
   "outputs": [],
   "source": [
    "train_prob_lr = np.array(train_prob_lr)\n",
    "test_prob_lr = np.array(test_prob_lr)\n",
    "pre_prob_lr = np.array(pre_prob_lr)"
   ]
  },
  {
   "cell_type": "code",
   "execution_count": 495,
   "metadata": {
    "collapsed": true
   },
   "outputs": [],
   "source": [
    "cal_ks_scipy(train_prob_lr,train_perf_list)"
   ]
  },
  {
   "cell_type": "code",
   "execution_count": 496,
   "metadata": {
    "collapsed": true
   },
   "outputs": [],
   "source": [
    "cal_ks_scipy(test_prob_lr,test_perf_list)"
   ]
  },
  {
   "cell_type": "code",
   "execution_count": 497,
   "metadata": {
    "collapsed": true
   },
   "outputs": [],
   "source": [
    "cal_ks_scipy(pre_prob_lr,pre_perf_list)"
   ]
  },
  {
   "cell_type": "code",
   "execution_count": null,
   "metadata": {
    "collapsed": true
   },
   "outputs": [],
   "source": []
  }
 ],
 "metadata": {
  "kernelspec": {
   "display_name": "Python 3",
   "language": "python",
   "name": "python3"
  },
  "language_info": {
   "codemirror_mode": {
    "name": "ipython",
    "version": 3
   },
   "file_extension": ".py",
   "mimetype": "text/x-python",
   "name": "python",
   "nbconvert_exporter": "python",
   "pygments_lexer": "ipython3",
   "version": "3.6.1"
  }
 },
 "nbformat": 4,
 "nbformat_minor": 2
}
