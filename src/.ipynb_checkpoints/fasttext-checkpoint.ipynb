{
 "cells": [
  {
   "cell_type": "code",
   "execution_count": 3,
   "metadata": {
    "collapsed": true
   },
   "outputs": [],
   "source": [
    "import pandas as pd\n",
    "import codecs\n"
   ]
  },
  {
   "cell_type": "code",
   "execution_count": 160,
   "metadata": {
    "collapsed": true
   },
   "outputs": [],
   "source": [
    "import logging  \n",
    "import logging.config \n",
    "\n",
    "logging.basicConfig(level=logging.INFO)\n",
    "logger = logging.getLogger(\"fastText module\")\n",
    "formatter = logging.Formatter(\"%(asctime)s - %(name)s - %(levelname)s - %(message)s\")\n",
    "formatter1 = logging.Formatter(\"%(asctime)s - %(levelname)s - %(message)s\")\n",
    "logger.setLevel(logging.DEBUG)\n",
    "ch = logging.StreamHandler()\n",
    "ch.setLevel(logging.ERROR)\n",
    "logger.addHandler(ch)\n",
    "fh = logging.FileHandler(\"log/fasttext_log.txt\",encoding = 'utf-8')\n",
    "fh.setLevel(logging.INFO)\n",
    "logger.addHandler(fh)\n",
    "ch.setFormatter(formatter1)\n",
    "fh.setFormatter(formatter)"
   ]
  },
  {
   "cell_type": "code",
   "execution_count": 2,
   "metadata": {
    "collapsed": true
   },
   "outputs": [],
   "source": [
    "pd.set_option('max_colwidth',100000)"
   ]
  },
  {
   "cell_type": "code",
   "execution_count": 4,
   "metadata": {
    "collapsed": true
   },
   "outputs": [],
   "source": [
    "import fastText"
   ]
  },
  {
   "cell_type": "markdown",
   "metadata": {},
   "source": [
    "# 模型训练"
   ]
  },
  {
   "cell_type": "code",
   "execution_count": 363,
   "metadata": {
    "collapsed": true
   },
   "outputs": [],
   "source": [
    "classifier_4_1= fastText.train_supervised(\"data/train_4_1.txt\",lr = 0.1,epoch=10,wordNgrams=3,\n",
    "                                                 verbose=2,minCount=1,label=\"__label__\"\n",
    "                                                      ,pretrainedVectors='/data/fengkong/zh_300.vec'\n",
    "                                                     )"
   ]
  },
  {
   "cell_type": "code",
   "execution_count": 364,
   "metadata": {
    "collapsed": true
   },
   "outputs": [],
   "source": [
    "classifier_5_1= fastText.train_supervised(\"data/train_5_1.txt\",lr = 0.1,epoch=10,wordNgrams=3,\n",
    "                                                 verbose=2,minCount=1,label=\"__label__\"\n",
    "                                                      ,pretrainedVectors='/data/fengkong/zh_300.vec'\n",
    "                                                     )"
   ]
  },
  {
   "cell_type": "code",
   "execution_count": 365,
   "metadata": {
    "collapsed": true
   },
   "outputs": [],
   "source": [
    "classifier_6_1= fastText.train_supervised(\"data/train_6_1.txt\",lr = 0.1,epoch=10,wordNgrams=3,\n",
    "                                                 verbose=2,minCount=1,label=\"__label__\"\n",
    "                                                      ,pretrainedVectors='/data/fengkong/zh_300.vec'\n",
    "                                                     )"
   ]
  },
  {
   "cell_type": "code",
   "execution_count": 366,
   "metadata": {
    "collapsed": true
   },
   "outputs": [],
   "source": [
    "classifier_7_1= fastText.train_supervised(\"data/train_7_1.txt\",lr = 0.1,epoch=10,wordNgrams=3,\n",
    "                                                 verbose=2,minCount=1,label=\"__label__\"\n",
    "                                                      ,pretrainedVectors='/data/fengkong/zh_300.vec'\n",
    "                                                     )"
   ]
  },
  {
   "cell_type": "code",
   "execution_count": 367,
   "metadata": {
    "collapsed": true
   },
   "outputs": [],
   "source": [
    "classifier_8_1= fastText.train_supervised(\"data/train_8_1.txt\",lr = 0.1,epoch=10,wordNgrams=3,\n",
    "                                                 verbose=2,minCount=1,label=\"__label__\"\n",
    "                                                      ,pretrainedVectors='/data/fengkong/zh_300.vec'\n",
    "                                                     )"
   ]
  },
  {
   "cell_type": "code",
   "execution_count": 368,
   "metadata": {
    "collapsed": true
   },
   "outputs": [],
   "source": [
    "classifier_9_1= fastText.train_supervised(\"data/train_9_1.txt\",lr = 0.1,epoch=10,wordNgrams=3,\n",
    "                                                 verbose=2,minCount=1,label=\"__label__\"\n",
    "                                                      ,pretrainedVectors='/data/fengkong/zh_300.vec'\n",
    "                                                     )"
   ]
  },
  {
   "cell_type": "code",
   "execution_count": 596,
   "metadata": {
    "collapsed": true
   },
   "outputs": [],
   "source": [
    "classifier_9_1_7= fastText.train_supervised(\"data/train_9_1.txt\",lr = 0.1,epoch=7,wordNgrams=3,\n",
    "                                                 verbose=2,minCount=1,label=\"__label__\"\n",
    "                                                      ,pretrainedVectors='/data/fengkong/zh_300.vec'\n",
    "                                                     )"
   ]
  },
  {
   "cell_type": "code",
   "execution_count": 597,
   "metadata": {
    "collapsed": true
   },
   "outputs": [],
   "source": [
    "classifier_9_1_08= fastText.train_supervised(\"data/train_9_1.txt\",lr = 0.08,epoch=10,wordNgrams=3,\n",
    "                                                 verbose=2,minCount=1,label=\"__label__\"\n",
    "                                                      ,pretrainedVectors='/data/fengkong/zh_300.vec'\n",
    "                                                     )"
   ]
  },
  {
   "cell_type": "code",
   "execution_count": 743,
   "metadata": {
    "collapsed": true
   },
   "outputs": [],
   "source": [
    "classifier_main= fastText.train_supervised(\"../data/fasttext_model_data.txt\",lr = 0.1,epoch=10,wordNgrams=3,\n",
    "                                                 verbose=2,minCount=1,label=\"__label__\"\n",
    "                                                      ,pretrainedVectors='/data/fengkong/zh_300.vec'\n",
    "                                                     )"
   ]
  },
  {
   "cell_type": "code",
   "execution_count": 663,
   "metadata": {
    "collapsed": true
   },
   "outputs": [],
   "source": [
    "classifier_12_1_08.save_model('classifier_12_1_08.bin')"
   ]
  },
  {
   "cell_type": "code",
   "execution_count": 709,
   "metadata": {
    "collapsed": true
   },
   "outputs": [],
   "source": [
    "classifier_15_1_08.save_model('classifier_15_1_08.bin')"
   ]
  },
  {
   "cell_type": "code",
   "execution_count": 744,
   "metadata": {
    "collapsed": true
   },
   "outputs": [],
   "source": [
    "classifier_main.save_model('classifier_main.bin')"
   ]
  },
  {
   "cell_type": "code",
   "execution_count": 598,
   "metadata": {
    "collapsed": true
   },
   "outputs": [],
   "source": [
    "classifier_9_1_7.save_model('classifier_9_1_7.bin')"
   ]
  },
  {
   "cell_type": "code",
   "execution_count": 599,
   "metadata": {
    "collapsed": true
   },
   "outputs": [],
   "source": [
    "classifier_9_1_08.save_model('classifier_9_1_08.bin')"
   ]
  },
  {
   "cell_type": "code",
   "execution_count": 369,
   "metadata": {
    "collapsed": true
   },
   "outputs": [],
   "source": [
    "classifier_4_1.save_model('tb_model_4_1.bin')"
   ]
  },
  {
   "cell_type": "code",
   "execution_count": 370,
   "metadata": {
    "collapsed": true
   },
   "outputs": [],
   "source": [
    "classifier_5_1.save_model('tb_model_5_1.bin')"
   ]
  },
  {
   "cell_type": "code",
   "execution_count": 371,
   "metadata": {
    "collapsed": true
   },
   "outputs": [],
   "source": [
    "classifier_6_1.save_model('tb_model_6_1.bin')"
   ]
  },
  {
   "cell_type": "code",
   "execution_count": 372,
   "metadata": {
    "collapsed": true
   },
   "outputs": [],
   "source": [
    "classifier_7_1.save_model('tb_model_7_1.bin')"
   ]
  },
  {
   "cell_type": "code",
   "execution_count": 373,
   "metadata": {
    "collapsed": true
   },
   "outputs": [],
   "source": [
    "classifier_8_1.save_model('tb_model_8_1.bin')"
   ]
  },
  {
   "cell_type": "code",
   "execution_count": 374,
   "metadata": {
    "collapsed": true
   },
   "outputs": [],
   "source": [
    "classifier_9_1.save_model('tb_model_9_1.bin')"
   ]
  },
  {
   "cell_type": "code",
   "execution_count": 273,
   "metadata": {
    "collapsed": true
   },
   "outputs": [],
   "source": [
    "classifier_pre_train_14_7_3.save_model(\"tb_model_14_7_3.bin\")"
   ]
  },
  {
   "cell_type": "code",
   "execution_count": 7,
   "metadata": {
    "collapsed": true
   },
   "outputs": [],
   "source": [
    "result = classifier_no_pre_train_2_7.test(\"data/fasttext_train_final.txt\"\n",
    "#                          ,labels=\"__label__\"\n",
    "                        )"
   ]
  },
  {
   "cell_type": "code",
   "execution_count": 8,
   "metadata": {
    "collapsed": true
   },
   "outputs": [],
   "source": [
    "result_1 = classifier_no_pre_train_2_7.test(\"data/fasttext_test_final.txt\"\n",
    "#                          ,labels=\"__label__\"\n",
    "                        )"
   ]
  },
  {
   "cell_type": "code",
   "execution_count": 9,
   "metadata": {},
   "outputs": [
    {
     "data": {
      "text/plain": [
       "(113279, 0.6790225902417923, 0.6790225902417923)"
      ]
     },
     "execution_count": 9,
     "metadata": {},
     "output_type": "execute_result"
    }
   ],
   "source": [
    "result"
   ]
  },
  {
   "cell_type": "code",
   "execution_count": 10,
   "metadata": {},
   "outputs": [
    {
     "data": {
      "text/plain": [
       "(37760, 0.6290783898305085, 0.6290783898305085)"
      ]
     },
     "execution_count": 10,
     "metadata": {},
     "output_type": "execute_result"
    }
   ],
   "source": [
    "result_1"
   ]
  },
  {
   "cell_type": "markdown",
   "metadata": {},
   "source": [
    "# true_label"
   ]
  },
  {
   "cell_type": "code",
   "execution_count": 21,
   "metadata": {
    "collapsed": true
   },
   "outputs": [],
   "source": [
    "name = ['label','prob']"
   ]
  },
  {
   "cell_type": "code",
   "execution_count": 752,
   "metadata": {},
   "outputs": [
    {
     "name": "stdout",
     "output_type": "stream",
     "text": [
      "22007\n"
     ]
    }
   ],
   "source": [
    "count = 0\n",
    "pre_true_label = []\n",
    "with codecs.open('data/fasttext_pre_final.txt','r','utf8') as f:\n",
    "    for i in f:\n",
    "        try:\n",
    "            line = i.strip().split('\\t')\n",
    "            pre_true_label.append(line[1])\n",
    "            count+=1\n",
    "        except:\n",
    "            count+=1\n",
    "            print(count)\n",
    "#             print(count)"
   ]
  },
  {
   "cell_type": "code",
   "execution_count": 751,
   "metadata": {},
   "outputs": [
    {
     "data": {
      "text/plain": [
       "22006"
      ]
     },
     "execution_count": 751,
     "metadata": {},
     "output_type": "execute_result"
    }
   ],
   "source": [
    "count"
   ]
  },
  {
   "cell_type": "code",
   "execution_count": 753,
   "metadata": {},
   "outputs": [
    {
     "data": {
      "text/plain": [
       "22006"
      ]
     },
     "execution_count": 753,
     "metadata": {},
     "output_type": "execute_result"
    }
   ],
   "source": [
    "len(pre_true_label)"
   ]
  },
  {
   "cell_type": "code",
   "execution_count": 754,
   "metadata": {
    "collapsed": true
   },
   "outputs": [],
   "source": [
    "pre_true_label_1 = [1 if x =='__label__1' else x for x in pre_true_label]\n",
    "pre_true_label_1 = [0 if x =='__label__0' else x for x in pre_true_label_1]"
   ]
  },
  {
   "cell_type": "code",
   "execution_count": 755,
   "metadata": {
    "collapsed": true
   },
   "outputs": [],
   "source": [
    "for i in pre_true_label_1:\n",
    "    if i != 0 and i!=1:\n",
    "        print(False)"
   ]
  },
  {
   "cell_type": "code",
   "execution_count": 757,
   "metadata": {},
   "outputs": [
    {
     "data": {
      "text/plain": [
       "22006"
      ]
     },
     "execution_count": 757,
     "metadata": {},
     "output_type": "execute_result"
    }
   ],
   "source": [
    "len(pre_true_label_1)"
   ]
  },
  {
   "cell_type": "code",
   "execution_count": 710,
   "metadata": {},
   "outputs": [
    {
     "name": "stdout",
     "output_type": "stream",
     "text": [
      "\n",
      "!!!!!!!!!!!!!!!!!!!!!!!!!!!!!!!!!!!!!!!!!!!!!!!!!!!!!!!!!!!!!!!!!!!!!!!!!!!!!!!!!!!!!!!!!!!!!!!!!\n",
      "\t__label__1\n",
      "!!!!!!!!!!!!!!!!!!!!!!!!!!!!!!!!!!!!!!!!!!!!!!!!!!!!!!!!!!!!!!!!!!!!!!!!!!!!!!!!!!!!!!!!!!!!!!!!!\n"
     ]
    }
   ],
   "source": [
    "count=0\n",
    "train_true_label = []\n",
    "with codecs.open('data/train_12_1.txt','r','utf8') as f:\n",
    "    for i in f:\n",
    "        try:\n",
    "            line = i.strip().split('\\t')\n",
    "            train_true_label.append(line[1])\n",
    "            count+=1\n",
    "#             print(count)\n",
    "        except:\n",
    "            print(i+\"!!!!!!!!!!!!!!!!!!!!!!!!!!!!!!!!!!!!!!!!!!!!!!!!!!!!!!!!!!!!!!!!!!!!!!!!!!!!!!!!!!!!!!!!!!!!!!!!!\")"
   ]
  },
  {
   "cell_type": "code",
   "execution_count": 711,
   "metadata": {
    "collapsed": true
   },
   "outputs": [],
   "source": [
    "# len(train_true_label)\n",
    "train_true_label_1 = [1 if x =='__label__1' else x for x in train_true_label]\n",
    "train_true_label_1 = [0 if x =='__label__0' else x for x in train_true_label_1]"
   ]
  },
  {
   "cell_type": "code",
   "execution_count": 712,
   "metadata": {},
   "outputs": [
    {
     "data": {
      "text/plain": [
       "141595"
      ]
     },
     "execution_count": 712,
     "metadata": {},
     "output_type": "execute_result"
    }
   ],
   "source": [
    "len(train_true_label_1)"
   ]
  },
  {
   "cell_type": "code",
   "execution_count": 713,
   "metadata": {
    "collapsed": true
   },
   "outputs": [],
   "source": [
    "for i in train_true_label_1:\n",
    "    if i != 0 and i!=1:\n",
    "        print(False)"
   ]
  },
  {
   "cell_type": "code",
   "execution_count": 714,
   "metadata": {},
   "outputs": [
    {
     "name": "stdout",
     "output_type": "stream",
     "text": [
      "\t__label__1\n",
      "!!!!!!!!!!!!!!!!!!!!!!!!!!!!!!!!!!!!!!!!!!!!!!!!!!!!!!!!!!!!!!!!!!!!!!!!!!!!!!!!!!!!!!!!!!!!!!!!!!!!!!!!!!!!!!!!!!!!!!!\n"
     ]
    }
   ],
   "source": [
    "test_true_label = []\n",
    "with codecs.open('data/test_12_1.txt','r','utf8') as f:\n",
    "    for i in f:\n",
    "        try:\n",
    "            line = i.strip().split('\\t')\n",
    "            test_true_label.append(line[1])\n",
    "        except:\n",
    "            print(i+\"!!!!!!!!!!!!!!!!!!!!!!!!!!!!!!!!!!!!!!!!!!!!!!!!!!!!!!!!!!!!!!!!!!!!!!!!!!!!!!!!!!!!!!!!!!!!!!!!!!!!!!!!!!!!!!!!!!!!!!!\")\n",
    "        "
   ]
  },
  {
   "cell_type": "code",
   "execution_count": 715,
   "metadata": {
    "collapsed": true
   },
   "outputs": [],
   "source": [
    "test_true_label_1 = [1 if x =='__label__1' else x for x in test_true_label]\n",
    "test_true_label_1 = [0 if x =='__label__0' else x for x in test_true_label_1]"
   ]
  },
  {
   "cell_type": "code",
   "execution_count": 716,
   "metadata": {},
   "outputs": [
    {
     "data": {
      "text/plain": [
       "9439"
      ]
     },
     "execution_count": 716,
     "metadata": {},
     "output_type": "execute_result"
    }
   ],
   "source": [
    "len(test_true_label_1)\n",
    "# for i in test_true_label_1:\n",
    "#     if i != 0 and i!=1:\n",
    "#         print(False)"
   ]
  },
  {
   "cell_type": "code",
   "execution_count": 717,
   "metadata": {
    "collapsed": true
   },
   "outputs": [],
   "source": [
    "for i in test_true_label_1:\n",
    "    if i != 0 and i!=1:\n",
    "        print(False)"
   ]
  },
  {
   "cell_type": "code",
   "execution_count": 48,
   "metadata": {
    "collapsed": true
   },
   "outputs": [],
   "source": [
    "from scipy.stats import ks_2samp\n",
    "def cal_ks_scipy(y_pred,y_true):\n",
    "    return ks_2samp(y_pred[y_true==1],y_pred[y_true!=1]).statistic"
   ]
  },
  {
   "cell_type": "code",
   "execution_count": 777,
   "metadata": {},
   "outputs": [
    {
     "name": "stdout",
     "output_type": "stream",
     "text": [
      "141597\n",
      "9440\n",
      "22007\n"
     ]
    }
   ],
   "source": [
    "train_p = pd.read_table('data/prob_train_15_1_08.txt',sep=' ',names=name)\n",
    "test_p = pd.read_table('data/prob_test_15_1_08.txt',sep=' ',names=name)\n",
    "pre_p = pd.read_table('data/prob_pre_final.txt',sep=' ',names=name)\n",
    "print(len(train_p))\n",
    "print(len(test_p))\n",
    "print(len(pre_p))"
   ]
  },
  {
   "cell_type": "code",
   "execution_count": 5,
   "metadata": {
    "collapsed": true
   },
   "outputs": [],
   "source": [
    "# test_p\n",
    "pre_all = pd.read_csv('../data/all_pre_tb.csv')"
   ]
  },
  {
   "cell_type": "code",
   "execution_count": 779,
   "metadata": {
    "collapsed": true
   },
   "outputs": [],
   "source": [
    "pre_all['prob']=0.0"
   ]
  },
  {
   "cell_type": "code",
   "execution_count": 6,
   "metadata": {},
   "outputs": [
    {
     "data": {
      "text/plain": [
       "22007"
      ]
     },
     "execution_count": 6,
     "metadata": {},
     "output_type": "execute_result"
    }
   ],
   "source": [
    "len(pre_all)"
   ]
  },
  {
   "cell_type": "code",
   "execution_count": 783,
   "metadata": {
    "collapsed": true
   },
   "outputs": [],
   "source": [
    "for i in range(len(pre_all)):\n",
    "    pre_all.iat[i,5]=pre_p.iat[i,1]"
   ]
  },
  {
   "cell_type": "code",
   "execution_count": 4,
   "metadata": {
    "collapsed": true
   },
   "outputs": [],
   "source": [
    "# pre_all\n",
    "pre_all_var = pd.read_csv('../data/pre_all_var.csv')"
   ]
  },
  {
   "cell_type": "code",
   "execution_count": 788,
   "metadata": {
    "collapsed": true
   },
   "outputs": [],
   "source": [
    "pre_all_var = pd.merge(pre_all_var,pre_all,how='inner',on=['ugid'])"
   ]
  },
  {
   "cell_type": "code",
   "execution_count": 8,
   "metadata": {},
   "outputs": [
    {
     "data": {
      "text/plain": [
       "21965"
      ]
     },
     "execution_count": 8,
     "metadata": {},
     "output_type": "execute_result"
    }
   ],
   "source": [
    "len(pre_all_var)"
   ]
  },
  {
   "cell_type": "code",
   "execution_count": 790,
   "metadata": {
    "collapsed": true
   },
   "outputs": [],
   "source": [
    "pre_all_var.to_csv('../data/pre_all_fasttext.csv',index=False)"
   ]
  },
  {
   "cell_type": "code",
   "execution_count": 1,
   "metadata": {},
   "outputs": [
    {
     "ename": "NameError",
     "evalue": "name 'pre_all' is not defined",
     "output_type": "error",
     "traceback": [
      "\u001b[0;31m---------------------------------------------------------------------------\u001b[0m",
      "\u001b[0;31mNameError\u001b[0m                                 Traceback (most recent call last)",
      "\u001b[0;32m<ipython-input-1-4f1aa5020497>\u001b[0m in \u001b[0;36m<module>\u001b[0;34m()\u001b[0m\n\u001b[0;32m----> 1\u001b[0;31m \u001b[0mpre_all\u001b[0m\u001b[0;34m\u001b[0m\u001b[0m\n\u001b[0m",
      "\u001b[0;31mNameError\u001b[0m: name 'pre_all' is not defined"
     ]
    }
   ],
   "source": [
    "pre_all"
   ]
  },
  {
   "cell_type": "code",
   "execution_count": 720,
   "metadata": {
    "collapsed": true
   },
   "outputs": [],
   "source": [
    "train_p.replace('__label__0',0, inplace=True)\n",
    "train_p.replace('__label__1',1, inplace=True)"
   ]
  },
  {
   "cell_type": "code",
   "execution_count": 721,
   "metadata": {
    "collapsed": true
   },
   "outputs": [],
   "source": [
    "test_p.replace('__label__0',0, inplace=True)\n",
    "test_p.replace('__label__1',1, inplace=True)"
   ]
  },
  {
   "cell_type": "code",
   "execution_count": 781,
   "metadata": {
    "collapsed": true
   },
   "outputs": [],
   "source": [
    "pre_p.replace('__label__0',0, inplace=True)\n",
    "pre_p.replace('__label__1',1, inplace=True)"
   ]
  },
  {
   "cell_type": "code",
   "execution_count": 782,
   "metadata": {
    "collapsed": true
   },
   "outputs": [],
   "source": [
    "for i in range(len(test_p)):\n",
    "    if test_p.iat[i,0]==0:\n",
    "        test_p.iat[i,1] = 1-test_p.iat[i,1]\n",
    "for i in range(len(train_p)):\n",
    "    if train_p.iat[i,0]==0:\n",
    "        train_p.iat[i,1] = 1-train_p.iat[i,1]\n",
    "for i in range(len(pre_p)):\n",
    "    if pre_p.iat[i,0]==0:\n",
    "        pre_p.iat[i,1] = 1-pre_p.iat[i,1]"
   ]
  },
  {
   "cell_type": "code",
   "execution_count": 724,
   "metadata": {
    "collapsed": true
   },
   "outputs": [],
   "source": [
    "# train_true_label\n",
    "# test_p"
   ]
  },
  {
   "cell_type": "code",
   "execution_count": 725,
   "metadata": {
    "collapsed": true
   },
   "outputs": [],
   "source": [
    "# train_label = []\n",
    "train_prob = []\n",
    "for i in range(len(train_p)):\n",
    "#     train_label.append(train_p.iat[i,0])\n",
    "    train_prob.append(train_p.iat[i,1])"
   ]
  },
  {
   "cell_type": "code",
   "execution_count": 726,
   "metadata": {
    "collapsed": true
   },
   "outputs": [],
   "source": [
    "# test_label = []\n",
    "test_prob = []\n",
    "for i in range(len(test_p)):\n",
    "#     test_label.append(test_p.iat[i,0])\n",
    "    test_prob.append(test_p.iat[i,1])"
   ]
  },
  {
   "cell_type": "code",
   "execution_count": 727,
   "metadata": {
    "collapsed": true
   },
   "outputs": [],
   "source": [
    "# test_label = []\n",
    "pre_prob = []\n",
    "for i in range(len(pre_p)):\n",
    "#     test_label.append(test_p.iat[i,0])\n",
    "    pre_prob.append(pre_p.iat[i,1])"
   ]
  },
  {
   "cell_type": "code",
   "execution_count": 728,
   "metadata": {
    "collapsed": true
   },
   "outputs": [],
   "source": [
    "import numpy as np"
   ]
  },
  {
   "cell_type": "code",
   "execution_count": 729,
   "metadata": {
    "collapsed": true
   },
   "outputs": [],
   "source": [
    "train_label=np.array(train_true_label_1)\n",
    "test_label=np.array(test_true_label_1)\n",
    "pre_label=np.array(pre_true_label_1)"
   ]
  },
  {
   "cell_type": "code",
   "execution_count": 730,
   "metadata": {
    "collapsed": true
   },
   "outputs": [],
   "source": [
    "train_prob = np.array(train_prob)"
   ]
  },
  {
   "cell_type": "code",
   "execution_count": 731,
   "metadata": {},
   "outputs": [
    {
     "data": {
      "text/plain": [
       "True"
      ]
     },
     "execution_count": 731,
     "metadata": {},
     "output_type": "execute_result"
    }
   ],
   "source": [
    "len(train_label) ==len(train_prob[0:-2])"
   ]
  },
  {
   "cell_type": "code",
   "execution_count": 732,
   "metadata": {
    "collapsed": true
   },
   "outputs": [],
   "source": [
    "test_prob = np.array(test_prob)"
   ]
  },
  {
   "cell_type": "code",
   "execution_count": 733,
   "metadata": {},
   "outputs": [
    {
     "data": {
      "text/plain": [
       "True"
      ]
     },
     "execution_count": 733,
     "metadata": {},
     "output_type": "execute_result"
    }
   ],
   "source": [
    "len(test_label)==len(test_prob[0:-1])\n",
    "# test_label=test_label[0:-1]"
   ]
  },
  {
   "cell_type": "code",
   "execution_count": 734,
   "metadata": {
    "collapsed": true
   },
   "outputs": [],
   "source": [
    "test_prob=test_prob[0:-1]"
   ]
  },
  {
   "cell_type": "code",
   "execution_count": 735,
   "metadata": {
    "collapsed": true
   },
   "outputs": [],
   "source": [
    "train_prob=train_prob[0:-2]"
   ]
  },
  {
   "cell_type": "code",
   "execution_count": 736,
   "metadata": {
    "collapsed": true
   },
   "outputs": [],
   "source": [
    "pre_prob = np.array(pre_prob)"
   ]
  },
  {
   "cell_type": "code",
   "execution_count": 737,
   "metadata": {},
   "outputs": [
    {
     "data": {
      "text/plain": [
       "True"
      ]
     },
     "execution_count": 737,
     "metadata": {},
     "output_type": "execute_result"
    }
   ],
   "source": [
    "len(pre_label)==len(pre_prob)"
   ]
  },
  {
   "cell_type": "code",
   "execution_count": 738,
   "metadata": {
    "collapsed": true
   },
   "outputs": [],
   "source": [
    "ks_train = cal_ks_scipy(train_prob,train_label)"
   ]
  },
  {
   "cell_type": "code",
   "execution_count": 739,
   "metadata": {},
   "outputs": [
    {
     "data": {
      "text/plain": [
       "0.3550384896076416"
      ]
     },
     "execution_count": 739,
     "metadata": {},
     "output_type": "execute_result"
    }
   ],
   "source": [
    "ks_train"
   ]
  },
  {
   "cell_type": "code",
   "execution_count": 740,
   "metadata": {
    "collapsed": true
   },
   "outputs": [],
   "source": [
    "ks_test = cal_ks_scipy(test_prob,test_label)"
   ]
  },
  {
   "cell_type": "code",
   "execution_count": 741,
   "metadata": {
    "scrolled": false
   },
   "outputs": [
    {
     "data": {
      "text/plain": [
       "0.27404495300470694"
      ]
     },
     "execution_count": 741,
     "metadata": {},
     "output_type": "execute_result"
    }
   ],
   "source": [
    "ks_test"
   ]
  },
  {
   "cell_type": "code",
   "execution_count": 742,
   "metadata": {},
   "outputs": [
    {
     "data": {
      "text/plain": [
       "0.24190448222067745"
      ]
     },
     "execution_count": 742,
     "metadata": {},
     "output_type": "execute_result"
    }
   ],
   "source": [
    "ks_pre = cal_ks_scipy(pre_prob,pre_label)\n",
    "ks_pre"
   ]
  },
  {
   "cell_type": "code",
   "execution_count": null,
   "metadata": {
    "collapsed": true
   },
   "outputs": [],
   "source": [
    "# wget https://s3-us-west-1.amazonaws.com/fasttext-vectors/word-vectors-v2/cc.zh.300.bin.gz\n"
   ]
  },
  {
   "cell_type": "markdown",
   "metadata": {},
   "source": [
    "# train_test_split"
   ]
  },
  {
   "cell_type": "code",
   "execution_count": 290,
   "metadata": {},
   "outputs": [
    {
     "data": {
      "text/plain": [
       "37755"
      ]
     },
     "execution_count": 290,
     "metadata": {},
     "output_type": "execute_result"
    }
   ],
   "source": [
    "len(test_prob)"
   ]
  },
  {
   "cell_type": "code",
   "execution_count": 697,
   "metadata": {
    "collapsed": true
   },
   "outputs": [],
   "source": [
    "count = []\n",
    "for i in range(length):\n",
    "    count.append(i)\n"
   ]
  },
  {
   "cell_type": "code",
   "execution_count": 698,
   "metadata": {},
   "outputs": [
    {
     "data": {
      "text/plain": [
       "151034"
      ]
     },
     "execution_count": 698,
     "metadata": {},
     "output_type": "execute_result"
    }
   ],
   "source": [
    "len(count)"
   ]
  },
  {
   "cell_type": "code",
   "execution_count": 699,
   "metadata": {
    "collapsed": true
   },
   "outputs": [],
   "source": [
    "# count\n",
    "from sklearn.model_selection import train_test_split\n",
    "train, test=train_test_split(count,test_size=0.0625,random_state=2018)"
   ]
  },
  {
   "cell_type": "code",
   "execution_count": 700,
   "metadata": {},
   "outputs": [
    {
     "data": {
      "text/plain": [
       "14.99936440677966"
      ]
     },
     "execution_count": 700,
     "metadata": {},
     "output_type": "execute_result"
    }
   ],
   "source": [
    "len(train)/len(test)"
   ]
  },
  {
   "cell_type": "code",
   "execution_count": 701,
   "metadata": {
    "collapsed": true
   },
   "outputs": [],
   "source": [
    "test=sorted(test)"
   ]
  },
  {
   "cell_type": "code",
   "execution_count": 702,
   "metadata": {},
   "outputs": [
    {
     "data": {
      "text/plain": [
       "9440"
      ]
     },
     "execution_count": 702,
     "metadata": {},
     "output_type": "execute_result"
    }
   ],
   "source": [
    "# train\n",
    "len(test)"
   ]
  },
  {
   "cell_type": "code",
   "execution_count": 703,
   "metadata": {
    "collapsed": true
   },
   "outputs": [],
   "source": [
    "# len(train)"
   ]
  },
  {
   "cell_type": "code",
   "execution_count": 704,
   "metadata": {
    "collapsed": true
   },
   "outputs": [],
   "source": [
    "# fo = codecs.open('data/all_data.txt','w','utf8')\n",
    "# with codecs.open('data/fasttext_test_final.txt','r','utf8') as fi1:\n",
    "#     for i in fi1:\n",
    "#         fo.write(i)\n",
    "# fo.write('\\n')\n",
    "# with codecs.open('data/fasttext_train_final.txt','r','utf8') as fi2:\n",
    "#     for i in fi2:\n",
    "#         fo.write(i)"
   ]
  },
  {
   "cell_type": "code",
   "execution_count": 705,
   "metadata": {
    "collapsed": true
   },
   "outputs": [],
   "source": [
    "# lenhth\n",
    "length = len(train_prob)+len(test_prob)"
   ]
  },
  {
   "cell_type": "code",
   "execution_count": 706,
   "metadata": {},
   "outputs": [
    {
     "data": {
      "text/plain": [
       "151034"
      ]
     },
     "execution_count": 706,
     "metadata": {},
     "output_type": "execute_result"
    }
   ],
   "source": [
    "length"
   ]
  },
  {
   "cell_type": "code",
   "execution_count": 707,
   "metadata": {
    "collapsed": true
   },
   "outputs": [],
   "source": [
    "# COUNT\n",
    "num = 0\n",
    "fo1 = codecs.open('data/train_12_1.txt','w','utf8')\n",
    "fo2 = codecs.open('data/test_12_1.txt','w','utf8')\n",
    "with codecs.open('data/all_data.txt','r','utf8') as fi2:\n",
    "    for i in fi2:\n",
    "        if num in test:\n",
    "            fo2.write(i)\n",
    "#         count\n",
    "        else:\n",
    "            fo1.write(i)\n",
    "        num+=1\n",
    "fo1.close()\n",
    "fo2.close()"
   ]
  },
  {
   "cell_type": "code",
   "execution_count": 9,
   "metadata": {},
   "outputs": [
    {
     "ename": "NameError",
     "evalue": "name 'LGBMClassifier' is not defined",
     "output_type": "error",
     "traceback": [
      "\u001b[0;31m---------------------------------------------------------------------------\u001b[0m",
      "\u001b[0;31mNameError\u001b[0m                                 Traceback (most recent call last)",
      "\u001b[0;32m<ipython-input-9-a56a61149ed6>\u001b[0m in \u001b[0;36m<module>\u001b[0;34m()\u001b[0m\n\u001b[0;32m----> 1\u001b[0;31m LGBM_model_out = LGBMClassifier(boosting_type='gbdt', colsample_bytree=0.82622520164901361,\n\u001b[0m\u001b[1;32m      2\u001b[0m         \u001b[0mdrop_rate\u001b[0m\u001b[0;34m=\u001b[0m\u001b[0;36m0.5\u001b[0m\u001b[0;34m,\u001b[0m \u001b[0mis_unbalance\u001b[0m\u001b[0;34m=\u001b[0m\u001b[0;32mTrue\u001b[0m\u001b[0;34m,\u001b[0m\u001b[0;34m\u001b[0m\u001b[0m\n\u001b[1;32m      3\u001b[0m         \u001b[0mlearning_rate\u001b[0m\u001b[0;34m=\u001b[0m\u001b[0;36m0.025\u001b[0m\u001b[0;34m,\u001b[0m \u001b[0mmax_bin\u001b[0m\u001b[0;34m=\u001b[0m\u001b[0;36m4\u001b[0m\u001b[0;34m,\u001b[0m \u001b[0mmax_depth\u001b[0m\u001b[0;34m=\u001b[0m\u001b[0;36m3\u001b[0m\u001b[0;34m,\u001b[0m\u001b[0;34m\u001b[0m\u001b[0m\n\u001b[1;32m      4\u001b[0m         \u001b[0mmax_drop\u001b[0m\u001b[0;34m=\u001b[0m\u001b[0;36m50\u001b[0m\u001b[0;34m,\u001b[0m \u001b[0mmin_child_samples\u001b[0m\u001b[0;34m=\u001b[0m\u001b[0;36m120\u001b[0m\u001b[0;34m,\u001b[0m \u001b[0mmin_child_weight\u001b[0m\u001b[0;34m=\u001b[0m\u001b[0;36m3\u001b[0m\u001b[0;34m,\u001b[0m\u001b[0;34m\u001b[0m\u001b[0m\n\u001b[1;32m      5\u001b[0m         \u001b[0mmin_split_gain\u001b[0m\u001b[0;34m=\u001b[0m\u001b[0;36m0.028\u001b[0m\u001b[0;34m,\u001b[0m \u001b[0mn_estimators\u001b[0m\u001b[0;34m=\u001b[0m\u001b[0;36m705\u001b[0m\u001b[0;34m,\u001b[0m \u001b[0mnthread\u001b[0m\u001b[0;34m=\u001b[0m\u001b[0;34m-\u001b[0m\u001b[0;36m1\u001b[0m\u001b[0;34m,\u001b[0m\u001b[0;34m\u001b[0m\u001b[0m\n",
      "\u001b[0;31mNameError\u001b[0m: name 'LGBMClassifier' is not defined"
     ]
    }
   ],
   "source": [
    "LGBM_model_out = LGBMClassifier(boosting_type='gbdt', colsample_bytree=0.82622520164901361,\n",
    "        drop_rate=0.5, is_unbalance=True,\n",
    "        learning_rate=0.025, max_bin=4, max_depth=3,\n",
    "        max_drop=50, min_child_samples=120, min_child_weight=3,\n",
    "        min_split_gain=0.028, n_estimators=705, nthread=-1,\n",
    "        num_leaves=128, objective='binary', reg_alpha=30, reg_lambda=150,\n",
    "        scale_pos_weight=1, seed=27, sigmoid=1.0, silent=True,\n",
    "        skip_drop=0.5, subsample=0.7, subsample_for_bin=30000,\n",
    "        subsample_freq=3, uniform_drop=False, xgboost_dart_mode=False)"
   ]
  },
  {
   "cell_type": "code",
   "execution_count": null,
   "metadata": {
    "collapsed": true
   },
   "outputs": [],
   "source": []
  }
 ],
 "metadata": {
  "kernelspec": {
   "display_name": "Python 3",
   "language": "python",
   "name": "python3"
  },
  "language_info": {
   "codemirror_mode": {
    "name": "ipython",
    "version": 3
   },
   "file_extension": ".py",
   "mimetype": "text/x-python",
   "name": "python",
   "nbconvert_exporter": "python",
   "pygments_lexer": "ipython3",
   "version": "3.6.1"
  }
 },
 "nbformat": 4,
 "nbformat_minor": 2
}
