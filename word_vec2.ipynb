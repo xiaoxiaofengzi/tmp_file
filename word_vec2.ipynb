{
 "cells": [
  {
   "cell_type": "code",
   "execution_count": 1,
   "metadata": {},
   "outputs": [
    {
     "name": "stdout",
     "output_type": "stream",
     "text": [
      "/data/work/lvjinwei/work/nlp/fasttext/yinniText/text_model/method5\r\n"
     ]
    }
   ],
   "source": [
    "!pwd"
   ]
  },
  {
   "cell_type": "code",
   "execution_count": 1,
   "metadata": {},
   "outputs": [
    {
     "name": "stderr",
     "output_type": "stream",
     "text": [
      "/opt/anaconda3/lib/python3.6/site-packages/h5py/__init__.py:36: FutureWarning: Conversion of the second argument of issubdtype from `float` to `np.floating` is deprecated. In future, it will be treated as `np.float64 == np.dtype(float).type`.\n",
      "  from ._conv import register_converters as _register_converters\n",
      "Using TensorFlow backend.\n"
     ]
    }
   ],
   "source": [
    "import numpy as np\n",
    "import logging\n",
    "import gensim\n",
    "import datetime\n",
    "import pandas as pd\n",
    "import fastText\n",
    "from sklearn.model_selection import train_test_split\n",
    "from sklearn.metrics import *\n",
    "from project_demo.tools.dbUtil import *\n",
    "from project_demo.tools.multi_apply import *\n",
    "from project_demo.tools.timeParse import *\n",
    "from project_demo.tools.evaluate import *\n",
    "import csv\n",
    "import sys\n",
    "sys.path.append('../../')\n",
    "from Utils.utils import *\n",
    "from Utils.TextClass import *\n",
    "\n",
    "def is_zeros(array):\n",
    "    flag = True\n",
    "    for i in array:\n",
    "        if i != 0:\n",
    "            flag = False\n",
    "            break\n",
    "    return flag\n",
    "\n",
    "def get_vector_mean(content):\n",
    "    word_list = content.split(' ')\n",
    "    vector_list = [model.get_word_vector(w) for w in word_list]\n",
    "    vector_list_new = np.array(list(filter(lambda x: not is_zeros(x),vector_list)))\n",
    "    vector = np.array(vector_list_new).sum(axis=0)/np.array(vector_list_new).shape[0]\n",
    "    if type(vector) == np.float64:\n",
    "        vector = [np.nan]*100\n",
    "    return vector\n",
    "    \n",
    "\n",
    "def vector_feature(dataset,get_vector):\n",
    "    vector_list = list(map(lambda x: get_vector(x), dataset['content']))\n",
    "    datavec = pd.DataFrame(vector_list)\n",
    "    return datavec"
   ]
  },
  {
   "cell_type": "code",
   "execution_count": 2,
   "metadata": {
    "collapsed": true
   },
   "outputs": [],
   "source": [
    "train = pd.read_csv('./train_seg.tsv',sep='\\t')\n",
    "test = pd.read_csv('./test_seg.tsv',sep='\\t')\n",
    "vaild = pd.read_csv('./valid_seg.tsv',sep='\\t')"
   ]
  },
  {
   "cell_type": "code",
   "execution_count": 5,
   "metadata": {
    "collapsed": true
   },
   "outputs": [],
   "source": [
    "model = fastText.train_unsupervised(\"train_fasttext.tsv\", epoch=10, dim=100, lr=0.08, \n",
    "                                    wordNgrams=2, verbose=2, minCount=2\n",
    "                                    pretrainedVectors=\"/data/work/wangkai1/yinnibr/text_model/pretrain/wiki.id.vec\")"
   ]
  },
  {
   "cell_type": "code",
   "execution_count": 31,
   "metadata": {
    "collapsed": true
   },
   "outputs": [],
   "source": [
    "train_datavec=vector_feature(train,get_vector_mean)\n",
    "test_datavec=vector_feature(test,get_vector_mean)\n",
    "vaild_datavec=vector_feature(vaild,get_vector_mean)\n",
    "train_datavec['target'] = train['target']\n",
    "test_datavec['target'] = test['target']\n",
    "vaild_datavec['target'] = vaild['target']"
   ]
  },
  {
   "cell_type": "markdown",
   "metadata": {},
   "source": [
    "lgbm:"
   ]
  },
  {
   "cell_type": "code",
   "execution_count": 32,
   "metadata": {},
   "outputs": [
    {
     "name": "stderr",
     "output_type": "stream",
     "text": [
      "DEBUG:matplotlib.backends:backend module://ipykernel.pylab.backend_inline version unknown\n"
     ]
    }
   ],
   "source": [
    "from sklearn import metrics\n",
    "from scipy.stats import ks_2samp\n",
    "from lightgbm import LGBMClassifier\n",
    "from sklearn.model_selection import train_test_split\n",
    "from datetime import datetime\n",
    "from sklearn_pandas import DataFrameMapper\n",
    "from sklearn.preprocessing import LabelBinarizer\n",
    "from sklearn2pmml.decoration import CategoricalDomain, ContinuousDomain\n",
    "from sklearn2pmml import PMMLPipeline\n",
    "from project_demo.tools.evaluate import *\n",
    "from project_demo.tools.optimize import *\n",
    "from bayes_opt import BayesianOptimization\n",
    "import time\n",
    "import pandas as pd\n",
    "import numpy as np\n",
    "from sklearn.externals import joblib\n",
    "import pickle\n",
    "%matplotlib inline"
   ]
  },
  {
   "cell_type": "code",
   "execution_count": 33,
   "metadata": {
    "collapsed": true
   },
   "outputs": [],
   "source": [
    "def modelWithCv(model, x_array, y_array, cv=5):\n",
    "    model.fit(x_array, y_array)\n",
    "    \n",
    "    dtrain_predictions = model.predict(x_array)\n",
    "    dtrain_predprob = model.predict_proba(x_array)[:,1]\n",
    "    \n",
    "    print(\"--AUC Score (Train): %f\" % metrics.roc_auc_score(y_array, dtrain_predprob))\n",
    "    print (\"class metrics:\")\n",
    "    print (metrics.classification_report(y_array, dtrain_predictions))\n",
    "    \n",
    "    cv_score = cross_val_score(model,x_array, y_array, cv=cv, scoring = 'roc_auc')\n",
    "    print(\"--CV Score : Mean - %.7g | Std - %.7g | Min - %.7g | Max - %.7g\" %(np.mean(cv_score), np.std(cv_score), np.min(cv_score), np.max(cv_score)))\n",
    "\n",
    "def auc_ks(model, dataframemapper, trainset, testset, varlist,train_only=False):\n",
    "    if train_only == False:\n",
    "        df_test=dataframemapper.transform(testset)\n",
    "        predprob = pd.DataFrame(model.predict_proba(df_test[varlist])[:,1], columns = ['predprob'])\n",
    "        predprob['ytrue'] = testset['target'].values\n",
    "        auc = metrics.roc_auc_score(y_score=predprob['predprob'], y_true=predprob['ytrue'])\n",
    "        print('AUC On Test is: {}'.format(auc))\n",
    "        print('KS On Test is: {}'.format(cal_ks_scipy(predprob['predprob'], predprob['ytrue'])))\n",
    "    \n",
    "    df_train=dataframemapper.transform(trainset)\n",
    "    predprob = pd.DataFrame(model.predict_proba(df_train[varlist])[:,1], columns = ['predprob'])\n",
    "    predprob['ytrue'] = trainset['target'].values\n",
    "    auc = metrics.roc_auc_score(y_score=predprob['predprob'], y_true=predprob['ytrue'])\n",
    "    print('AUC On Train is: {}'.format(auc))\n",
    "    print('KS On Train is: {}'.format(cal_ks_scipy(predprob['predprob'], predprob['ytrue'])))\n",
    "    \n",
    "def continuous_categorical(dataset):\n",
    "    '''diff continuous and categorical\n",
    "        \n",
    "    '''\n",
    "    continuousDomain = [] # float int\n",
    "    categoricalDomain = [] # object bool category\n",
    "\n",
    "    for item in dataset.columns:\n",
    "        if (dataset[item].dtypes == object)| (dataset[item].dtypes == bool):\n",
    "            categoricalDomain.append(item)\n",
    "            dataset[item] = dataset[item].astype(str)\n",
    "        elif item!='target':\n",
    "            continuousDomain.append(item)\n",
    "            dataset[item] = dataset[item]\n",
    "    print (categoricalDomain)\n",
    "    return continuousDomain,categoricalDomain"
   ]
  },
  {
   "cell_type": "code",
   "execution_count": 34,
   "metadata": {},
   "outputs": [
    {
     "name": "stdout",
     "output_type": "stream",
     "text": [
      "[]\n"
     ]
    }
   ],
   "source": [
    "train_datavec.replace(np.nan,-1 ,inplace=True)\n",
    "\n",
    "continuousDomain, categoricalDomain = continuous_categorical(train_datavec)\n",
    "\n",
    "test_datavec.replace(np.nan,-1 ,inplace=True)\n",
    "\n",
    "vaild_datavec.replace(np.nan,-1 ,inplace=True)\n",
    "\n",
    "dfm = DataFrameMapper([(c, [CategoricalDomain(invalid_value_treatment = 'as_missing',\n",
    "                                              missing_value_treatment = 'as_value',\n",
    "                                              missing_value_replacement = 'N/A'), LabelBinarizer()])\n",
    "                       for c in categoricalDomain] \n",
    "                      + \n",
    "                     [(c, [ContinuousDomain(invalid_value_treatment = 'as_missing',\n",
    "                                                     missing_value_treatment = 'as_value',\n",
    "                                                     missing_value_replacement = -1)])\n",
    "                      for c in continuousDomain]\n",
    "                      ,df_out = True)\n",
    "\n",
    "dfm.fit(train_datavec)\n",
    "\n",
    "X_train_datavec = dfm.transform(train_datavec)\n",
    "y_train_datavec = train_datavec['target']"
   ]
  },
  {
   "cell_type": "code",
   "execution_count": 35,
   "metadata": {
    "collapsed": true
   },
   "outputs": [],
   "source": [
    "model = LGBMClassifier(boosting_type='gbdt', colsample_bytree=0.8,\n",
    "        drop_rate=0.1, is_unbalance=True,\n",
    "        learning_rate=0.01, max_bin=10, max_depth=4,\n",
    "        max_drop=5, min_child_samples=300, min_child_weight=50,\n",
    "        min_split_gain=3.5, n_estimators=800, nthread=-1,\n",
    "        num_leaves=8, objective='binary', reg_alpha=1, reg_lambda=200,\n",
    "        scale_pos_weight=1, seed=27, sigmoid=1.0, silent=True,\n",
    "        skip_drop=0.5, subsample=0.7, subsample_for_bin=1000,\n",
    "        subsample_freq=2, uniform_drop=False, xgboost_dart_mode=False)"
   ]
  },
  {
   "cell_type": "code",
   "execution_count": 36,
   "metadata": {},
   "outputs": [
    {
     "name": "stderr",
     "output_type": "stream",
     "text": [
      "/opt/anaconda3/lib/python3.6/site-packages/sklearn/preprocessing/label.py:151: DeprecationWarning: The truth value of an empty array is ambiguous. Returning False, but in future this will result in an error. Use `array.size > 0` to check that an array is not empty.\n",
      "  if diff:\n"
     ]
    },
    {
     "name": "stdout",
     "output_type": "stream",
     "text": [
      "--AUC Score (Train): 0.681562\n",
      "class metrics:\n",
      "             precision    recall  f1-score   support\n",
      "\n",
      "          0       0.36      0.66      0.47      5796\n",
      "          1       0.84      0.60      0.70     17223\n",
      "\n",
      "avg / total       0.72      0.62      0.64     23019\n",
      "\n",
      "--CV Score : Mean - 0.6382155 | Std - 0.004562738 | Min - 0.6336527 | Max - 0.6427782\n",
      "AUC On Test is: 0.6380702351166486\n",
      "KS On Test is: 0.21621183013588074\n",
      "AUC On Train is: 0.6815617313135168\n",
      "KS On Train is: 0.2669845164676394\n",
      "AUC On Test is: 0.6372969537058191\n",
      "KS On Test is: 0.20111636119207066\n",
      "AUC On Train is: 0.6815617313135168\n",
      "KS On Train is: 0.2669845164676394\n",
      "CPU times: user 8min 52s, sys: 31.5 s, total: 9min 23s\n",
      "Wall time: 13.7 s\n"
     ]
    }
   ],
   "source": [
    "%%time\n",
    "modelWithCv(model, X_train_datavec, y_train_datavec, 2)\n",
    "\n",
    "varlist=X_train_datavec.columns\n",
    "\n",
    "auc_ks(model, dfm, train_datavec, test_datavec, varlist)\n",
    "\n",
    "auc_ks(model, dfm, train_datavec, vaild_datavec, varlist)"
   ]
  }
 ],
 "metadata": {
  "anaconda-cloud": {},
  "kernelspec": {
   "display_name": "Python 3",
   "language": "python",
   "name": "python3"
  },
  "language_info": {
   "codemirror_mode": {
    "name": "ipython",
    "version": 3
   },
   "file_extension": ".py",
   "mimetype": "text/x-python",
   "name": "python",
   "nbconvert_exporter": "python",
   "pygments_lexer": "ipython3",
   "version": "3.6.3"
  }
 },
 "nbformat": 4,
 "nbformat_minor": 2
}
